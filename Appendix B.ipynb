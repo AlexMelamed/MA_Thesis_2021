{
 "cells": [
  {
   "cell_type": "code",
   "execution_count": 1,
   "metadata": {},
   "outputs": [],
   "source": [
    "#for beep on completion\n",
    "import winsound\n",
    "duration = 1500  # milliseconds\n",
    "freq = 400  # Hz\n",
    "\n",
    "#winsound.Beep(freq, duration)"
   ]
  },
  {
   "cell_type": "code",
   "execution_count": 2,
   "metadata": {},
   "outputs": [
    {
     "name": "stderr",
     "output_type": "stream",
     "text": [
      "C:\\Users\\acmel\\Anaconda3\\lib\\site-packages\\spacy\\util.py:271: UserWarning: [W031] Model 'en_core_web_sm' (2.2.0) requires spaCy v2.2 and is incompatible with the current spaCy version (2.3.0). This may lead to unexpected results or runtime errors. To resolve this, download a newer compatible model or retrain your custom model with the current spaCy version. For more details and available updates, run: python -m spacy validate\n",
      "  warnings.warn(warn_msg)\n"
     ]
    }
   ],
   "source": [
    "import lucem_illud_2020\n",
    "import os \n",
    "import pandas as pd\n",
    "import pickle"
   ]
  },
  {
   "cell_type": "code",
   "execution_count": 3,
   "metadata": {},
   "outputs": [],
   "source": [
    "import lucem_illud_2020 #pip install git+git://github.com/Computational-Content-Analysis-2020/lucem_illud_2020.git\n",
    "\n",
    "#All these packages need to be installed from pip\n",
    "import requests #for http requests\n",
    "import pandas as pd #gives us DataFrames\n",
    "import matplotlib.pyplot as plt #For graphics\n",
    "import wordcloud #Makes word clouds\n",
    "import numpy as np #For divergences/distances\n",
    "import scipy #For divergences/distances\n",
    "import seaborn as sns #makes our plots look nicer\n",
    "import sklearn.manifold #For a manifold plot\n",
    "import json #For API responses\n",
    "import urllib.parse #For joining urls\n",
    "\n",
    "# comp-linguistics\n",
    "import spacy\n",
    "\n",
    "#Displays the graphs\n",
    "import graphviz #You also need to install the command line graphviz\n",
    "\n",
    "#These are from the standard library\n",
    "import os.path\n",
    "import zipfile\n",
    "import subprocess\n",
    "import io\n",
    "import tempfile\n",
    "\n",
    "#This 'magic' command makes the plots work better\n",
    "#in the notebook, don't use it outside of a notebook\n",
    "%matplotlib inline"
   ]
  },
  {
   "cell_type": "code",
   "execution_count": 4,
   "metadata": {},
   "outputs": [
    {
     "name": "stderr",
     "output_type": "stream",
     "text": [
      "C:\\Users\\acmel\\Anaconda3\\lib\\site-packages\\spacy\\util.py:271: UserWarning: [W031] Model 'en_core_web_sm' (2.2.0) requires spaCy v2.2 and is incompatible with the current spaCy version (2.3.0). This may lead to unexpected results or runtime errors. To resolve this, download a newer compatible model or retrain your custom model with the current spaCy version. For more details and available updates, run: python -m spacy validate\n",
      "  warnings.warn(warn_msg)\n"
     ]
    }
   ],
   "source": [
    "from nltk import sent_tokenize, word_tokenize, pos_tag\n",
    "import spacy\n",
    "nlp = spacy.load(\"en_core_web_sm\")\n",
    "#nlp = spacy.load(\"en\")\n",
    "import numpy as np\n",
    "import matplotlib"
   ]
  },
  {
   "cell_type": "code",
   "execution_count": 5,
   "metadata": {},
   "outputs": [
    {
     "name": "stdout",
     "output_type": "stream",
     "text": [
      "3.2.1\n"
     ]
    }
   ],
   "source": [
    "import matplotlib.pyplot as plt\n",
    "import matplotlib.patches as patches\n",
    "import matplotlib.font_manager as font_manager\n",
    "print(matplotlib.__version__)"
   ]
  },
  {
   "cell_type": "code",
   "execution_count": 6,
   "metadata": {},
   "outputs": [],
   "source": [
    "nlp = spacy.load(\"en_core_web_sm\")\n",
    "#nlp = spacy.load(\"en\")"
   ]
  },
  {
   "cell_type": "markdown",
   "metadata": {},
   "source": [
    "### UPDATING Corpus1f.csv FILE AND DATAFRAME ###\n",
    "\n",
    "#concattenating the csv files in the corpus\n",
    "import glob\n",
    "path = r'C:\\Users\\acmel\\OneDrive - The University of Chicago\\Documents\\Computational Content Analysis\\SOCI_FINAL\\Corpus1a'\n",
    "all_files = glob.iglob(os.path.join(path, \"*.csv\")) \n",
    "df = pd.concat((pd.read_csv(f).assign(filename = f.replace(path+'\\\\', \"\")) for f in all_files), ignore_index=True).drop_duplicates(keep='last')\n",
    "\n",
    "#removing the $ signs from the Reward column\n",
    "df['Reward'] = df['Reward'].map(lambda x: x.lstrip(r'd\\$'))\n",
    "\n",
    "#saving the corpus csv \n",
    "df.to_csv(r'C:\\Users\\acmel\\Anaconda3\\Code\\Corpus1f.csv', index = 0)\n",
    "df"
   ]
  },
  {
   "cell_type": "code",
   "execution_count": 7,
   "metadata": {},
   "outputs": [
    {
     "data": {
      "text/html": [
       "<div>\n",
       "<style scoped>\n",
       "    .dataframe tbody tr th:only-of-type {\n",
       "        vertical-align: middle;\n",
       "    }\n",
       "\n",
       "    .dataframe tbody tr th {\n",
       "        vertical-align: top;\n",
       "    }\n",
       "\n",
       "    .dataframe thead th {\n",
       "        text-align: right;\n",
       "    }\n",
       "</style>\n",
       "<table border=\"1\" class=\"dataframe\">\n",
       "  <thead>\n",
       "    <tr style=\"text-align: right;\">\n",
       "      <th></th>\n",
       "      <th>Requester</th>\n",
       "      <th>Title</th>\n",
       "      <th>HITs</th>\n",
       "      <th>Reward</th>\n",
       "      <th>filename</th>\n",
       "    </tr>\n",
       "  </thead>\n",
       "  <tbody>\n",
       "    <tr>\n",
       "      <th>0</th>\n",
       "      <td>Yixin Nie</td>\n",
       "      <td>Inference from the Text!</td>\n",
       "      <td>76</td>\n",
       "      <td>0.12</td>\n",
       "      <td>3-09_9-40.csv</td>\n",
       "    </tr>\n",
       "    <tr>\n",
       "      <th>1</th>\n",
       "      <td>Sharmishtha Gupta</td>\n",
       "      <td>Watch TV clips and see if it's changing to/fro...</td>\n",
       "      <td>2</td>\n",
       "      <td>0.05</td>\n",
       "      <td>3-09_9-40.csv</td>\n",
       "    </tr>\n",
       "    <tr>\n",
       "      <th>2</th>\n",
       "      <td>Panel</td>\n",
       "      <td>Extract purchased items from a shopping receip...</td>\n",
       "      <td>175</td>\n",
       "      <td>0.01</td>\n",
       "      <td>3-09_9-40.csv</td>\n",
       "    </tr>\n",
       "    <tr>\n",
       "      <th>3</th>\n",
       "      <td>Panel</td>\n",
       "      <td>Extract purchased items from a shopping receipt</td>\n",
       "      <td>3,327</td>\n",
       "      <td>0.08</td>\n",
       "      <td>3-09_9-40.csv</td>\n",
       "    </tr>\n",
       "    <tr>\n",
       "      <th>4</th>\n",
       "      <td>Panel</td>\n",
       "      <td>Extract purchased items from a shopping receip...</td>\n",
       "      <td>99</td>\n",
       "      <td>0.01</td>\n",
       "      <td>3-09_9-40.csv</td>\n",
       "    </tr>\n",
       "    <tr>\n",
       "      <th>...</th>\n",
       "      <td>...</td>\n",
       "      <td>...</td>\n",
       "      <td>...</td>\n",
       "      <td>...</td>\n",
       "      <td>...</td>\n",
       "    </tr>\n",
       "    <tr>\n",
       "      <th>71003</th>\n",
       "      <td>LSAN</td>\n",
       "      <td>Answer a survey about faces and emotions.</td>\n",
       "      <td>1</td>\n",
       "      <td>0.35</td>\n",
       "      <td>3-22_4-00.csv</td>\n",
       "    </tr>\n",
       "    <tr>\n",
       "      <th>71004</th>\n",
       "      <td>Clic2Buy</td>\n",
       "      <td>Sélectionner les meilleures informations pour ...</td>\n",
       "      <td>30</td>\n",
       "      <td>0.05</td>\n",
       "      <td>3-22_4-00.csv</td>\n",
       "    </tr>\n",
       "    <tr>\n",
       "      <th>71005</th>\n",
       "      <td>Clic2Buy</td>\n",
       "      <td>Sélectionner les meilleures informations pour ...</td>\n",
       "      <td>54</td>\n",
       "      <td>0.04</td>\n",
       "      <td>3-22_4-00.csv</td>\n",
       "    </tr>\n",
       "    <tr>\n",
       "      <th>71006</th>\n",
       "      <td>Clic2Buy</td>\n",
       "      <td>Sélectionner les meilleures informations pour ...</td>\n",
       "      <td>52</td>\n",
       "      <td>0.03</td>\n",
       "      <td>3-22_4-00.csv</td>\n",
       "    </tr>\n",
       "    <tr>\n",
       "      <th>71007</th>\n",
       "      <td>Clic2Buy</td>\n",
       "      <td>Sélectionner les meilleures informations pour ...</td>\n",
       "      <td>86</td>\n",
       "      <td>0.02</td>\n",
       "      <td>3-22_4-00.csv</td>\n",
       "    </tr>\n",
       "  </tbody>\n",
       "</table>\n",
       "<p>71008 rows × 5 columns</p>\n",
       "</div>"
      ],
      "text/plain": [
       "               Requester                                              Title  \\\n",
       "0              Yixin Nie                           Inference from the Text!   \n",
       "1      Sharmishtha Gupta  Watch TV clips and see if it's changing to/fro...   \n",
       "2                  Panel  Extract purchased items from a shopping receip...   \n",
       "3                  Panel    Extract purchased items from a shopping receipt   \n",
       "4                  Panel  Extract purchased items from a shopping receip...   \n",
       "...                  ...                                                ...   \n",
       "71003               LSAN          Answer a survey about faces and emotions.   \n",
       "71004           Clic2Buy  Sélectionner les meilleures informations pour ...   \n",
       "71005           Clic2Buy  Sélectionner les meilleures informations pour ...   \n",
       "71006           Clic2Buy  Sélectionner les meilleures informations pour ...   \n",
       "71007           Clic2Buy  Sélectionner les meilleures informations pour ...   \n",
       "\n",
       "        HITs  Reward       filename  \n",
       "0         76    0.12  3-09_9-40.csv  \n",
       "1          2    0.05  3-09_9-40.csv  \n",
       "2        175    0.01  3-09_9-40.csv  \n",
       "3      3,327    0.08  3-09_9-40.csv  \n",
       "4         99    0.01  3-09_9-40.csv  \n",
       "...      ...     ...            ...  \n",
       "71003      1    0.35  3-22_4-00.csv  \n",
       "71004     30    0.05  3-22_4-00.csv  \n",
       "71005     54    0.04  3-22_4-00.csv  \n",
       "71006     52    0.03  3-22_4-00.csv  \n",
       "71007     86    0.02  3-22_4-00.csv  \n",
       "\n",
       "[71008 rows x 5 columns]"
      ]
     },
     "execution_count": 7,
     "metadata": {},
     "output_type": "execute_result"
    }
   ],
   "source": [
    "df = pd.read_csv(r'C:\\Users\\acmel\\Anaconda3\\Code\\Corpus1f.csv')\n",
    "\n",
    "#converting decimals into floats to be sorted properly\n",
    "df.Reward = df.Reward.astype(float)\n",
    "\n",
    "df"
   ]
  },
  {
   "cell_type": "code",
   "execution_count": 8,
   "metadata": {},
   "outputs": [
    {
     "data": {
      "text/html": [
       "<div>\n",
       "<style scoped>\n",
       "    .dataframe tbody tr th:only-of-type {\n",
       "        vertical-align: middle;\n",
       "    }\n",
       "\n",
       "    .dataframe tbody tr th {\n",
       "        vertical-align: top;\n",
       "    }\n",
       "\n",
       "    .dataframe thead th {\n",
       "        text-align: right;\n",
       "    }\n",
       "</style>\n",
       "<table border=\"1\" class=\"dataframe\">\n",
       "  <thead>\n",
       "    <tr style=\"text-align: right;\">\n",
       "      <th></th>\n",
       "      <th>Requester</th>\n",
       "      <th>Title</th>\n",
       "      <th>HITs</th>\n",
       "      <th>Reward</th>\n",
       "      <th>filename</th>\n",
       "    </tr>\n",
       "  </thead>\n",
       "  <tbody>\n",
       "    <tr>\n",
       "      <th>50154</th>\n",
       "      <td>ShengZhi</td>\n",
       "      <td>Write what you would say for transport card to...</td>\n",
       "      <td>1</td>\n",
       "      <td>25.00</td>\n",
       "      <td>3-19_3-00.csv</td>\n",
       "    </tr>\n",
       "    <tr>\n",
       "      <th>46777</th>\n",
       "      <td>ShengZhi</td>\n",
       "      <td>Write what you would say for transport card to...</td>\n",
       "      <td>1</td>\n",
       "      <td>25.00</td>\n",
       "      <td>3-18_8-00.csv</td>\n",
       "    </tr>\n",
       "    <tr>\n",
       "      <th>51490</th>\n",
       "      <td>ShengZhi</td>\n",
       "      <td>Write what you would say for transport card to...</td>\n",
       "      <td>1</td>\n",
       "      <td>25.00</td>\n",
       "      <td>3-19_5-00.csv</td>\n",
       "    </tr>\n",
       "    <tr>\n",
       "      <th>52157</th>\n",
       "      <td>ShengZhi</td>\n",
       "      <td>Write what you would say for transport card to...</td>\n",
       "      <td>1</td>\n",
       "      <td>25.00</td>\n",
       "      <td>3-19_6-00.csv</td>\n",
       "    </tr>\n",
       "    <tr>\n",
       "      <th>45344</th>\n",
       "      <td>ShengZhi</td>\n",
       "      <td>Write what you would say for transport card to...</td>\n",
       "      <td>1</td>\n",
       "      <td>25.00</td>\n",
       "      <td>3-18_5-00.csv</td>\n",
       "    </tr>\n",
       "    <tr>\n",
       "      <th>...</th>\n",
       "      <td>...</td>\n",
       "      <td>...</td>\n",
       "      <td>...</td>\n",
       "      <td>...</td>\n",
       "      <td>...</td>\n",
       "    </tr>\n",
       "    <tr>\n",
       "      <th>59209</th>\n",
       "      <td>Gregg Sparkman</td>\n",
       "      <td>Missed Participants. (Only for Workers who wer...</td>\n",
       "      <td>1</td>\n",
       "      <td>0.01</td>\n",
       "      <td>3-20_6-00.csv</td>\n",
       "    </tr>\n",
       "    <tr>\n",
       "      <th>59211</th>\n",
       "      <td>Stanford HCI</td>\n",
       "      <td>HIT to repay</td>\n",
       "      <td>2</td>\n",
       "      <td>0.01</td>\n",
       "      <td>3-20_6-00.csv</td>\n",
       "    </tr>\n",
       "    <tr>\n",
       "      <th>59212</th>\n",
       "      <td>UserLook</td>\n",
       "      <td>Makeup HIT for UserLook</td>\n",
       "      <td>1</td>\n",
       "      <td>0.01</td>\n",
       "      <td>3-20_6-00.csv</td>\n",
       "    </tr>\n",
       "    <tr>\n",
       "      <th>7270</th>\n",
       "      <td>Brian Hamman</td>\n",
       "      <td>Transcribe &lt;classification&gt; part numbers</td>\n",
       "      <td>12</td>\n",
       "      <td>0.01</td>\n",
       "      <td>3-11_5-00.csv</td>\n",
       "    </tr>\n",
       "    <tr>\n",
       "      <th>23008</th>\n",
       "      <td>p9r</td>\n",
       "      <td>Transcribe data</td>\n",
       "      <td>12</td>\n",
       "      <td>0.01</td>\n",
       "      <td>3-14_7-00.csv</td>\n",
       "    </tr>\n",
       "  </tbody>\n",
       "</table>\n",
       "<p>71008 rows × 5 columns</p>\n",
       "</div>"
      ],
      "text/plain": [
       "            Requester                                              Title HITs  \\\n",
       "50154        ShengZhi  Write what you would say for transport card to...    1   \n",
       "46777        ShengZhi  Write what you would say for transport card to...    1   \n",
       "51490        ShengZhi  Write what you would say for transport card to...    1   \n",
       "52157        ShengZhi  Write what you would say for transport card to...    1   \n",
       "45344        ShengZhi  Write what you would say for transport card to...    1   \n",
       "...               ...                                                ...  ...   \n",
       "59209  Gregg Sparkman  Missed Participants. (Only for Workers who wer...    1   \n",
       "59211    Stanford HCI                                       HIT to repay    2   \n",
       "59212        UserLook                            Makeup HIT for UserLook    1   \n",
       "7270     Brian Hamman           Transcribe <classification> part numbers   12   \n",
       "23008             p9r                                    Transcribe data   12   \n",
       "\n",
       "       Reward       filename  \n",
       "50154   25.00  3-19_3-00.csv  \n",
       "46777   25.00  3-18_8-00.csv  \n",
       "51490   25.00  3-19_5-00.csv  \n",
       "52157   25.00  3-19_6-00.csv  \n",
       "45344   25.00  3-18_5-00.csv  \n",
       "...       ...            ...  \n",
       "59209    0.01  3-20_6-00.csv  \n",
       "59211    0.01  3-20_6-00.csv  \n",
       "59212    0.01  3-20_6-00.csv  \n",
       "7270     0.01  3-11_5-00.csv  \n",
       "23008    0.01  3-14_7-00.csv  \n",
       "\n",
       "[71008 rows x 5 columns]"
      ]
     },
     "execution_count": 8,
     "metadata": {},
     "output_type": "execute_result"
    }
   ],
   "source": [
    "#ascending sorted\n",
    "df = df.sort_values(\"Reward\", ascending=[False])\n",
    "df"
   ]
  },
  {
   "cell_type": "markdown",
   "metadata": {},
   "source": [
    "## Top Rewards -- 0.99-1.00"
   ]
  },
  {
   "cell_type": "markdown",
   "metadata": {},
   "source": [
    "#filtering for Top 1Percentile Rewards \n",
    "df = df[df.Reward > np.percentile(df.Reward,99)]\n",
    "df"
   ]
  },
  {
   "cell_type": "markdown",
   "metadata": {},
   "source": [
    "#topRewards dataframe\n",
    "df_topRewards = df\n",
    "df_topRewards['sentences'] = df_topRewards['Title'].apply(lambda x: [word_tokenize(s) for s in sent_tokenize(x)])\n",
    "df_topRewards.index = range(len(df_topRewards) - 1, -1,-1) #Reindex to make things nice in the future\n",
    "df_topRewards.to_csv(r'C:\\Users\\acmel\\Anaconda3\\Code\\Corpus1f_TopRewards_99.csv', encoding='utf-8', index=False)\n",
    "df = df_topRewards\n",
    "df"
   ]
  },
  {
   "cell_type": "markdown",
   "metadata": {},
   "source": [
    "## POS Tagging"
   ]
  },
  {
   "cell_type": "code",
   "execution_count": 17,
   "metadata": {},
   "outputs": [
    {
     "name": "stdout",
     "output_type": "stream",
     "text": [
      "3.2.1\n"
     ]
    }
   ],
   "source": [
    "import pandas as pd\n",
    "from nltk import sent_tokenize, word_tokenize, pos_tag\n",
    "import spacy\n",
    "nlp = spacy.load(\"en_core_web_sm\")\n",
    "#nlp = spacy.load(\"en\")\n",
    "import numpy as np\n",
    "import matplotlib\n",
    "import matplotlib.pyplot as plt\n",
    "import matplotlib.patches as patches\n",
    "import matplotlib.font_manager as font_manager\n",
    "print(matplotlib.__version__)"
   ]
  },
  {
   "cell_type": "code",
   "execution_count": 11,
   "metadata": {},
   "outputs": [
    {
     "data": {
      "text/html": [
       "<div>\n",
       "<style scoped>\n",
       "    .dataframe tbody tr th:only-of-type {\n",
       "        vertical-align: middle;\n",
       "    }\n",
       "\n",
       "    .dataframe tbody tr th {\n",
       "        vertical-align: top;\n",
       "    }\n",
       "\n",
       "    .dataframe thead th {\n",
       "        text-align: right;\n",
       "    }\n",
       "</style>\n",
       "<table border=\"1\" class=\"dataframe\">\n",
       "  <thead>\n",
       "    <tr style=\"text-align: right;\">\n",
       "      <th></th>\n",
       "      <th>Requester</th>\n",
       "      <th>Title</th>\n",
       "      <th>HITs</th>\n",
       "      <th>Reward</th>\n",
       "      <th>filename</th>\n",
       "      <th>sentences</th>\n",
       "    </tr>\n",
       "  </thead>\n",
       "  <tbody>\n",
       "    <tr>\n",
       "      <th>0</th>\n",
       "      <td>ShengZhi</td>\n",
       "      <td>Write what you would say for transport card to...</td>\n",
       "      <td>1</td>\n",
       "      <td>25.00</td>\n",
       "      <td>3-19_3-00.csv</td>\n",
       "      <td>[['Write', 'what', 'you', 'would', 'say', 'for...</td>\n",
       "    </tr>\n",
       "    <tr>\n",
       "      <th>1</th>\n",
       "      <td>ShengZhi</td>\n",
       "      <td>Write what you would say for transport card to...</td>\n",
       "      <td>1</td>\n",
       "      <td>25.00</td>\n",
       "      <td>3-18_8-00.csv</td>\n",
       "      <td>[['Write', 'what', 'you', 'would', 'say', 'for...</td>\n",
       "    </tr>\n",
       "    <tr>\n",
       "      <th>2</th>\n",
       "      <td>ShengZhi</td>\n",
       "      <td>Write what you would say for transport card to...</td>\n",
       "      <td>1</td>\n",
       "      <td>25.00</td>\n",
       "      <td>3-19_5-00.csv</td>\n",
       "      <td>[['Write', 'what', 'you', 'would', 'say', 'for...</td>\n",
       "    </tr>\n",
       "    <tr>\n",
       "      <th>3</th>\n",
       "      <td>ShengZhi</td>\n",
       "      <td>Write what you would say for transport card to...</td>\n",
       "      <td>1</td>\n",
       "      <td>25.00</td>\n",
       "      <td>3-19_6-00.csv</td>\n",
       "      <td>[['Write', 'what', 'you', 'would', 'say', 'for...</td>\n",
       "    </tr>\n",
       "    <tr>\n",
       "      <th>4</th>\n",
       "      <td>ShengZhi</td>\n",
       "      <td>Write what you would say for transport card to...</td>\n",
       "      <td>1</td>\n",
       "      <td>25.00</td>\n",
       "      <td>3-18_5-00.csv</td>\n",
       "      <td>[['Write', 'what', 'you', 'would', 'say', 'for...</td>\n",
       "    </tr>\n",
       "    <tr>\n",
       "      <th>...</th>\n",
       "      <td>...</td>\n",
       "      <td>...</td>\n",
       "      <td>...</td>\n",
       "      <td>...</td>\n",
       "      <td>...</td>\n",
       "      <td>...</td>\n",
       "    </tr>\n",
       "    <tr>\n",
       "      <th>388</th>\n",
       "      <td>UserBob</td>\n",
       "      <td>Upload 25-minute screencast of a website (Busi...</td>\n",
       "      <td>1</td>\n",
       "      <td>11.75</td>\n",
       "      <td>3-13_1-00.csv</td>\n",
       "      <td>[['Upload', '25-minute', 'screencast', 'of', '...</td>\n",
       "    </tr>\n",
       "    <tr>\n",
       "      <th>389</th>\n",
       "      <td>UserBob</td>\n",
       "      <td>Upload 25-minute screencast of a website (Busi...</td>\n",
       "      <td>1</td>\n",
       "      <td>11.75</td>\n",
       "      <td>3-13_3-20.csv</td>\n",
       "      <td>[['Upload', '25-minute', 'screencast', 'of', '...</td>\n",
       "    </tr>\n",
       "    <tr>\n",
       "      <th>390</th>\n",
       "      <td>UserBob</td>\n",
       "      <td>Upload 25-minute screencast of a website (Busi...</td>\n",
       "      <td>1</td>\n",
       "      <td>11.75</td>\n",
       "      <td>3-13_12-30.csv</td>\n",
       "      <td>[['Upload', '25-minute', 'screencast', 'of', '...</td>\n",
       "    </tr>\n",
       "    <tr>\n",
       "      <th>391</th>\n",
       "      <td>UserBob</td>\n",
       "      <td>Upload 25-minute screencast of a website (Busi...</td>\n",
       "      <td>1</td>\n",
       "      <td>11.75</td>\n",
       "      <td>3-13_10-00.csv</td>\n",
       "      <td>[['Upload', '25-minute', 'screencast', 'of', '...</td>\n",
       "    </tr>\n",
       "    <tr>\n",
       "      <th>392</th>\n",
       "      <td>UserBob</td>\n",
       "      <td>Upload 25-minute screencast of a website (Busi...</td>\n",
       "      <td>1</td>\n",
       "      <td>11.75</td>\n",
       "      <td>3-12_8-00.csv</td>\n",
       "      <td>[['Upload', '25-minute', 'screencast', 'of', '...</td>\n",
       "    </tr>\n",
       "  </tbody>\n",
       "</table>\n",
       "<p>393 rows × 6 columns</p>\n",
       "</div>"
      ],
      "text/plain": [
       "    Requester                                              Title  HITs  \\\n",
       "0    ShengZhi  Write what you would say for transport card to...     1   \n",
       "1    ShengZhi  Write what you would say for transport card to...     1   \n",
       "2    ShengZhi  Write what you would say for transport card to...     1   \n",
       "3    ShengZhi  Write what you would say for transport card to...     1   \n",
       "4    ShengZhi  Write what you would say for transport card to...     1   \n",
       "..        ...                                                ...   ...   \n",
       "388   UserBob  Upload 25-minute screencast of a website (Busi...     1   \n",
       "389   UserBob  Upload 25-minute screencast of a website (Busi...     1   \n",
       "390   UserBob  Upload 25-minute screencast of a website (Busi...     1   \n",
       "391   UserBob  Upload 25-minute screencast of a website (Busi...     1   \n",
       "392   UserBob  Upload 25-minute screencast of a website (Busi...     1   \n",
       "\n",
       "     Reward        filename                                          sentences  \n",
       "0     25.00   3-19_3-00.csv  [['Write', 'what', 'you', 'would', 'say', 'for...  \n",
       "1     25.00   3-18_8-00.csv  [['Write', 'what', 'you', 'would', 'say', 'for...  \n",
       "2     25.00   3-19_5-00.csv  [['Write', 'what', 'you', 'would', 'say', 'for...  \n",
       "3     25.00   3-19_6-00.csv  [['Write', 'what', 'you', 'would', 'say', 'for...  \n",
       "4     25.00   3-18_5-00.csv  [['Write', 'what', 'you', 'would', 'say', 'for...  \n",
       "..      ...             ...                                                ...  \n",
       "388   11.75   3-13_1-00.csv  [['Upload', '25-minute', 'screencast', 'of', '...  \n",
       "389   11.75   3-13_3-20.csv  [['Upload', '25-minute', 'screencast', 'of', '...  \n",
       "390   11.75  3-13_12-30.csv  [['Upload', '25-minute', 'screencast', 'of', '...  \n",
       "391   11.75  3-13_10-00.csv  [['Upload', '25-minute', 'screencast', 'of', '...  \n",
       "392   11.75   3-12_8-00.csv  [['Upload', '25-minute', 'screencast', 'of', '...  \n",
       "\n",
       "[393 rows x 6 columns]"
      ]
     },
     "execution_count": 11,
     "metadata": {},
     "output_type": "execute_result"
    }
   ],
   "source": [
    "df = pd.read_csv(r'C:\\Users\\acmel\\Anaconda3\\Code\\Corpus1f_TopRewards_99.csv')\n",
    "df"
   ]
  },
  {
   "cell_type": "code",
   "execution_count": 12,
   "metadata": {},
   "outputs": [
    {
     "data": {
      "text/html": [
       "<div>\n",
       "<style scoped>\n",
       "    .dataframe tbody tr th:only-of-type {\n",
       "        vertical-align: middle;\n",
       "    }\n",
       "\n",
       "    .dataframe tbody tr th {\n",
       "        vertical-align: top;\n",
       "    }\n",
       "\n",
       "    .dataframe thead th {\n",
       "        text-align: right;\n",
       "    }\n",
       "</style>\n",
       "<table border=\"1\" class=\"dataframe\">\n",
       "  <thead>\n",
       "    <tr style=\"text-align: right;\">\n",
       "      <th></th>\n",
       "      <th>Requester</th>\n",
       "      <th>Title</th>\n",
       "      <th>HITs</th>\n",
       "      <th>Reward</th>\n",
       "      <th>filename</th>\n",
       "      <th>sentences</th>\n",
       "      <th>tokenized_text</th>\n",
       "      <th>normalized_text</th>\n",
       "    </tr>\n",
       "  </thead>\n",
       "  <tbody>\n",
       "    <tr>\n",
       "      <th>0</th>\n",
       "      <td>ShengZhi</td>\n",
       "      <td>Write what you would say for transport card to...</td>\n",
       "      <td>1</td>\n",
       "      <td>25.00</td>\n",
       "      <td>3-19_3-00.csv</td>\n",
       "      <td>[['Write', 'what', 'you', 'would', 'say', 'for...</td>\n",
       "      <td>[Write, what, you, would, say, for, transport,...</td>\n",
       "      <td>[write, transport, card, phone]</td>\n",
       "    </tr>\n",
       "    <tr>\n",
       "      <th>1</th>\n",
       "      <td>ShengZhi</td>\n",
       "      <td>Write what you would say for transport card to...</td>\n",
       "      <td>1</td>\n",
       "      <td>25.00</td>\n",
       "      <td>3-18_8-00.csv</td>\n",
       "      <td>[['Write', 'what', 'you', 'would', 'say', 'for...</td>\n",
       "      <td>[Write, what, you, would, say, for, transport,...</td>\n",
       "      <td>[write, transport, card, phone]</td>\n",
       "    </tr>\n",
       "    <tr>\n",
       "      <th>2</th>\n",
       "      <td>ShengZhi</td>\n",
       "      <td>Write what you would say for transport card to...</td>\n",
       "      <td>1</td>\n",
       "      <td>25.00</td>\n",
       "      <td>3-19_5-00.csv</td>\n",
       "      <td>[['Write', 'what', 'you', 'would', 'say', 'for...</td>\n",
       "      <td>[Write, what, you, would, say, for, transport,...</td>\n",
       "      <td>[write, transport, card, phone]</td>\n",
       "    </tr>\n",
       "    <tr>\n",
       "      <th>3</th>\n",
       "      <td>ShengZhi</td>\n",
       "      <td>Write what you would say for transport card to...</td>\n",
       "      <td>1</td>\n",
       "      <td>25.00</td>\n",
       "      <td>3-19_6-00.csv</td>\n",
       "      <td>[['Write', 'what', 'you', 'would', 'say', 'for...</td>\n",
       "      <td>[Write, what, you, would, say, for, transport,...</td>\n",
       "      <td>[write, transport, card, phone]</td>\n",
       "    </tr>\n",
       "    <tr>\n",
       "      <th>4</th>\n",
       "      <td>ShengZhi</td>\n",
       "      <td>Write what you would say for transport card to...</td>\n",
       "      <td>1</td>\n",
       "      <td>25.00</td>\n",
       "      <td>3-18_5-00.csv</td>\n",
       "      <td>[['Write', 'what', 'you', 'would', 'say', 'for...</td>\n",
       "      <td>[Write, what, you, would, say, for, transport,...</td>\n",
       "      <td>[write, transport, card, phone]</td>\n",
       "    </tr>\n",
       "    <tr>\n",
       "      <th>...</th>\n",
       "      <td>...</td>\n",
       "      <td>...</td>\n",
       "      <td>...</td>\n",
       "      <td>...</td>\n",
       "      <td>...</td>\n",
       "      <td>...</td>\n",
       "      <td>...</td>\n",
       "      <td>...</td>\n",
       "    </tr>\n",
       "    <tr>\n",
       "      <th>388</th>\n",
       "      <td>UserBob</td>\n",
       "      <td>Upload 25-minute screencast of a website (Busi...</td>\n",
       "      <td>1</td>\n",
       "      <td>11.75</td>\n",
       "      <td>3-13_1-00.csv</td>\n",
       "      <td>[['Upload', '25-minute', 'screencast', 'of', '...</td>\n",
       "      <td>[Upload, 25-minute, screencast, of, a, website...</td>\n",
       "      <td>[upload, 25-minute, screencast, website, busin...</td>\n",
       "    </tr>\n",
       "    <tr>\n",
       "      <th>389</th>\n",
       "      <td>UserBob</td>\n",
       "      <td>Upload 25-minute screencast of a website (Busi...</td>\n",
       "      <td>1</td>\n",
       "      <td>11.75</td>\n",
       "      <td>3-13_3-20.csv</td>\n",
       "      <td>[['Upload', '25-minute', 'screencast', 'of', '...</td>\n",
       "      <td>[Upload, 25-minute, screencast, of, a, website...</td>\n",
       "      <td>[upload, 25-minute, screencast, website, busin...</td>\n",
       "    </tr>\n",
       "    <tr>\n",
       "      <th>390</th>\n",
       "      <td>UserBob</td>\n",
       "      <td>Upload 25-minute screencast of a website (Busi...</td>\n",
       "      <td>1</td>\n",
       "      <td>11.75</td>\n",
       "      <td>3-13_12-30.csv</td>\n",
       "      <td>[['Upload', '25-minute', 'screencast', 'of', '...</td>\n",
       "      <td>[Upload, 25-minute, screencast, of, a, website...</td>\n",
       "      <td>[upload, 25-minute, screencast, website, busin...</td>\n",
       "    </tr>\n",
       "    <tr>\n",
       "      <th>391</th>\n",
       "      <td>UserBob</td>\n",
       "      <td>Upload 25-minute screencast of a website (Busi...</td>\n",
       "      <td>1</td>\n",
       "      <td>11.75</td>\n",
       "      <td>3-13_10-00.csv</td>\n",
       "      <td>[['Upload', '25-minute', 'screencast', 'of', '...</td>\n",
       "      <td>[Upload, 25-minute, screencast, of, a, website...</td>\n",
       "      <td>[upload, 25-minute, screencast, website, busin...</td>\n",
       "    </tr>\n",
       "    <tr>\n",
       "      <th>392</th>\n",
       "      <td>UserBob</td>\n",
       "      <td>Upload 25-minute screencast of a website (Busi...</td>\n",
       "      <td>1</td>\n",
       "      <td>11.75</td>\n",
       "      <td>3-12_8-00.csv</td>\n",
       "      <td>[['Upload', '25-minute', 'screencast', 'of', '...</td>\n",
       "      <td>[Upload, 25-minute, screencast, of, a, website...</td>\n",
       "      <td>[upload, 25-minute, screencast, website, busin...</td>\n",
       "    </tr>\n",
       "  </tbody>\n",
       "</table>\n",
       "<p>393 rows × 8 columns</p>\n",
       "</div>"
      ],
      "text/plain": [
       "    Requester                                              Title  HITs  \\\n",
       "0    ShengZhi  Write what you would say for transport card to...     1   \n",
       "1    ShengZhi  Write what you would say for transport card to...     1   \n",
       "2    ShengZhi  Write what you would say for transport card to...     1   \n",
       "3    ShengZhi  Write what you would say for transport card to...     1   \n",
       "4    ShengZhi  Write what you would say for transport card to...     1   \n",
       "..        ...                                                ...   ...   \n",
       "388   UserBob  Upload 25-minute screencast of a website (Busi...     1   \n",
       "389   UserBob  Upload 25-minute screencast of a website (Busi...     1   \n",
       "390   UserBob  Upload 25-minute screencast of a website (Busi...     1   \n",
       "391   UserBob  Upload 25-minute screencast of a website (Busi...     1   \n",
       "392   UserBob  Upload 25-minute screencast of a website (Busi...     1   \n",
       "\n",
       "     Reward        filename  \\\n",
       "0     25.00   3-19_3-00.csv   \n",
       "1     25.00   3-18_8-00.csv   \n",
       "2     25.00   3-19_5-00.csv   \n",
       "3     25.00   3-19_6-00.csv   \n",
       "4     25.00   3-18_5-00.csv   \n",
       "..      ...             ...   \n",
       "388   11.75   3-13_1-00.csv   \n",
       "389   11.75   3-13_3-20.csv   \n",
       "390   11.75  3-13_12-30.csv   \n",
       "391   11.75  3-13_10-00.csv   \n",
       "392   11.75   3-12_8-00.csv   \n",
       "\n",
       "                                             sentences  \\\n",
       "0    [['Write', 'what', 'you', 'would', 'say', 'for...   \n",
       "1    [['Write', 'what', 'you', 'would', 'say', 'for...   \n",
       "2    [['Write', 'what', 'you', 'would', 'say', 'for...   \n",
       "3    [['Write', 'what', 'you', 'would', 'say', 'for...   \n",
       "4    [['Write', 'what', 'you', 'would', 'say', 'for...   \n",
       "..                                                 ...   \n",
       "388  [['Upload', '25-minute', 'screencast', 'of', '...   \n",
       "389  [['Upload', '25-minute', 'screencast', 'of', '...   \n",
       "390  [['Upload', '25-minute', 'screencast', 'of', '...   \n",
       "391  [['Upload', '25-minute', 'screencast', 'of', '...   \n",
       "392  [['Upload', '25-minute', 'screencast', 'of', '...   \n",
       "\n",
       "                                        tokenized_text  \\\n",
       "0    [Write, what, you, would, say, for, transport,...   \n",
       "1    [Write, what, you, would, say, for, transport,...   \n",
       "2    [Write, what, you, would, say, for, transport,...   \n",
       "3    [Write, what, you, would, say, for, transport,...   \n",
       "4    [Write, what, you, would, say, for, transport,...   \n",
       "..                                                 ...   \n",
       "388  [Upload, 25-minute, screencast, of, a, website...   \n",
       "389  [Upload, 25-minute, screencast, of, a, website...   \n",
       "390  [Upload, 25-minute, screencast, of, a, website...   \n",
       "391  [Upload, 25-minute, screencast, of, a, website...   \n",
       "392  [Upload, 25-minute, screencast, of, a, website...   \n",
       "\n",
       "                                       normalized_text  \n",
       "0                      [write, transport, card, phone]  \n",
       "1                      [write, transport, card, phone]  \n",
       "2                      [write, transport, card, phone]  \n",
       "3                      [write, transport, card, phone]  \n",
       "4                      [write, transport, card, phone]  \n",
       "..                                                 ...  \n",
       "388  [upload, 25-minute, screencast, website, busin...  \n",
       "389  [upload, 25-minute, screencast, website, busin...  \n",
       "390  [upload, 25-minute, screencast, website, busin...  \n",
       "391  [upload, 25-minute, screencast, website, busin...  \n",
       "392  [upload, 25-minute, screencast, website, busin...  \n",
       "\n",
       "[393 rows x 8 columns]"
      ]
     },
     "execution_count": 12,
     "metadata": {},
     "output_type": "execute_result"
    }
   ],
   "source": [
    "#tokenizing and normalizing texts\n",
    "df['tokenized_text'] = df['Title'].apply(lambda x: lucem_illud_2020.word_tokenize(x))\n",
    "df['normalized_text'] = df['tokenized_text'].apply(lambda x: lucem_illud_2020.normalizeTokens(x))\n",
    "\n",
    "winsound.Beep(freq, duration)\n",
    "\n",
    "df"
   ]
  },
  {
   "cell_type": "code",
   "execution_count": 13,
   "metadata": {},
   "outputs": [
    {
     "data": {
      "text/html": [
       "<div>\n",
       "<style scoped>\n",
       "    .dataframe tbody tr th:only-of-type {\n",
       "        vertical-align: middle;\n",
       "    }\n",
       "\n",
       "    .dataframe tbody tr th {\n",
       "        vertical-align: top;\n",
       "    }\n",
       "\n",
       "    .dataframe thead th {\n",
       "        text-align: right;\n",
       "    }\n",
       "</style>\n",
       "<table border=\"1\" class=\"dataframe\">\n",
       "  <thead>\n",
       "    <tr style=\"text-align: right;\">\n",
       "      <th></th>\n",
       "      <th>Requester</th>\n",
       "      <th>Title</th>\n",
       "      <th>HITs</th>\n",
       "      <th>Reward</th>\n",
       "      <th>filename</th>\n",
       "      <th>sentences</th>\n",
       "      <th>tokenized_text</th>\n",
       "      <th>normalized_text</th>\n",
       "      <th>tokenized_sents</th>\n",
       "      <th>normalized_sents</th>\n",
       "    </tr>\n",
       "  </thead>\n",
       "  <tbody>\n",
       "    <tr>\n",
       "      <th>0</th>\n",
       "      <td>ShengZhi</td>\n",
       "      <td>Write what you would say for transport card to...</td>\n",
       "      <td>1</td>\n",
       "      <td>25.00</td>\n",
       "      <td>3-19_3-00.csv</td>\n",
       "      <td>[['Write', 'what', 'you', 'would', 'say', 'for...</td>\n",
       "      <td>[Write, what, you, would, say, for, transport,...</td>\n",
       "      <td>[write, transport, card, phone]</td>\n",
       "      <td>[[Write, what, you, would, say, for, transport...</td>\n",
       "      <td>[[write, transport, card, phone]]</td>\n",
       "    </tr>\n",
       "    <tr>\n",
       "      <th>1</th>\n",
       "      <td>ShengZhi</td>\n",
       "      <td>Write what you would say for transport card to...</td>\n",
       "      <td>1</td>\n",
       "      <td>25.00</td>\n",
       "      <td>3-18_8-00.csv</td>\n",
       "      <td>[['Write', 'what', 'you', 'would', 'say', 'for...</td>\n",
       "      <td>[Write, what, you, would, say, for, transport,...</td>\n",
       "      <td>[write, transport, card, phone]</td>\n",
       "      <td>[[Write, what, you, would, say, for, transport...</td>\n",
       "      <td>[[write, transport, card, phone]]</td>\n",
       "    </tr>\n",
       "    <tr>\n",
       "      <th>2</th>\n",
       "      <td>ShengZhi</td>\n",
       "      <td>Write what you would say for transport card to...</td>\n",
       "      <td>1</td>\n",
       "      <td>25.00</td>\n",
       "      <td>3-19_5-00.csv</td>\n",
       "      <td>[['Write', 'what', 'you', 'would', 'say', 'for...</td>\n",
       "      <td>[Write, what, you, would, say, for, transport,...</td>\n",
       "      <td>[write, transport, card, phone]</td>\n",
       "      <td>[[Write, what, you, would, say, for, transport...</td>\n",
       "      <td>[[write, transport, card, phone]]</td>\n",
       "    </tr>\n",
       "    <tr>\n",
       "      <th>3</th>\n",
       "      <td>ShengZhi</td>\n",
       "      <td>Write what you would say for transport card to...</td>\n",
       "      <td>1</td>\n",
       "      <td>25.00</td>\n",
       "      <td>3-19_6-00.csv</td>\n",
       "      <td>[['Write', 'what', 'you', 'would', 'say', 'for...</td>\n",
       "      <td>[Write, what, you, would, say, for, transport,...</td>\n",
       "      <td>[write, transport, card, phone]</td>\n",
       "      <td>[[Write, what, you, would, say, for, transport...</td>\n",
       "      <td>[[write, transport, card, phone]]</td>\n",
       "    </tr>\n",
       "    <tr>\n",
       "      <th>4</th>\n",
       "      <td>ShengZhi</td>\n",
       "      <td>Write what you would say for transport card to...</td>\n",
       "      <td>1</td>\n",
       "      <td>25.00</td>\n",
       "      <td>3-18_5-00.csv</td>\n",
       "      <td>[['Write', 'what', 'you', 'would', 'say', 'for...</td>\n",
       "      <td>[Write, what, you, would, say, for, transport,...</td>\n",
       "      <td>[write, transport, card, phone]</td>\n",
       "      <td>[[Write, what, you, would, say, for, transport...</td>\n",
       "      <td>[[write, transport, card, phone]]</td>\n",
       "    </tr>\n",
       "    <tr>\n",
       "      <th>...</th>\n",
       "      <td>...</td>\n",
       "      <td>...</td>\n",
       "      <td>...</td>\n",
       "      <td>...</td>\n",
       "      <td>...</td>\n",
       "      <td>...</td>\n",
       "      <td>...</td>\n",
       "      <td>...</td>\n",
       "      <td>...</td>\n",
       "      <td>...</td>\n",
       "    </tr>\n",
       "    <tr>\n",
       "      <th>388</th>\n",
       "      <td>UserBob</td>\n",
       "      <td>Upload 25-minute screencast of a website (Busi...</td>\n",
       "      <td>1</td>\n",
       "      <td>11.75</td>\n",
       "      <td>3-13_1-00.csv</td>\n",
       "      <td>[['Upload', '25-minute', 'screencast', 'of', '...</td>\n",
       "      <td>[Upload, 25-minute, screencast, of, a, website...</td>\n",
       "      <td>[upload, 25-minute, screencast, website, busin...</td>\n",
       "      <td>[[Upload, 25-minute, screencast, of, a, websit...</td>\n",
       "      <td>[[upload, 25-minute, screencast, website, busi...</td>\n",
       "    </tr>\n",
       "    <tr>\n",
       "      <th>389</th>\n",
       "      <td>UserBob</td>\n",
       "      <td>Upload 25-minute screencast of a website (Busi...</td>\n",
       "      <td>1</td>\n",
       "      <td>11.75</td>\n",
       "      <td>3-13_3-20.csv</td>\n",
       "      <td>[['Upload', '25-minute', 'screencast', 'of', '...</td>\n",
       "      <td>[Upload, 25-minute, screencast, of, a, website...</td>\n",
       "      <td>[upload, 25-minute, screencast, website, busin...</td>\n",
       "      <td>[[Upload, 25-minute, screencast, of, a, websit...</td>\n",
       "      <td>[[upload, 25-minute, screencast, website, busi...</td>\n",
       "    </tr>\n",
       "    <tr>\n",
       "      <th>390</th>\n",
       "      <td>UserBob</td>\n",
       "      <td>Upload 25-minute screencast of a website (Busi...</td>\n",
       "      <td>1</td>\n",
       "      <td>11.75</td>\n",
       "      <td>3-13_12-30.csv</td>\n",
       "      <td>[['Upload', '25-minute', 'screencast', 'of', '...</td>\n",
       "      <td>[Upload, 25-minute, screencast, of, a, website...</td>\n",
       "      <td>[upload, 25-minute, screencast, website, busin...</td>\n",
       "      <td>[[Upload, 25-minute, screencast, of, a, websit...</td>\n",
       "      <td>[[upload, 25-minute, screencast, website, busi...</td>\n",
       "    </tr>\n",
       "    <tr>\n",
       "      <th>391</th>\n",
       "      <td>UserBob</td>\n",
       "      <td>Upload 25-minute screencast of a website (Busi...</td>\n",
       "      <td>1</td>\n",
       "      <td>11.75</td>\n",
       "      <td>3-13_10-00.csv</td>\n",
       "      <td>[['Upload', '25-minute', 'screencast', 'of', '...</td>\n",
       "      <td>[Upload, 25-minute, screencast, of, a, website...</td>\n",
       "      <td>[upload, 25-minute, screencast, website, busin...</td>\n",
       "      <td>[[Upload, 25-minute, screencast, of, a, websit...</td>\n",
       "      <td>[[upload, 25-minute, screencast, website, busi...</td>\n",
       "    </tr>\n",
       "    <tr>\n",
       "      <th>392</th>\n",
       "      <td>UserBob</td>\n",
       "      <td>Upload 25-minute screencast of a website (Busi...</td>\n",
       "      <td>1</td>\n",
       "      <td>11.75</td>\n",
       "      <td>3-12_8-00.csv</td>\n",
       "      <td>[['Upload', '25-minute', 'screencast', 'of', '...</td>\n",
       "      <td>[Upload, 25-minute, screencast, of, a, website...</td>\n",
       "      <td>[upload, 25-minute, screencast, website, busin...</td>\n",
       "      <td>[[Upload, 25-minute, screencast, of, a, websit...</td>\n",
       "      <td>[[upload, 25-minute, screencast, website, busi...</td>\n",
       "    </tr>\n",
       "  </tbody>\n",
       "</table>\n",
       "<p>393 rows × 10 columns</p>\n",
       "</div>"
      ],
      "text/plain": [
       "    Requester                                              Title  HITs  \\\n",
       "0    ShengZhi  Write what you would say for transport card to...     1   \n",
       "1    ShengZhi  Write what you would say for transport card to...     1   \n",
       "2    ShengZhi  Write what you would say for transport card to...     1   \n",
       "3    ShengZhi  Write what you would say for transport card to...     1   \n",
       "4    ShengZhi  Write what you would say for transport card to...     1   \n",
       "..        ...                                                ...   ...   \n",
       "388   UserBob  Upload 25-minute screencast of a website (Busi...     1   \n",
       "389   UserBob  Upload 25-minute screencast of a website (Busi...     1   \n",
       "390   UserBob  Upload 25-minute screencast of a website (Busi...     1   \n",
       "391   UserBob  Upload 25-minute screencast of a website (Busi...     1   \n",
       "392   UserBob  Upload 25-minute screencast of a website (Busi...     1   \n",
       "\n",
       "     Reward        filename  \\\n",
       "0     25.00   3-19_3-00.csv   \n",
       "1     25.00   3-18_8-00.csv   \n",
       "2     25.00   3-19_5-00.csv   \n",
       "3     25.00   3-19_6-00.csv   \n",
       "4     25.00   3-18_5-00.csv   \n",
       "..      ...             ...   \n",
       "388   11.75   3-13_1-00.csv   \n",
       "389   11.75   3-13_3-20.csv   \n",
       "390   11.75  3-13_12-30.csv   \n",
       "391   11.75  3-13_10-00.csv   \n",
       "392   11.75   3-12_8-00.csv   \n",
       "\n",
       "                                             sentences  \\\n",
       "0    [['Write', 'what', 'you', 'would', 'say', 'for...   \n",
       "1    [['Write', 'what', 'you', 'would', 'say', 'for...   \n",
       "2    [['Write', 'what', 'you', 'would', 'say', 'for...   \n",
       "3    [['Write', 'what', 'you', 'would', 'say', 'for...   \n",
       "4    [['Write', 'what', 'you', 'would', 'say', 'for...   \n",
       "..                                                 ...   \n",
       "388  [['Upload', '25-minute', 'screencast', 'of', '...   \n",
       "389  [['Upload', '25-minute', 'screencast', 'of', '...   \n",
       "390  [['Upload', '25-minute', 'screencast', 'of', '...   \n",
       "391  [['Upload', '25-minute', 'screencast', 'of', '...   \n",
       "392  [['Upload', '25-minute', 'screencast', 'of', '...   \n",
       "\n",
       "                                        tokenized_text  \\\n",
       "0    [Write, what, you, would, say, for, transport,...   \n",
       "1    [Write, what, you, would, say, for, transport,...   \n",
       "2    [Write, what, you, would, say, for, transport,...   \n",
       "3    [Write, what, you, would, say, for, transport,...   \n",
       "4    [Write, what, you, would, say, for, transport,...   \n",
       "..                                                 ...   \n",
       "388  [Upload, 25-minute, screencast, of, a, website...   \n",
       "389  [Upload, 25-minute, screencast, of, a, website...   \n",
       "390  [Upload, 25-minute, screencast, of, a, website...   \n",
       "391  [Upload, 25-minute, screencast, of, a, website...   \n",
       "392  [Upload, 25-minute, screencast, of, a, website...   \n",
       "\n",
       "                                       normalized_text  \\\n",
       "0                      [write, transport, card, phone]   \n",
       "1                      [write, transport, card, phone]   \n",
       "2                      [write, transport, card, phone]   \n",
       "3                      [write, transport, card, phone]   \n",
       "4                      [write, transport, card, phone]   \n",
       "..                                                 ...   \n",
       "388  [upload, 25-minute, screencast, website, busin...   \n",
       "389  [upload, 25-minute, screencast, website, busin...   \n",
       "390  [upload, 25-minute, screencast, website, busin...   \n",
       "391  [upload, 25-minute, screencast, website, busin...   \n",
       "392  [upload, 25-minute, screencast, website, busin...   \n",
       "\n",
       "                                       tokenized_sents  \\\n",
       "0    [[Write, what, you, would, say, for, transport...   \n",
       "1    [[Write, what, you, would, say, for, transport...   \n",
       "2    [[Write, what, you, would, say, for, transport...   \n",
       "3    [[Write, what, you, would, say, for, transport...   \n",
       "4    [[Write, what, you, would, say, for, transport...   \n",
       "..                                                 ...   \n",
       "388  [[Upload, 25-minute, screencast, of, a, websit...   \n",
       "389  [[Upload, 25-minute, screencast, of, a, websit...   \n",
       "390  [[Upload, 25-minute, screencast, of, a, websit...   \n",
       "391  [[Upload, 25-minute, screencast, of, a, websit...   \n",
       "392  [[Upload, 25-minute, screencast, of, a, websit...   \n",
       "\n",
       "                                      normalized_sents  \n",
       "0                    [[write, transport, card, phone]]  \n",
       "1                    [[write, transport, card, phone]]  \n",
       "2                    [[write, transport, card, phone]]  \n",
       "3                    [[write, transport, card, phone]]  \n",
       "4                    [[write, transport, card, phone]]  \n",
       "..                                                 ...  \n",
       "388  [[upload, 25-minute, screencast, website, busi...  \n",
       "389  [[upload, 25-minute, screencast, website, busi...  \n",
       "390  [[upload, 25-minute, screencast, website, busi...  \n",
       "391  [[upload, 25-minute, screencast, website, busi...  \n",
       "392  [[upload, 25-minute, screencast, website, busi...  \n",
       "\n",
       "[393 rows x 10 columns]"
      ]
     },
     "execution_count": 13,
     "metadata": {},
     "output_type": "execute_result"
    }
   ],
   "source": [
    "#tokenizing+normalizing sentences\n",
    "df['tokenized_sents'] = df['Title'].apply(lambda x: [lucem_illud_2020.word_tokenize(s) for s in lucem_illud_2020.sent_tokenize(x)])\n",
    "df['normalized_sents'] = df['tokenized_sents'].apply(lambda x: [lucem_illud_2020.normalizeTokens(s) for s in x])\n",
    "\n",
    "winsound.Beep(freq, duration)\n",
    "\n",
    "df"
   ]
  },
  {
   "cell_type": "code",
   "execution_count": 15,
   "metadata": {},
   "outputs": [
    {
     "data": {
      "text/html": [
       "<div>\n",
       "<style scoped>\n",
       "    .dataframe tbody tr th:only-of-type {\n",
       "        vertical-align: middle;\n",
       "    }\n",
       "\n",
       "    .dataframe tbody tr th {\n",
       "        vertical-align: top;\n",
       "    }\n",
       "\n",
       "    .dataframe thead th {\n",
       "        text-align: right;\n",
       "    }\n",
       "</style>\n",
       "<table border=\"1\" class=\"dataframe\">\n",
       "  <thead>\n",
       "    <tr style=\"text-align: right;\">\n",
       "      <th></th>\n",
       "      <th>Requester</th>\n",
       "      <th>Title</th>\n",
       "      <th>HITs</th>\n",
       "      <th>Reward</th>\n",
       "      <th>filename</th>\n",
       "      <th>sentences</th>\n",
       "      <th>tokenized_text</th>\n",
       "      <th>normalized_text</th>\n",
       "      <th>tokenized_sents</th>\n",
       "      <th>normalized_sents</th>\n",
       "    </tr>\n",
       "  </thead>\n",
       "  <tbody>\n",
       "    <tr>\n",
       "      <th>0</th>\n",
       "      <td>ShengZhi</td>\n",
       "      <td>Write what you would say for transport card to...</td>\n",
       "      <td>1</td>\n",
       "      <td>25.00</td>\n",
       "      <td>3-19_3-00.csv</td>\n",
       "      <td>[['Write', 'what', 'you', 'would', 'say', 'for...</td>\n",
       "      <td>[Write, what, you, would, say, for, transport,...</td>\n",
       "      <td>[write, transport, card, phone]</td>\n",
       "      <td>[[Write, what, you, would, say, for, transport...</td>\n",
       "      <td>[[write, transport, card, phone]]</td>\n",
       "    </tr>\n",
       "    <tr>\n",
       "      <th>1</th>\n",
       "      <td>ShengZhi</td>\n",
       "      <td>Write what you would say for transport card to...</td>\n",
       "      <td>1</td>\n",
       "      <td>25.00</td>\n",
       "      <td>3-18_8-00.csv</td>\n",
       "      <td>[['Write', 'what', 'you', 'would', 'say', 'for...</td>\n",
       "      <td>[Write, what, you, would, say, for, transport,...</td>\n",
       "      <td>[write, transport, card, phone]</td>\n",
       "      <td>[[Write, what, you, would, say, for, transport...</td>\n",
       "      <td>[[write, transport, card, phone]]</td>\n",
       "    </tr>\n",
       "    <tr>\n",
       "      <th>2</th>\n",
       "      <td>ShengZhi</td>\n",
       "      <td>Write what you would say for transport card to...</td>\n",
       "      <td>1</td>\n",
       "      <td>25.00</td>\n",
       "      <td>3-19_5-00.csv</td>\n",
       "      <td>[['Write', 'what', 'you', 'would', 'say', 'for...</td>\n",
       "      <td>[Write, what, you, would, say, for, transport,...</td>\n",
       "      <td>[write, transport, card, phone]</td>\n",
       "      <td>[[Write, what, you, would, say, for, transport...</td>\n",
       "      <td>[[write, transport, card, phone]]</td>\n",
       "    </tr>\n",
       "    <tr>\n",
       "      <th>3</th>\n",
       "      <td>ShengZhi</td>\n",
       "      <td>Write what you would say for transport card to...</td>\n",
       "      <td>1</td>\n",
       "      <td>25.00</td>\n",
       "      <td>3-19_6-00.csv</td>\n",
       "      <td>[['Write', 'what', 'you', 'would', 'say', 'for...</td>\n",
       "      <td>[Write, what, you, would, say, for, transport,...</td>\n",
       "      <td>[write, transport, card, phone]</td>\n",
       "      <td>[[Write, what, you, would, say, for, transport...</td>\n",
       "      <td>[[write, transport, card, phone]]</td>\n",
       "    </tr>\n",
       "    <tr>\n",
       "      <th>4</th>\n",
       "      <td>ShengZhi</td>\n",
       "      <td>Write what you would say for transport card to...</td>\n",
       "      <td>1</td>\n",
       "      <td>25.00</td>\n",
       "      <td>3-18_5-00.csv</td>\n",
       "      <td>[['Write', 'what', 'you', 'would', 'say', 'for...</td>\n",
       "      <td>[Write, what, you, would, say, for, transport,...</td>\n",
       "      <td>[write, transport, card, phone]</td>\n",
       "      <td>[[Write, what, you, would, say, for, transport...</td>\n",
       "      <td>[[write, transport, card, phone]]</td>\n",
       "    </tr>\n",
       "    <tr>\n",
       "      <th>...</th>\n",
       "      <td>...</td>\n",
       "      <td>...</td>\n",
       "      <td>...</td>\n",
       "      <td>...</td>\n",
       "      <td>...</td>\n",
       "      <td>...</td>\n",
       "      <td>...</td>\n",
       "      <td>...</td>\n",
       "      <td>...</td>\n",
       "      <td>...</td>\n",
       "    </tr>\n",
       "    <tr>\n",
       "      <th>388</th>\n",
       "      <td>UserBob</td>\n",
       "      <td>Upload 25-minute screencast of a website (Busi...</td>\n",
       "      <td>1</td>\n",
       "      <td>11.75</td>\n",
       "      <td>3-13_1-00.csv</td>\n",
       "      <td>[['Upload', '25-minute', 'screencast', 'of', '...</td>\n",
       "      <td>[Upload, 25-minute, screencast, of, a, website...</td>\n",
       "      <td>[upload, 25-minute, screencast, website, busin...</td>\n",
       "      <td>[[Upload, 25-minute, screencast, of, a, websit...</td>\n",
       "      <td>[[upload, 25-minute, screencast, website, busi...</td>\n",
       "    </tr>\n",
       "    <tr>\n",
       "      <th>389</th>\n",
       "      <td>UserBob</td>\n",
       "      <td>Upload 25-minute screencast of a website (Busi...</td>\n",
       "      <td>1</td>\n",
       "      <td>11.75</td>\n",
       "      <td>3-13_3-20.csv</td>\n",
       "      <td>[['Upload', '25-minute', 'screencast', 'of', '...</td>\n",
       "      <td>[Upload, 25-minute, screencast, of, a, website...</td>\n",
       "      <td>[upload, 25-minute, screencast, website, busin...</td>\n",
       "      <td>[[Upload, 25-minute, screencast, of, a, websit...</td>\n",
       "      <td>[[upload, 25-minute, screencast, website, busi...</td>\n",
       "    </tr>\n",
       "    <tr>\n",
       "      <th>390</th>\n",
       "      <td>UserBob</td>\n",
       "      <td>Upload 25-minute screencast of a website (Busi...</td>\n",
       "      <td>1</td>\n",
       "      <td>11.75</td>\n",
       "      <td>3-13_12-30.csv</td>\n",
       "      <td>[['Upload', '25-minute', 'screencast', 'of', '...</td>\n",
       "      <td>[Upload, 25-minute, screencast, of, a, website...</td>\n",
       "      <td>[upload, 25-minute, screencast, website, busin...</td>\n",
       "      <td>[[Upload, 25-minute, screencast, of, a, websit...</td>\n",
       "      <td>[[upload, 25-minute, screencast, website, busi...</td>\n",
       "    </tr>\n",
       "    <tr>\n",
       "      <th>391</th>\n",
       "      <td>UserBob</td>\n",
       "      <td>Upload 25-minute screencast of a website (Busi...</td>\n",
       "      <td>1</td>\n",
       "      <td>11.75</td>\n",
       "      <td>3-13_10-00.csv</td>\n",
       "      <td>[['Upload', '25-minute', 'screencast', 'of', '...</td>\n",
       "      <td>[Upload, 25-minute, screencast, of, a, website...</td>\n",
       "      <td>[upload, 25-minute, screencast, website, busin...</td>\n",
       "      <td>[[Upload, 25-minute, screencast, of, a, websit...</td>\n",
       "      <td>[[upload, 25-minute, screencast, website, busi...</td>\n",
       "    </tr>\n",
       "    <tr>\n",
       "      <th>392</th>\n",
       "      <td>UserBob</td>\n",
       "      <td>Upload 25-minute screencast of a website (Busi...</td>\n",
       "      <td>1</td>\n",
       "      <td>11.75</td>\n",
       "      <td>3-12_8-00.csv</td>\n",
       "      <td>[['Upload', '25-minute', 'screencast', 'of', '...</td>\n",
       "      <td>[Upload, 25-minute, screencast, of, a, website...</td>\n",
       "      <td>[upload, 25-minute, screencast, website, busin...</td>\n",
       "      <td>[[Upload, 25-minute, screencast, of, a, websit...</td>\n",
       "      <td>[[upload, 25-minute, screencast, website, busi...</td>\n",
       "    </tr>\n",
       "  </tbody>\n",
       "</table>\n",
       "<p>393 rows × 10 columns</p>\n",
       "</div>"
      ],
      "text/plain": [
       "    Requester                                              Title  HITs  \\\n",
       "0    ShengZhi  Write what you would say for transport card to...     1   \n",
       "1    ShengZhi  Write what you would say for transport card to...     1   \n",
       "2    ShengZhi  Write what you would say for transport card to...     1   \n",
       "3    ShengZhi  Write what you would say for transport card to...     1   \n",
       "4    ShengZhi  Write what you would say for transport card to...     1   \n",
       "..        ...                                                ...   ...   \n",
       "388   UserBob  Upload 25-minute screencast of a website (Busi...     1   \n",
       "389   UserBob  Upload 25-minute screencast of a website (Busi...     1   \n",
       "390   UserBob  Upload 25-minute screencast of a website (Busi...     1   \n",
       "391   UserBob  Upload 25-minute screencast of a website (Busi...     1   \n",
       "392   UserBob  Upload 25-minute screencast of a website (Busi...     1   \n",
       "\n",
       "     Reward        filename  \\\n",
       "0     25.00   3-19_3-00.csv   \n",
       "1     25.00   3-18_8-00.csv   \n",
       "2     25.00   3-19_5-00.csv   \n",
       "3     25.00   3-19_6-00.csv   \n",
       "4     25.00   3-18_5-00.csv   \n",
       "..      ...             ...   \n",
       "388   11.75   3-13_1-00.csv   \n",
       "389   11.75   3-13_3-20.csv   \n",
       "390   11.75  3-13_12-30.csv   \n",
       "391   11.75  3-13_10-00.csv   \n",
       "392   11.75   3-12_8-00.csv   \n",
       "\n",
       "                                             sentences  \\\n",
       "0    [['Write', 'what', 'you', 'would', 'say', 'for...   \n",
       "1    [['Write', 'what', 'you', 'would', 'say', 'for...   \n",
       "2    [['Write', 'what', 'you', 'would', 'say', 'for...   \n",
       "3    [['Write', 'what', 'you', 'would', 'say', 'for...   \n",
       "4    [['Write', 'what', 'you', 'would', 'say', 'for...   \n",
       "..                                                 ...   \n",
       "388  [['Upload', '25-minute', 'screencast', 'of', '...   \n",
       "389  [['Upload', '25-minute', 'screencast', 'of', '...   \n",
       "390  [['Upload', '25-minute', 'screencast', 'of', '...   \n",
       "391  [['Upload', '25-minute', 'screencast', 'of', '...   \n",
       "392  [['Upload', '25-minute', 'screencast', 'of', '...   \n",
       "\n",
       "                                        tokenized_text  \\\n",
       "0    [Write, what, you, would, say, for, transport,...   \n",
       "1    [Write, what, you, would, say, for, transport,...   \n",
       "2    [Write, what, you, would, say, for, transport,...   \n",
       "3    [Write, what, you, would, say, for, transport,...   \n",
       "4    [Write, what, you, would, say, for, transport,...   \n",
       "..                                                 ...   \n",
       "388  [Upload, 25-minute, screencast, of, a, website...   \n",
       "389  [Upload, 25-minute, screencast, of, a, website...   \n",
       "390  [Upload, 25-minute, screencast, of, a, website...   \n",
       "391  [Upload, 25-minute, screencast, of, a, website...   \n",
       "392  [Upload, 25-minute, screencast, of, a, website...   \n",
       "\n",
       "                                       normalized_text  \\\n",
       "0                      [write, transport, card, phone]   \n",
       "1                      [write, transport, card, phone]   \n",
       "2                      [write, transport, card, phone]   \n",
       "3                      [write, transport, card, phone]   \n",
       "4                      [write, transport, card, phone]   \n",
       "..                                                 ...   \n",
       "388  [upload, 25-minute, screencast, website, busin...   \n",
       "389  [upload, 25-minute, screencast, website, busin...   \n",
       "390  [upload, 25-minute, screencast, website, busin...   \n",
       "391  [upload, 25-minute, screencast, website, busin...   \n",
       "392  [upload, 25-minute, screencast, website, busin...   \n",
       "\n",
       "                                       tokenized_sents  \\\n",
       "0    [[Write, what, you, would, say, for, transport...   \n",
       "1    [[Write, what, you, would, say, for, transport...   \n",
       "2    [[Write, what, you, would, say, for, transport...   \n",
       "3    [[Write, what, you, would, say, for, transport...   \n",
       "4    [[Write, what, you, would, say, for, transport...   \n",
       "..                                                 ...   \n",
       "388  [[Upload, 25-minute, screencast, of, a, websit...   \n",
       "389  [[Upload, 25-minute, screencast, of, a, websit...   \n",
       "390  [[Upload, 25-minute, screencast, of, a, websit...   \n",
       "391  [[Upload, 25-minute, screencast, of, a, websit...   \n",
       "392  [[Upload, 25-minute, screencast, of, a, websit...   \n",
       "\n",
       "                                      normalized_sents  \n",
       "0                    [[write, transport, card, phone]]  \n",
       "1                    [[write, transport, card, phone]]  \n",
       "2                    [[write, transport, card, phone]]  \n",
       "3                    [[write, transport, card, phone]]  \n",
       "4                    [[write, transport, card, phone]]  \n",
       "..                                                 ...  \n",
       "388  [[upload, 25-minute, screencast, website, busi...  \n",
       "389  [[upload, 25-minute, screencast, website, busi...  \n",
       "390  [[upload, 25-minute, screencast, website, busi...  \n",
       "391  [[upload, 25-minute, screencast, website, busi...  \n",
       "392  [[upload, 25-minute, screencast, website, busi...  \n",
       "\n",
       "[393 rows x 10 columns]"
      ]
     },
     "execution_count": 15,
     "metadata": {},
     "output_type": "execute_result"
    }
   ],
   "source": [
    "#removing all non-alphanumeric characters from normalized_sents\n",
    "comDFc = df\n",
    "comDFc.Text = comDFc.normalized_sents.str.replace('[^a-zA-Z]', ' ')\n",
    "comDFc.replace(' ', np.nan, inplace=True)\n",
    "comDFc.dropna(inplace=True)\n",
    "comDFc"
   ]
  },
  {
   "cell_type": "code",
   "execution_count": 19,
   "metadata": {},
   "outputs": [],
   "source": [
    "def tag_sents_pos(sentences):\n",
    "    \"\"\"\n",
    "    function which replicates NLTK pos tagging on sentences.\n",
    "    \"\"\"\n",
    "    new_sents = []\n",
    "    for sentence in sentences:\n",
    "        new_sent = ' '.join(sentence)\n",
    "        new_sents.append(new_sent)\n",
    "    final_string = ' '.join(new_sents)\n",
    "    doc = nlp(final_string)\n",
    "    \n",
    "    pos_sents = []\n",
    "    for sent in doc.sents:\n",
    "        pos_sent = []\n",
    "        for token in sent:\n",
    "            pos_sent.append((token.text, token.tag_))\n",
    "        pos_sents.append(pos_sent)\n",
    "    \n",
    "    return pos_sents"
   ]
  },
  {
   "cell_type": "code",
   "execution_count": 21,
   "metadata": {},
   "outputs": [
    {
     "data": {
      "text/plain": [
       "0                      [[write, transport, card, phone]]\n",
       "1                      [[write, transport, card, phone]]\n",
       "2                      [[write, transport, card, phone]]\n",
       "3                      [[write, transport, card, phone]]\n",
       "4                      [[write, transport, card, phone]]\n",
       "                             ...                        \n",
       "388    [[upload, 25-minute, screencast, website, busi...\n",
       "389    [[upload, 25-minute, screencast, website, busi...\n",
       "390    [[upload, 25-minute, screencast, website, busi...\n",
       "391    [[upload, 25-minute, screencast, website, busi...\n",
       "392    [[upload, 25-minute, screencast, website, busi...\n",
       "Name: normalized_sents, Length: 393, dtype: object"
      ]
     },
     "execution_count": 21,
     "metadata": {},
     "output_type": "execute_result"
    }
   ],
   "source": [
    "comDFc['normalized_sents']"
   ]
  },
  {
   "cell_type": "code",
   "execution_count": 24,
   "metadata": {},
   "outputs": [
    {
     "data": {
      "text/plain": [
       "0      [[(Write, VB), (what, WP), (you, PRP), (would,...\n",
       "1      [[(Write, VB), (what, WP), (you, PRP), (would,...\n",
       "2      [[(Write, VB), (what, WP), (you, PRP), (would,...\n",
       "3      [[(Write, VB), (what, WP), (you, PRP), (would,...\n",
       "4      [[(Write, VB), (what, WP), (you, PRP), (would,...\n",
       "                             ...                        \n",
       "388    [[(Upload, NNP), (25-minute, CD), (screencast,...\n",
       "389    [[(Upload, NNP), (25-minute, CD), (screencast,...\n",
       "390    [[(Upload, NNP), (25-minute, CD), (screencast,...\n",
       "391    [[(Upload, NNP), (25-minute, CD), (screencast,...\n",
       "392    [[(Upload, NNP), (25-minute, CD), (screencast,...\n",
       "Name: POS_sents, Length: 393, dtype: object"
      ]
     },
     "execution_count": 24,
     "metadata": {},
     "output_type": "execute_result"
    }
   ],
   "source": [
    "comDFc['sentences'] = comDFc['Title'].apply(lambda x: [word_tokenize(s) for s in sent_tokenize(x)])\n",
    "\n",
    "comDFc['POS_sents'] = comDFc['sentences'].apply(lambda x: tag_sents_pos(x))\n",
    "comDFc.to_csv(r'C:\\Users\\acmel\\Anaconda3\\Code\\Corpus1f_comPOS.csv', encoding='UTF-8', index=False)\n",
    "\n",
    "comDFc['POS_sents']"
   ]
  },
  {
   "cell_type": "markdown",
   "metadata": {},
   "source": [
    "df['POS_sents'] = df['sentences'].apply(lambda x: tag_sents_pos(x))\n",
    "df.to_csv(r'C:\\Users\\acmel\\Anaconda3\\Code\\Corpus1f_TopRewards_99.csv', encoding='UTF-8', index=False)\n",
    "\n",
    "df['POS_sents']"
   ]
  },
  {
   "cell_type": "code",
   "execution_count": 60,
   "metadata": {},
   "outputs": [],
   "source": [
    "### DEFINING MODIFIERS TEST FUNCTION ###\n",
    "\n",
    "#Word = \"word\"\n",
    "#-------------------------------------#\n",
    "\n",
    "def mod_test(word):\n",
    "\n",
    "\n",
    "    NTarget = 'NN'\n",
    "    NResults = set()\n",
    "    for entry in comDFc['POS_sents']:\n",
    "        for sentence in entry:\n",
    "            for (ent1, kind1),(ent2,kind2) in zip(sentence[:-1], sentence[1:]):\n",
    "                if (kind1,ent2.lower())==(NTarget,Word):\n",
    "                    NResults.add(ent1)\n",
    "                else:\n",
    "                    continue\n",
    "\n",
    "    print(\"NN\", NResults)     \n",
    "    #-------------------------------------#\n",
    "\n",
    "    NTarget = 'NNS'\n",
    "    NResults = set()\n",
    "    for entry in comDFc['POS_sents']:\n",
    "        for sentence in entry:\n",
    "            for (ent1, kind1),(ent2,kind2) in zip(sentence[:-1], sentence[1:]):\n",
    "                if (kind1,ent2.lower())==(NTarget,Word):\n",
    "                    NResults.add(ent1)\n",
    "                else:\n",
    "                    continue\n",
    "\n",
    "    print(\"NNS\", NResults)     \n",
    "    #-------------------------------------#\n",
    "\n",
    "    NTarget = 'NNP'\n",
    "    NResults = set()\n",
    "    for entry in comDFc['POS_sents']:\n",
    "        for sentence in entry:\n",
    "            for (ent1, kind1),(ent2,kind2) in zip(sentence[:-1], sentence[1:]):\n",
    "                if (kind1,ent2.lower())==(NTarget,Word):\n",
    "                    NResults.add(ent1)\n",
    "                else:\n",
    "                    continue\n",
    "\n",
    "    print(\"NNP\", NResults)     \n",
    "    #-------------------------------------#\n",
    "\n",
    "    NTarget = 'NNPS'\n",
    "    NResults = set()\n",
    "    for entry in comDFc['POS_sents']:\n",
    "        for sentence in entry:\n",
    "            for (ent1, kind1),(ent2,kind2) in zip(sentence[:-1], sentence[1:]):\n",
    "                if (kind1,ent2.lower())==(NTarget,Word):\n",
    "                    NResults.add(ent1)\n",
    "                else:\n",
    "                    continue\n",
    "\n",
    "    print(\"NNPS\", NResults)     \n",
    "    #-------------------------------------#\n",
    "\n",
    "    NTarget = 'JJ'\n",
    "    NResults = set()\n",
    "    for entry in comDFc['POS_sents']:\n",
    "        for sentence in entry:\n",
    "            for (ent1, kind1),(ent2,kind2) in zip(sentence[:-1], sentence[1:]):\n",
    "                if (kind1,ent2.lower())==(NTarget,Word):\n",
    "                    NResults.add(ent1)\n",
    "                else:\n",
    "                    continue\n",
    "\n",
    "    print(\"JJ\", NResults)     \n",
    "    #-------------------------------------#\n",
    "\n",
    "    NTarget = 'JJR'\n",
    "    NResults = set()\n",
    "    for entry in comDFc['POS_sents']:\n",
    "        for sentence in entry:\n",
    "            for (ent1, kind1),(ent2,kind2) in zip(sentence[:-1], sentence[1:]):\n",
    "                if (kind1,ent2.lower())==(NTarget,Word):\n",
    "                    NResults.add(ent1)\n",
    "                else:\n",
    "                    continue\n",
    "\n",
    "    print(\"JJR\", NResults)     \n",
    "    #-------------------------------------#\n",
    "\n",
    "    NTarget = 'JJS'\n",
    "    NResults = set()\n",
    "    for entry in comDFc['POS_sents']:\n",
    "        for sentence in entry:\n",
    "            for (ent1, kind1),(ent2,kind2) in zip(sentence[:-1], sentence[1:]):\n",
    "                if (kind1,ent2.lower())==(NTarget,Word):\n",
    "                    NResults.add(ent1)\n",
    "                else:\n",
    "                    continue\n",
    "\n",
    "    print(\"JJS\", NResults)     \n",
    "    #-------------------------------------#\n",
    "\n",
    "    NTarget = 'VB'\n",
    "    NResults = set()\n",
    "    for entry in comDFc['POS_sents']:\n",
    "        for sentence in entry:\n",
    "            for (ent1, kind1),(ent2,kind2) in zip(sentence[:-1], sentence[1:]):\n",
    "                if (kind1,ent2.lower())==(NTarget,Word):\n",
    "                    NResults.add(ent1)\n",
    "                else:\n",
    "                    continue\n",
    "\n",
    "    print(\"VB\", NResults)     \n",
    "    #-------------------------------------#\n",
    "\n",
    "    NTarget = 'VBD'\n",
    "    NResults = set()\n",
    "    for entry in comDFc['POS_sents']:\n",
    "        for sentence in entry:\n",
    "            for (ent1, kind1),(ent2,kind2) in zip(sentence[:-1], sentence[1:]):\n",
    "                if (kind1,ent2.lower())==(NTarget,Word):\n",
    "                    NResults.add(ent1)\n",
    "                else:\n",
    "                    continue\n",
    "\n",
    "    print(\"VBD\", NResults)     \n",
    "    #-------------------------------------#\n",
    "\n",
    "    NTarget = 'VBG'\n",
    "    NResults = set()\n",
    "    for entry in comDFc['POS_sents']:\n",
    "        for sentence in entry:\n",
    "            for (ent1, kind1),(ent2,kind2) in zip(sentence[:-1], sentence[1:]):\n",
    "                if (kind1,ent2.lower())==(NTarget,Word):\n",
    "                    NResults.add(ent1)\n",
    "                else:\n",
    "                    continue\n",
    "\n",
    "    print(\"VBG\", NResults)     \n",
    "    #-------------------------------------#\n",
    "\n",
    "    NTarget = 'VBN'\n",
    "    NResults = set()\n",
    "    for entry in comDFc['POS_sents']:\n",
    "        for sentence in entry:\n",
    "            for (ent1, kind1),(ent2,kind2) in zip(sentence[:-1], sentence[1:]):\n",
    "                if (kind1,ent2.lower())==(NTarget,Word):\n",
    "                    NResults.add(ent1)\n",
    "                else:\n",
    "                    continue\n",
    "\n",
    "    print(\"VBN\", NResults)     \n",
    "    #-------------------------------------#\n",
    "\n",
    "    NTarget = 'VBP'\n",
    "    NResults = set()\n",
    "    for entry in comDFc['POS_sents']:\n",
    "        for sentence in entry:\n",
    "            for (ent1, kind1),(ent2,kind2) in zip(sentence[:-1], sentence[1:]):\n",
    "                if (kind1,ent2.lower())==(NTarget,Word):\n",
    "                    NResults.add(ent1)\n",
    "                else:\n",
    "                    continue\n",
    "\n",
    "    print(\"VBP\", NResults)     \n",
    "    #-------------------------------------#\n",
    "\n",
    "    NTarget = 'VBZ'\n",
    "    NResults = set()\n",
    "    for entry in comDFc['POS_sents']:\n",
    "        for sentence in entry:\n",
    "            for (ent1, kind1),(ent2,kind2) in zip(sentence[:-1], sentence[1:]):\n",
    "                if (kind1,ent2.lower())==(NTarget,Word):\n",
    "                    NResults.add(ent1)\n",
    "                else:\n",
    "                    continue\n",
    "\n",
    "    print(\"VBZ\", NResults)"
   ]
  },
  {
   "cell_type": "markdown",
   "metadata": {},
   "source": [
    "# Nouns (NN singular or mass)"
   ]
  },
  {
   "cell_type": "code",
   "execution_count": 27,
   "metadata": {},
   "outputs": [
    {
     "data": {
      "text/plain": [
       "[('DANISH', 101),\n",
       " ('매우높음', 34),\n",
       " ('screencast', 13),\n",
       " ('website', 13),\n",
       " ('Business', 13),\n",
       " ('owner', 13),\n",
       " ('laptop', 13),\n",
       " ('Compensation', 10),\n",
       " ('access', 10),\n",
       " ('Thumb', 10),\n",
       " ('church', 8),\n",
       " ('sermon', 8),\n",
       " ('video', 8),\n",
       " ('clip', 8),\n",
       " ('Study', 8),\n",
       " ('transport', 7),\n",
       " ('card', 7),\n",
       " ('top', 7),\n",
       " ('up', 7),\n",
       " ('phone', 7)]"
      ]
     },
     "execution_count": 27,
     "metadata": {},
     "output_type": "execute_result"
    }
   ],
   "source": [
    "#counting the number of NN (nouns)\n",
    "countTarget = 'NN'\n",
    "targetCounts = {}\n",
    "for entry in comDFc['POS_sents']:\n",
    "    for sentence in entry:\n",
    "        for ent, kind in sentence:\n",
    "            if kind != countTarget:\n",
    "                continue\n",
    "            elif ent in targetCounts:\n",
    "                targetCounts[ent] += 1\n",
    "            else:\n",
    "                targetCounts[ent] = 1\n",
    "sortedTargetsNN = sorted(targetCounts.items(), key = lambda x: x[1], reverse = True)[:20]\n",
    "sortedTargetsNN #[:20]"
   ]
  },
  {
   "cell_type": "code",
   "execution_count": 28,
   "metadata": {},
   "outputs": [],
   "source": [
    "#saving the list of tuples as a .txt\n",
    "import pickle\n",
    "with open (\"C1f_sortedTargetsNN_TR99.txt\", \"wb\") as fp:\n",
    "    pickle.dump(sortedTargetsNN, fp)\n"
   ]
  },
  {
   "cell_type": "code",
   "execution_count": 32,
   "metadata": {},
   "outputs": [],
   "source": [
    "#saving the list of keywords as a .txt\n",
    "\n",
    "reduced_sortedTargetsNN = sortedTargetsNN #[:20]\n",
    "NN_keywordsList = [(a) for a,b in reduced_sortedTargetsNN]\n",
    "#NN_keywordsList\n",
    "\n",
    "#saving the list as a .txt\n",
    "import pickle\n",
    "with open (\"C1f_NN_keywordsList_TR99.txt\", \"wb\") as fp:\n",
    "    pickle.dump(NN_keywordsList, fp)"
   ]
  },
  {
   "cell_type": "code",
   "execution_count": 30,
   "metadata": {},
   "outputs": [
    {
     "data": {
      "text/plain": [
       "<BarContainer object of 20 artists>"
      ]
     },
     "execution_count": 30,
     "metadata": {},
     "output_type": "execute_result"
    },
    {
     "data": {
      "text/plain": [
       "<Figure size 432x288 with 0 Axes>"
      ]
     },
     "metadata": {},
     "output_type": "display_data"
    },
    {
     "name": "stderr",
     "output_type": "stream",
     "text": [
      "C:\\Users\\acmel\\AppData\\Roaming\\Python\\Python37\\site-packages\\matplotlib\\backends\\backend_agg.py:214: RuntimeWarning: Glyph 47588 missing from current font.\n",
      "  font.set_text(s, 0.0, flags=flags)\n",
      "C:\\Users\\acmel\\AppData\\Roaming\\Python\\Python37\\site-packages\\matplotlib\\backends\\backend_agg.py:214: RuntimeWarning: Glyph 50864 missing from current font.\n",
      "  font.set_text(s, 0.0, flags=flags)\n",
      "C:\\Users\\acmel\\AppData\\Roaming\\Python\\Python37\\site-packages\\matplotlib\\backends\\backend_agg.py:214: RuntimeWarning: Glyph 45458 missing from current font.\n",
      "  font.set_text(s, 0.0, flags=flags)\n",
      "C:\\Users\\acmel\\AppData\\Roaming\\Python\\Python37\\site-packages\\matplotlib\\backends\\backend_agg.py:214: RuntimeWarning: Glyph 51020 missing from current font.\n",
      "  font.set_text(s, 0.0, flags=flags)\n",
      "C:\\Users\\acmel\\AppData\\Roaming\\Python\\Python37\\site-packages\\matplotlib\\backends\\backend_agg.py:183: RuntimeWarning: Glyph 47588 missing from current font.\n",
      "  font.set_text(s, 0, flags=flags)\n",
      "C:\\Users\\acmel\\AppData\\Roaming\\Python\\Python37\\site-packages\\matplotlib\\backends\\backend_agg.py:183: RuntimeWarning: Glyph 50864 missing from current font.\n",
      "  font.set_text(s, 0, flags=flags)\n",
      "C:\\Users\\acmel\\AppData\\Roaming\\Python\\Python37\\site-packages\\matplotlib\\backends\\backend_agg.py:183: RuntimeWarning: Glyph 45458 missing from current font.\n",
      "  font.set_text(s, 0, flags=flags)\n",
      "C:\\Users\\acmel\\AppData\\Roaming\\Python\\Python37\\site-packages\\matplotlib\\backends\\backend_agg.py:183: RuntimeWarning: Glyph 51020 missing from current font.\n",
      "  font.set_text(s, 0, flags=flags)\n"
     ]
    },
    {
     "data": {
      "image/png": "[encoded data removed]",
      "text/plain": [
       "<Figure size 1008x720 with 1 Axes>"
      ]
     },
     "metadata": {
      "needs_background": "light"
     },
     "output_type": "display_data"
    }
   ],
   "source": [
    "NN = sortedTargetsNN#[:20]\n",
    "\n",
    "fig = plt.figure()\n",
    "fig, ax = plt.subplots(figsize=(14, 10))\n",
    "\n",
    "ax.invert_yaxis() \n",
    "ax.set_xlabel('Counts')\n",
    "ax.set_title('Nouns (Basic)')\n",
    "\n",
    "\n",
    "plt.barh(*zip(*NN))"
   ]
  },
  {
   "cell_type": "markdown",
   "metadata": {},
   "source": [
    "### NN Modifiers"
   ]
  },
  {
   "cell_type": "code",
   "execution_count": 33,
   "metadata": {},
   "outputs": [],
   "source": [
    "#opening\n",
    "with open(\"C1f_sortedTargetsNN_TR99.txt\", \"rb\") as fp:\n",
    "    sortedTargetsNN_TR99 = pickle.load(fp)\n",
    "    \n",
    "#sortedTargetsNN_TR99"
   ]
  },
  {
   "cell_type": "code",
   "execution_count": 75,
   "metadata": {},
   "outputs": [
    {
     "data": {
      "text/html": [
       "<div>\n",
       "<style scoped>\n",
       "    .dataframe tbody tr th:only-of-type {\n",
       "        vertical-align: middle;\n",
       "    }\n",
       "\n",
       "    .dataframe tbody tr th {\n",
       "        vertical-align: top;\n",
       "    }\n",
       "\n",
       "    .dataframe thead th {\n",
       "        text-align: right;\n",
       "    }\n",
       "</style>\n",
       "<table border=\"1\" class=\"dataframe\">\n",
       "  <thead>\n",
       "    <tr style=\"text-align: right;\">\n",
       "      <th></th>\n",
       "      <th>word</th>\n",
       "      <th>count</th>\n",
       "    </tr>\n",
       "  </thead>\n",
       "  <tbody>\n",
       "    <tr>\n",
       "      <th>0</th>\n",
       "      <td>DANISH</td>\n",
       "      <td>101</td>\n",
       "    </tr>\n",
       "    <tr>\n",
       "      <th>1</th>\n",
       "      <td>매우높음</td>\n",
       "      <td>34</td>\n",
       "    </tr>\n",
       "    <tr>\n",
       "      <th>2</th>\n",
       "      <td>screencast</td>\n",
       "      <td>13</td>\n",
       "    </tr>\n",
       "    <tr>\n",
       "      <th>3</th>\n",
       "      <td>website</td>\n",
       "      <td>13</td>\n",
       "    </tr>\n",
       "    <tr>\n",
       "      <th>4</th>\n",
       "      <td>Business</td>\n",
       "      <td>13</td>\n",
       "    </tr>\n",
       "    <tr>\n",
       "      <th>5</th>\n",
       "      <td>owner</td>\n",
       "      <td>13</td>\n",
       "    </tr>\n",
       "    <tr>\n",
       "      <th>6</th>\n",
       "      <td>laptop</td>\n",
       "      <td>13</td>\n",
       "    </tr>\n",
       "    <tr>\n",
       "      <th>7</th>\n",
       "      <td>Compensation</td>\n",
       "      <td>10</td>\n",
       "    </tr>\n",
       "    <tr>\n",
       "      <th>8</th>\n",
       "      <td>access</td>\n",
       "      <td>10</td>\n",
       "    </tr>\n",
       "    <tr>\n",
       "      <th>9</th>\n",
       "      <td>Thumb</td>\n",
       "      <td>10</td>\n",
       "    </tr>\n",
       "    <tr>\n",
       "      <th>10</th>\n",
       "      <td>church</td>\n",
       "      <td>8</td>\n",
       "    </tr>\n",
       "    <tr>\n",
       "      <th>11</th>\n",
       "      <td>sermon</td>\n",
       "      <td>8</td>\n",
       "    </tr>\n",
       "    <tr>\n",
       "      <th>12</th>\n",
       "      <td>video</td>\n",
       "      <td>8</td>\n",
       "    </tr>\n",
       "    <tr>\n",
       "      <th>13</th>\n",
       "      <td>clip</td>\n",
       "      <td>8</td>\n",
       "    </tr>\n",
       "    <tr>\n",
       "      <th>14</th>\n",
       "      <td>Study</td>\n",
       "      <td>8</td>\n",
       "    </tr>\n",
       "    <tr>\n",
       "      <th>15</th>\n",
       "      <td>transport</td>\n",
       "      <td>7</td>\n",
       "    </tr>\n",
       "    <tr>\n",
       "      <th>16</th>\n",
       "      <td>card</td>\n",
       "      <td>7</td>\n",
       "    </tr>\n",
       "    <tr>\n",
       "      <th>17</th>\n",
       "      <td>top</td>\n",
       "      <td>7</td>\n",
       "    </tr>\n",
       "    <tr>\n",
       "      <th>18</th>\n",
       "      <td>up</td>\n",
       "      <td>7</td>\n",
       "    </tr>\n",
       "    <tr>\n",
       "      <th>19</th>\n",
       "      <td>phone</td>\n",
       "      <td>7</td>\n",
       "    </tr>\n",
       "  </tbody>\n",
       "</table>\n",
       "</div>"
      ],
      "text/plain": [
       "            word  count\n",
       "0         DANISH    101\n",
       "1           매우높음     34\n",
       "2     screencast     13\n",
       "3        website     13\n",
       "4       Business     13\n",
       "5          owner     13\n",
       "6         laptop     13\n",
       "7   Compensation     10\n",
       "8         access     10\n",
       "9          Thumb     10\n",
       "10        church      8\n",
       "11        sermon      8\n",
       "12         video      8\n",
       "13          clip      8\n",
       "14         Study      8\n",
       "15     transport      7\n",
       "16          card      7\n",
       "17           top      7\n",
       "18            up      7\n",
       "19         phone      7"
      ]
     },
     "execution_count": 75,
     "metadata": {},
     "output_type": "execute_result"
    }
   ],
   "source": [
    "NNdf = pd.DataFrame(sortedTargetsNN_TR99)\n",
    "NNdf.columns=['word','count']\n",
    "\n",
    "NNdf"
   ]
  },
  {
   "cell_type": "code",
   "execution_count": 61,
   "metadata": {},
   "outputs": [
    {
     "name": "stdout",
     "output_type": "stream",
     "text": [
      "NN set()\n",
      "NNS set()\n",
      "NNP set()\n",
      "NNPS set()\n",
      "JJ set()\n",
      "JJR set()\n",
      "JJS set()\n",
      "VB set()\n",
      "VBD set()\n",
      "VBG set()\n",
      "VBN set()\n",
      "VBP set()\n",
      "VBZ set()\n"
     ]
    }
   ],
   "source": [
    "Word = \"DANISH\"\n",
    "mod_test(Word)"
   ]
  },
  {
   "cell_type": "code",
   "execution_count": 135,
   "metadata": {},
   "outputs": [
    {
     "name": "stdout",
     "output_type": "stream",
     "text": [
      "NN set()\n",
      "NNS set()\n",
      "NNP set()\n",
      "NNPS set()\n",
      "JJ set()\n",
      "JJR set()\n",
      "JJS set()\n",
      "VB set()\n",
      "VBD set()\n",
      "VBG set()\n",
      "VBN set()\n",
      "VBP set()\n",
      "VBZ set()\n"
     ]
    }
   ],
   "source": [
    "Word = \"매우높음\"\n",
    "mod_test(Word)"
   ]
  },
  {
   "cell_type": "code",
   "execution_count": 130,
   "metadata": {},
   "outputs": [
    {
     "name": "stdout",
     "output_type": "stream",
     "text": [
      "NN set()\n",
      "NNS set()\n",
      "NNP set()\n",
      "NNPS set()\n",
      "JJ set()\n",
      "JJR set()\n",
      "JJS set()\n",
      "VB set()\n",
      "VBD set()\n",
      "VBG set()\n",
      "VBN set()\n",
      "VBP set()\n",
      "VBZ set()\n"
     ]
    }
   ],
   "source": [
    "Word = \"screencast\"\n",
    "mod_test(Word)"
   ]
  },
  {
   "cell_type": "code",
   "execution_count": 43,
   "metadata": {},
   "outputs": [
    {
     "name": "stdout",
     "output_type": "stream",
     "text": [
      "NN set()\n",
      "NNS set()\n",
      "NNP set()\n",
      "NNPS set()\n",
      "JJ set()\n",
      "JJR set()\n",
      "JJS set()\n",
      "VB set()\n",
      "VBD set()\n",
      "VBG set()\n",
      "VBN set()\n",
      "VBP set()\n",
      "VBZ set()\n"
     ]
    }
   ],
   "source": [
    "Word = \"website\"\n",
    "mod_test(Word)"
   ]
  },
  {
   "cell_type": "code",
   "execution_count": 44,
   "metadata": {},
   "outputs": [
    {
     "name": "stdout",
     "output_type": "stream",
     "text": [
      "NN set()\n",
      "NNS set()\n",
      "NNP set()\n",
      "NNPS set()\n",
      "JJ set()\n",
      "JJR set()\n",
      "JJS set()\n",
      "VB set()\n",
      "VBD set()\n",
      "VBG set()\n",
      "VBN set()\n",
      "VBP set()\n",
      "VBZ set()\n"
     ]
    }
   ],
   "source": [
    "Word = \"Business\"\n",
    "mod_test(Word)"
   ]
  },
  {
   "cell_type": "code",
   "execution_count": 62,
   "metadata": {},
   "outputs": [
    {
     "name": "stdout",
     "output_type": "stream",
     "text": [
      "NN {'Business'}\n",
      "NNS set()\n",
      "NNP set()\n",
      "NNPS set()\n",
      "JJ set()\n",
      "JJR set()\n",
      "JJS set()\n",
      "VB set()\n",
      "VBD set()\n",
      "VBG set()\n",
      "VBN set()\n",
      "VBP set()\n",
      "VBZ set()\n"
     ]
    }
   ],
   "source": [
    "Word = \"owner\"\n",
    "mod_test(Word)"
   ]
  },
  {
   "cell_type": "code",
   "execution_count": 46,
   "metadata": {},
   "outputs": [
    {
     "name": "stdout",
     "output_type": "stream",
     "text": [
      "NN set()\n",
      "NNS set()\n",
      "NNP set()\n",
      "NNPS set()\n",
      "JJ set()\n",
      "JJR set()\n",
      "JJS set()\n",
      "VB set()\n",
      "VBD set()\n",
      "VBG set()\n",
      "VBN set()\n",
      "VBP set()\n",
      "VBZ set()\n"
     ]
    }
   ],
   "source": [
    "Word = \"laptop\"\n",
    "mod_test(Word)"
   ]
  },
  {
   "cell_type": "code",
   "execution_count": 47,
   "metadata": {},
   "outputs": [
    {
     "name": "stdout",
     "output_type": "stream",
     "text": [
      "NN set()\n",
      "NNS set()\n",
      "NNP set()\n",
      "NNPS set()\n",
      "JJ set()\n",
      "JJR set()\n",
      "JJS set()\n",
      "VB set()\n",
      "VBD set()\n",
      "VBG set()\n",
      "VBN set()\n",
      "VBP set()\n",
      "VBZ set()\n"
     ]
    }
   ],
   "source": [
    "Word = \"Compensation\"\n",
    "mod_test(Word)"
   ]
  },
  {
   "cell_type": "code",
   "execution_count": 48,
   "metadata": {},
   "outputs": [
    {
     "name": "stdout",
     "output_type": "stream",
     "text": [
      "NN set()\n",
      "NNS set()\n",
      "NNP set()\n",
      "NNPS set()\n",
      "JJ {'early'}\n",
      "JJR set()\n",
      "JJS set()\n",
      "VB set()\n",
      "VBD set()\n",
      "VBG set()\n",
      "VBN set()\n",
      "VBP set()\n",
      "VBZ set()\n"
     ]
    }
   ],
   "source": [
    "Word = \"access\"\n",
    "mod_test(Word)"
   ]
  },
  {
   "cell_type": "code",
   "execution_count": 49,
   "metadata": {},
   "outputs": [
    {
     "name": "stdout",
     "output_type": "stream",
     "text": [
      "NN set()\n",
      "NNS set()\n",
      "NNP set()\n",
      "NNPS set()\n",
      "JJ set()\n",
      "JJR set()\n",
      "JJS set()\n",
      "VB set()\n",
      "VBD set()\n",
      "VBG set()\n",
      "VBN set()\n",
      "VBP set()\n",
      "VBZ set()\n"
     ]
    }
   ],
   "source": [
    "Word = \"Thumb\"\n",
    "mod_test(Word)"
   ]
  },
  {
   "cell_type": "code",
   "execution_count": 50,
   "metadata": {},
   "outputs": [
    {
     "name": "stdout",
     "output_type": "stream",
     "text": [
      "NN set()\n",
      "NNS set()\n",
      "NNP set()\n",
      "NNPS set()\n",
      "JJ set()\n",
      "JJR set()\n",
      "JJS set()\n",
      "VB set()\n",
      "VBD set()\n",
      "VBG set()\n",
      "VBN set()\n",
      "VBP set()\n",
      "VBZ set()\n"
     ]
    }
   ],
   "source": [
    "Word = \"church\"\n",
    "mod_test(Word)"
   ]
  },
  {
   "cell_type": "code",
   "execution_count": 51,
   "metadata": {},
   "outputs": [
    {
     "name": "stdout",
     "output_type": "stream",
     "text": [
      "NN {'church'}\n",
      "NNS set()\n",
      "NNP set()\n",
      "NNPS set()\n",
      "JJ set()\n",
      "JJR set()\n",
      "JJS set()\n",
      "VB set()\n",
      "VBD set()\n",
      "VBG set()\n",
      "VBN set()\n",
      "VBP set()\n",
      "VBZ set()\n"
     ]
    }
   ],
   "source": [
    "Word = \"sermon\"\n",
    "mod_test(Word)"
   ]
  },
  {
   "cell_type": "code",
   "execution_count": 52,
   "metadata": {},
   "outputs": [
    {
     "name": "stdout",
     "output_type": "stream",
     "text": [
      "NN {'sermon'}\n",
      "NNS set()\n",
      "NNP set()\n",
      "NNPS set()\n",
      "JJ set()\n",
      "JJR set()\n",
      "JJS set()\n",
      "VB set()\n",
      "VBD set()\n",
      "VBG set()\n",
      "VBN set()\n",
      "VBP set()\n",
      "VBZ set()\n"
     ]
    }
   ],
   "source": [
    "Word = \"video\"\n",
    "mod_test(Word)"
   ]
  },
  {
   "cell_type": "code",
   "execution_count": 53,
   "metadata": {},
   "outputs": [
    {
     "name": "stdout",
     "output_type": "stream",
     "text": [
      "NN {'video'}\n",
      "NNS set()\n",
      "NNP set()\n",
      "NNPS set()\n",
      "JJ set()\n",
      "JJR set()\n",
      "JJS set()\n",
      "VB set()\n",
      "VBD set()\n",
      "VBG set()\n",
      "VBN set()\n",
      "VBP set()\n",
      "VBZ set()\n"
     ]
    }
   ],
   "source": [
    "Word = \"clip\"\n",
    "mod_test(Word)"
   ]
  },
  {
   "cell_type": "code",
   "execution_count": 54,
   "metadata": {},
   "outputs": [
    {
     "name": "stdout",
     "output_type": "stream",
     "text": [
      "NN set()\n",
      "NNS set()\n",
      "NNP set()\n",
      "NNPS set()\n",
      "JJ set()\n",
      "JJR set()\n",
      "JJS set()\n",
      "VB set()\n",
      "VBD set()\n",
      "VBG set()\n",
      "VBN set()\n",
      "VBP set()\n",
      "VBZ set()\n"
     ]
    }
   ],
   "source": [
    "Word = \"Study\"\n",
    "mod_test(Word)"
   ]
  },
  {
   "cell_type": "code",
   "execution_count": 55,
   "metadata": {},
   "outputs": [
    {
     "name": "stdout",
     "output_type": "stream",
     "text": [
      "NN set()\n",
      "NNS set()\n",
      "NNP set()\n",
      "NNPS set()\n",
      "JJ set()\n",
      "JJR set()\n",
      "JJS set()\n",
      "VB set()\n",
      "VBD set()\n",
      "VBG set()\n",
      "VBN set()\n",
      "VBP set()\n",
      "VBZ set()\n"
     ]
    }
   ],
   "source": [
    "Word = \"transport\"\n",
    "mod_test(Word)"
   ]
  },
  {
   "cell_type": "code",
   "execution_count": 56,
   "metadata": {},
   "outputs": [
    {
     "name": "stdout",
     "output_type": "stream",
     "text": [
      "NN {'transport'}\n",
      "NNS set()\n",
      "NNP set()\n",
      "NNPS set()\n",
      "JJ set()\n",
      "JJR set()\n",
      "JJS set()\n",
      "VB set()\n",
      "VBD set()\n",
      "VBG set()\n",
      "VBN set()\n",
      "VBP set()\n",
      "VBZ set()\n"
     ]
    }
   ],
   "source": [
    "Word = \"card\"\n",
    "mod_test(Word)"
   ]
  },
  {
   "cell_type": "code",
   "execution_count": 63,
   "metadata": {},
   "outputs": [
    {
     "name": "stdout",
     "output_type": "stream",
     "text": [
      "NN {'card'}\n",
      "NNS set()\n",
      "NNP set()\n",
      "NNPS set()\n",
      "JJ set()\n",
      "JJR set()\n",
      "JJS set()\n",
      "VB set()\n",
      "VBD set()\n",
      "VBG set()\n",
      "VBN set()\n",
      "VBP set()\n",
      "VBZ set()\n"
     ]
    }
   ],
   "source": [
    "Word = \"top\"\n",
    "mod_test(Word)"
   ]
  },
  {
   "cell_type": "code",
   "execution_count": 64,
   "metadata": {},
   "outputs": [
    {
     "name": "stdout",
     "output_type": "stream",
     "text": [
      "NN set()\n",
      "NNS set()\n",
      "NNP set()\n",
      "NNPS set()\n",
      "JJ set()\n",
      "JJR set()\n",
      "JJS set()\n",
      "VB set()\n",
      "VBD set()\n",
      "VBG set()\n",
      "VBN set()\n",
      "VBP set()\n",
      "VBZ set()\n"
     ]
    }
   ],
   "source": [
    "Word = \"up\"\n",
    "mod_test(Word)"
   ]
  },
  {
   "cell_type": "code",
   "execution_count": 65,
   "metadata": {},
   "outputs": [
    {
     "name": "stdout",
     "output_type": "stream",
     "text": [
      "NN set()\n",
      "NNS set()\n",
      "NNP set()\n",
      "NNPS set()\n",
      "JJ set()\n",
      "JJR set()\n",
      "JJS set()\n",
      "VB set()\n",
      "VBD set()\n",
      "VBG set()\n",
      "VBN set()\n",
      "VBP set()\n",
      "VBZ set()\n"
     ]
    }
   ],
   "source": [
    "Word = \"phone\"\n",
    "mod_test(Word)"
   ]
  },
  {
   "cell_type": "markdown",
   "metadata": {},
   "source": [
    "# Nouns (NNS plural)"
   ]
  },
  {
   "cell_type": "code",
   "execution_count": 67,
   "metadata": {},
   "outputs": [
    {
     "data": {
      "text/plain": [
       "[('speakers', 304),\n",
       " ('recordings', 304),\n",
       " ('minutes', 10),\n",
       " ('Rules', 10),\n",
       " ('data', 3),\n",
       " ('A2HU1HGGYUO3X6', 2)]"
      ]
     },
     "execution_count": 67,
     "metadata": {},
     "output_type": "execute_result"
    }
   ],
   "source": [
    "#counting the number of NNS (plural)\n",
    "countTarget = 'NNS'\n",
    "targetCounts = {}\n",
    "for entry in comDFc['POS_sents']:\n",
    "    for sentence in entry:\n",
    "        for ent, kind in sentence:\n",
    "            if kind != countTarget:\n",
    "                continue\n",
    "            elif ent in targetCounts:\n",
    "                targetCounts[ent] += 1\n",
    "            else:\n",
    "                targetCounts[ent] = 1\n",
    "sortedTargetsNNS = sorted(targetCounts.items(), key = lambda x: x[1], reverse = True)\n",
    "sortedTargetsNNS#[:20]"
   ]
  },
  {
   "cell_type": "code",
   "execution_count": 69,
   "metadata": {},
   "outputs": [],
   "source": [
    "#saving the list as a .txt\n",
    "import pickle\n",
    "with open (\"C1f_sortedTargetsNNS_TR99.txt\", \"wb\") as fp:\n",
    "    pickle.dump(sortedTargetsNNS, fp)"
   ]
  },
  {
   "cell_type": "code",
   "execution_count": 70,
   "metadata": {},
   "outputs": [
    {
     "data": {
      "text/plain": [
       "['speakers', 'recordings', 'minutes', 'Rules', 'data', 'A2HU1HGGYUO3X6']"
      ]
     },
     "execution_count": 70,
     "metadata": {},
     "output_type": "execute_result"
    }
   ],
   "source": [
    "reduced_sortedTargetsNNS = sortedTargetsNNS#[:20]\n",
    "NNS_keywordsList = [(a) for a,b in reduced_sortedTargetsNNS]\n",
    "NNS_keywordsList"
   ]
  },
  {
   "cell_type": "code",
   "execution_count": 71,
   "metadata": {},
   "outputs": [],
   "source": [
    "#saving the list as a .txt\n",
    "import pickle\n",
    "with open (\"C1f_NNS_keywordsList_TR99.txt\", \"wb\") as fp:\n",
    "    pickle.dump(NNS_keywordsList, fp)"
   ]
  },
  {
   "cell_type": "code",
   "execution_count": 72,
   "metadata": {},
   "outputs": [
    {
     "data": {
      "text/plain": [
       "<BarContainer object of 6 artists>"
      ]
     },
     "execution_count": 72,
     "metadata": {},
     "output_type": "execute_result"
    },
    {
     "data": {
      "text/plain": [
       "<Figure size 432x288 with 0 Axes>"
      ]
     },
     "metadata": {},
     "output_type": "display_data"
    },
    {
     "data": {
      "image/png": "[encoded data removed]",
      "text/plain": [
       "<Figure size 1008x720 with 1 Axes>"
      ]
     },
     "metadata": {
      "needs_background": "light"
     },
     "output_type": "display_data"
    }
   ],
   "source": [
    "NNS = sortedTargetsNNS#[:20]\n",
    "\n",
    "fig = plt.figure()\n",
    "fig, ax = plt.subplots(figsize=(14, 10))\n",
    "\n",
    "\n",
    "ax.invert_yaxis() \n",
    "ax.set_xlabel('Counts')\n",
    "ax.set_title('Nouns (Plural)')\n",
    "\n",
    "\n",
    "plt.barh(*zip(*NNS))"
   ]
  },
  {
   "cell_type": "markdown",
   "metadata": {},
   "source": [
    "### NNS Modifiers"
   ]
  },
  {
   "cell_type": "code",
   "execution_count": 73,
   "metadata": {},
   "outputs": [],
   "source": [
    "#opening\n",
    "with open(\"C1f_sortedTargetsNNS_TR99.txt\", \"rb\") as fp:\n",
    "    sortedTargetsNNS_TR99 = pickle.load(fp)\n",
    "    \n",
    "#sortedTargetsNNS_TR99"
   ]
  },
  {
   "cell_type": "code",
   "execution_count": 74,
   "metadata": {},
   "outputs": [
    {
     "data": {
      "text/html": [
       "<div>\n",
       "<style scoped>\n",
       "    .dataframe tbody tr th:only-of-type {\n",
       "        vertical-align: middle;\n",
       "    }\n",
       "\n",
       "    .dataframe tbody tr th {\n",
       "        vertical-align: top;\n",
       "    }\n",
       "\n",
       "    .dataframe thead th {\n",
       "        text-align: right;\n",
       "    }\n",
       "</style>\n",
       "<table border=\"1\" class=\"dataframe\">\n",
       "  <thead>\n",
       "    <tr style=\"text-align: right;\">\n",
       "      <th></th>\n",
       "      <th>word</th>\n",
       "      <th>count</th>\n",
       "    </tr>\n",
       "  </thead>\n",
       "  <tbody>\n",
       "    <tr>\n",
       "      <th>0</th>\n",
       "      <td>speakers</td>\n",
       "      <td>304</td>\n",
       "    </tr>\n",
       "    <tr>\n",
       "      <th>1</th>\n",
       "      <td>recordings</td>\n",
       "      <td>304</td>\n",
       "    </tr>\n",
       "    <tr>\n",
       "      <th>2</th>\n",
       "      <td>minutes</td>\n",
       "      <td>10</td>\n",
       "    </tr>\n",
       "    <tr>\n",
       "      <th>3</th>\n",
       "      <td>Rules</td>\n",
       "      <td>10</td>\n",
       "    </tr>\n",
       "    <tr>\n",
       "      <th>4</th>\n",
       "      <td>data</td>\n",
       "      <td>3</td>\n",
       "    </tr>\n",
       "    <tr>\n",
       "      <th>5</th>\n",
       "      <td>A2HU1HGGYUO3X6</td>\n",
       "      <td>2</td>\n",
       "    </tr>\n",
       "  </tbody>\n",
       "</table>\n",
       "</div>"
      ],
      "text/plain": [
       "             word  count\n",
       "0        speakers    304\n",
       "1      recordings    304\n",
       "2         minutes     10\n",
       "3           Rules     10\n",
       "4            data      3\n",
       "5  A2HU1HGGYUO3X6      2"
      ]
     },
     "execution_count": 74,
     "metadata": {},
     "output_type": "execute_result"
    }
   ],
   "source": [
    "NNSdf = pd.DataFrame(sortedTargetsNNS_TR99)\n",
    "NNSdf.columns=['word','count']\n",
    "\n",
    "NNSdf"
   ]
  },
  {
   "cell_type": "code",
   "execution_count": 76,
   "metadata": {},
   "outputs": [
    {
     "name": "stdout",
     "output_type": "stream",
     "text": [
      "NN {'DANISH'}\n",
      "NNS set()\n",
      "NNP set()\n",
      "NNPS set()\n",
      "JJ {'Swedish', 'NORWEGIAN'}\n",
      "JJR set()\n",
      "JJS set()\n",
      "VB set()\n",
      "VBD set()\n",
      "VBG set()\n",
      "VBN set()\n",
      "VBP set()\n",
      "VBZ set()\n"
     ]
    }
   ],
   "source": [
    "Word = \"speakers\"\n",
    "mod_test(Word)"
   ]
  },
  {
   "cell_type": "code",
   "execution_count": 77,
   "metadata": {},
   "outputs": [
    {
     "name": "stdout",
     "output_type": "stream",
     "text": [
      "NN set()\n",
      "NNS set()\n",
      "NNP set()\n",
      "NNPS set()\n",
      "JJ {'short'}\n",
      "JJR set()\n",
      "JJS set()\n",
      "VB set()\n",
      "VBD set()\n",
      "VBG set()\n",
      "VBN set()\n",
      "VBP set()\n",
      "VBZ set()\n"
     ]
    }
   ],
   "source": [
    "Word = \"recordings\"\n",
    "mod_test(Word)"
   ]
  },
  {
   "cell_type": "code",
   "execution_count": 78,
   "metadata": {},
   "outputs": [
    {
     "name": "stdout",
     "output_type": "stream",
     "text": [
      "NN set()\n",
      "NNS set()\n",
      "NNP set()\n",
      "NNPS set()\n",
      "JJ set()\n",
      "JJR set()\n",
      "JJS set()\n",
      "VB set()\n",
      "VBD set()\n",
      "VBG set()\n",
      "VBN set()\n",
      "VBP set()\n",
      "VBZ set()\n"
     ]
    }
   ],
   "source": [
    "Word = \"minutes\"\n",
    "mod_test(Word)"
   ]
  },
  {
   "cell_type": "code",
   "execution_count": 79,
   "metadata": {},
   "outputs": [
    {
     "name": "stdout",
     "output_type": "stream",
     "text": [
      "NN set()\n",
      "NNS set()\n",
      "NNP set()\n",
      "NNPS set()\n",
      "JJ set()\n",
      "JJR set()\n",
      "JJS set()\n",
      "VB set()\n",
      "VBD set()\n",
      "VBG set()\n",
      "VBN set()\n",
      "VBP set()\n",
      "VBZ set()\n"
     ]
    }
   ],
   "source": [
    "Word = \"Rules\"\n",
    "mod_test(Word)"
   ]
  },
  {
   "cell_type": "code",
   "execution_count": 80,
   "metadata": {},
   "outputs": [
    {
     "name": "stdout",
     "output_type": "stream",
     "text": [
      "NN {'handwriting'}\n",
      "NNS set()\n",
      "NNP set()\n",
      "NNPS set()\n",
      "JJ set()\n",
      "JJR set()\n",
      "JJS set()\n",
      "VB set()\n",
      "VBD set()\n",
      "VBG set()\n",
      "VBN set()\n",
      "VBP set()\n",
      "VBZ set()\n"
     ]
    }
   ],
   "source": [
    "Word = \"data\"\n",
    "mod_test(Word)"
   ]
  },
  {
   "cell_type": "code",
   "execution_count": 81,
   "metadata": {},
   "outputs": [
    {
     "name": "stdout",
     "output_type": "stream",
     "text": [
      "NN set()\n",
      "NNS set()\n",
      "NNP set()\n",
      "NNPS set()\n",
      "JJ set()\n",
      "JJR set()\n",
      "JJS set()\n",
      "VB set()\n",
      "VBD set()\n",
      "VBG set()\n",
      "VBN set()\n",
      "VBP set()\n",
      "VBZ set()\n"
     ]
    }
   ],
   "source": [
    "Word = \"A2HU1HGGYUO3X6\"\n",
    "mod_test(Word)"
   ]
  },
  {
   "cell_type": "markdown",
   "metadata": {},
   "source": [
    "# NNP (proper singular)"
   ]
  },
  {
   "cell_type": "code",
   "execution_count": 83,
   "metadata": {},
   "outputs": [
    {
     "data": {
      "text/plain": [
       "[('품질', 34),\n",
       " ('평가', 34),\n",
       " ('소요시간', 34),\n",
       " ('매우쉬움', 34),\n",
       " ('Social', 18),\n",
       " ('Upload', 13),\n",
       " ('Chrome', 13),\n",
       " ('Qual', 10),\n",
       " ('Qualification', 10),\n",
       " ('Norms', 10),\n",
       " ('Gambling', 8),\n",
       " ('Online', 8),\n",
       " ('Gaming', 8),\n",
       " ('iPad', 3),\n",
       " ('Apple', 3),\n",
       " ('Pencil', 3),\n",
       " ('Game', 2),\n",
       " ('Design', 2)]"
      ]
     },
     "execution_count": 83,
     "metadata": {},
     "output_type": "execute_result"
    }
   ],
   "source": [
    "#counting the number of NNP (proper singular)\n",
    "countTarget = 'NNP'\n",
    "targetCounts = {}\n",
    "for entry in comDFc['POS_sents']:\n",
    "    for sentence in entry:\n",
    "        for ent, kind in sentence:\n",
    "            if kind != countTarget:\n",
    "                continue\n",
    "            elif ent in targetCounts:\n",
    "                targetCounts[ent] += 1\n",
    "            else:\n",
    "                targetCounts[ent] = 1\n",
    "sortedTargetsNNP = sorted(targetCounts.items(), key = lambda x: x[1], reverse = True)\n",
    "sortedTargetsNNP#[:22]\n"
   ]
  },
  {
   "cell_type": "code",
   "execution_count": 84,
   "metadata": {},
   "outputs": [],
   "source": [
    "#saving the list as a .txt\n",
    "import pickle\n",
    "with open (\"C1f_sortedTargetsNNP_TR99.txt\", \"wb\") as fp:\n",
    "    pickle.dump(sortedTargetsNNP, fp)"
   ]
  },
  {
   "cell_type": "code",
   "execution_count": 85,
   "metadata": {},
   "outputs": [
    {
     "data": {
      "text/plain": [
       "['품질',\n",
       " '평가',\n",
       " '소요시간',\n",
       " '매우쉬움',\n",
       " 'Social',\n",
       " 'Upload',\n",
       " 'Chrome',\n",
       " 'Qual',\n",
       " 'Qualification',\n",
       " 'Norms',\n",
       " 'Gambling',\n",
       " 'Online',\n",
       " 'Gaming',\n",
       " 'iPad',\n",
       " 'Apple',\n",
       " 'Pencil',\n",
       " 'Game',\n",
       " 'Design']"
      ]
     },
     "execution_count": 85,
     "metadata": {},
     "output_type": "execute_result"
    }
   ],
   "source": [
    "reduced_sortedTargetsNNP = sortedTargetsNNP#[:22]\n",
    "NNP_keywordsList = [(a) for a,b in reduced_sortedTargetsNNP]\n",
    "NNP_keywordsList"
   ]
  },
  {
   "cell_type": "code",
   "execution_count": 86,
   "metadata": {},
   "outputs": [],
   "source": [
    "#saving the list as a .txt\n",
    "import pickle\n",
    "with open (\"C1f_NNP_keywordsList_TR99.txt\", \"wb\") as fp:\n",
    "    pickle.dump(NNP_keywordsList, fp)"
   ]
  },
  {
   "cell_type": "code",
   "execution_count": 87,
   "metadata": {},
   "outputs": [
    {
     "data": {
      "text/plain": [
       "<BarContainer object of 18 artists>"
      ]
     },
     "execution_count": 87,
     "metadata": {},
     "output_type": "execute_result"
    },
    {
     "data": {
      "text/plain": [
       "<Figure size 432x288 with 0 Axes>"
      ]
     },
     "metadata": {},
     "output_type": "display_data"
    },
    {
     "name": "stderr",
     "output_type": "stream",
     "text": [
      "C:\\Users\\acmel\\AppData\\Roaming\\Python\\Python37\\site-packages\\matplotlib\\backends\\backend_agg.py:214: RuntimeWarning: Glyph 54408 missing from current font.\n",
      "  font.set_text(s, 0.0, flags=flags)\n",
      "C:\\Users\\acmel\\AppData\\Roaming\\Python\\Python37\\site-packages\\matplotlib\\backends\\backend_agg.py:214: RuntimeWarning: Glyph 51656 missing from current font.\n",
      "  font.set_text(s, 0.0, flags=flags)\n",
      "C:\\Users\\acmel\\AppData\\Roaming\\Python\\Python37\\site-packages\\matplotlib\\backends\\backend_agg.py:214: RuntimeWarning: Glyph 54217 missing from current font.\n",
      "  font.set_text(s, 0.0, flags=flags)\n",
      "C:\\Users\\acmel\\AppData\\Roaming\\Python\\Python37\\site-packages\\matplotlib\\backends\\backend_agg.py:214: RuntimeWarning: Glyph 44032 missing from current font.\n",
      "  font.set_text(s, 0.0, flags=flags)\n",
      "C:\\Users\\acmel\\AppData\\Roaming\\Python\\Python37\\site-packages\\matplotlib\\backends\\backend_agg.py:214: RuntimeWarning: Glyph 49548 missing from current font.\n",
      "  font.set_text(s, 0.0, flags=flags)\n",
      "C:\\Users\\acmel\\AppData\\Roaming\\Python\\Python37\\site-packages\\matplotlib\\backends\\backend_agg.py:214: RuntimeWarning: Glyph 50836 missing from current font.\n",
      "  font.set_text(s, 0.0, flags=flags)\n",
      "C:\\Users\\acmel\\AppData\\Roaming\\Python\\Python37\\site-packages\\matplotlib\\backends\\backend_agg.py:214: RuntimeWarning: Glyph 49884 missing from current font.\n",
      "  font.set_text(s, 0.0, flags=flags)\n",
      "C:\\Users\\acmel\\AppData\\Roaming\\Python\\Python37\\site-packages\\matplotlib\\backends\\backend_agg.py:214: RuntimeWarning: Glyph 44036 missing from current font.\n",
      "  font.set_text(s, 0.0, flags=flags)\n",
      "C:\\Users\\acmel\\AppData\\Roaming\\Python\\Python37\\site-packages\\matplotlib\\backends\\backend_agg.py:214: RuntimeWarning: Glyph 47588 missing from current font.\n",
      "  font.set_text(s, 0.0, flags=flags)\n",
      "C:\\Users\\acmel\\AppData\\Roaming\\Python\\Python37\\site-packages\\matplotlib\\backends\\backend_agg.py:214: RuntimeWarning: Glyph 50864 missing from current font.\n",
      "  font.set_text(s, 0.0, flags=flags)\n",
      "C:\\Users\\acmel\\AppData\\Roaming\\Python\\Python37\\site-packages\\matplotlib\\backends\\backend_agg.py:214: RuntimeWarning: Glyph 49772 missing from current font.\n",
      "  font.set_text(s, 0.0, flags=flags)\n",
      "C:\\Users\\acmel\\AppData\\Roaming\\Python\\Python37\\site-packages\\matplotlib\\backends\\backend_agg.py:214: RuntimeWarning: Glyph 50880 missing from current font.\n",
      "  font.set_text(s, 0.0, flags=flags)\n",
      "C:\\Users\\acmel\\AppData\\Roaming\\Python\\Python37\\site-packages\\matplotlib\\backends\\backend_agg.py:183: RuntimeWarning: Glyph 54408 missing from current font.\n",
      "  font.set_text(s, 0, flags=flags)\n",
      "C:\\Users\\acmel\\AppData\\Roaming\\Python\\Python37\\site-packages\\matplotlib\\backends\\backend_agg.py:183: RuntimeWarning: Glyph 51656 missing from current font.\n",
      "  font.set_text(s, 0, flags=flags)\n",
      "C:\\Users\\acmel\\AppData\\Roaming\\Python\\Python37\\site-packages\\matplotlib\\backends\\backend_agg.py:183: RuntimeWarning: Glyph 54217 missing from current font.\n",
      "  font.set_text(s, 0, flags=flags)\n",
      "C:\\Users\\acmel\\AppData\\Roaming\\Python\\Python37\\site-packages\\matplotlib\\backends\\backend_agg.py:183: RuntimeWarning: Glyph 44032 missing from current font.\n",
      "  font.set_text(s, 0, flags=flags)\n",
      "C:\\Users\\acmel\\AppData\\Roaming\\Python\\Python37\\site-packages\\matplotlib\\backends\\backend_agg.py:183: RuntimeWarning: Glyph 49548 missing from current font.\n",
      "  font.set_text(s, 0, flags=flags)\n",
      "C:\\Users\\acmel\\AppData\\Roaming\\Python\\Python37\\site-packages\\matplotlib\\backends\\backend_agg.py:183: RuntimeWarning: Glyph 50836 missing from current font.\n",
      "  font.set_text(s, 0, flags=flags)\n",
      "C:\\Users\\acmel\\AppData\\Roaming\\Python\\Python37\\site-packages\\matplotlib\\backends\\backend_agg.py:183: RuntimeWarning: Glyph 49884 missing from current font.\n",
      "  font.set_text(s, 0, flags=flags)\n",
      "C:\\Users\\acmel\\AppData\\Roaming\\Python\\Python37\\site-packages\\matplotlib\\backends\\backend_agg.py:183: RuntimeWarning: Glyph 44036 missing from current font.\n",
      "  font.set_text(s, 0, flags=flags)\n",
      "C:\\Users\\acmel\\AppData\\Roaming\\Python\\Python37\\site-packages\\matplotlib\\backends\\backend_agg.py:183: RuntimeWarning: Glyph 47588 missing from current font.\n",
      "  font.set_text(s, 0, flags=flags)\n",
      "C:\\Users\\acmel\\AppData\\Roaming\\Python\\Python37\\site-packages\\matplotlib\\backends\\backend_agg.py:183: RuntimeWarning: Glyph 50864 missing from current font.\n",
      "  font.set_text(s, 0, flags=flags)\n",
      "C:\\Users\\acmel\\AppData\\Roaming\\Python\\Python37\\site-packages\\matplotlib\\backends\\backend_agg.py:183: RuntimeWarning: Glyph 49772 missing from current font.\n",
      "  font.set_text(s, 0, flags=flags)\n",
      "C:\\Users\\acmel\\AppData\\Roaming\\Python\\Python37\\site-packages\\matplotlib\\backends\\backend_agg.py:183: RuntimeWarning: Glyph 50880 missing from current font.\n",
      "  font.set_text(s, 0, flags=flags)\n"
     ]
    },
    {
     "data": {
      "image/png": "[encoded data removed]",
      "text/plain": [
       "<Figure size 1080x1440 with 1 Axes>"
      ]
     },
     "metadata": {
      "needs_background": "light"
     },
     "output_type": "display_data"
    }
   ],
   "source": [
    "NNP = sortedTargetsNNP#[:20]\n",
    "\n",
    "fig = plt.figure()\n",
    "fig, ax = plt.subplots(figsize=(15, 20))\n",
    "\n",
    "ax.invert_yaxis() \n",
    "ax.set_xlabel('Counts')\n",
    "ax.set_title('Nouns (proper singular)')\n",
    "\n",
    "\n",
    "plt.barh(*zip(*NNP))"
   ]
  },
  {
   "cell_type": "markdown",
   "metadata": {},
   "source": [
    "### NNP Modifiers"
   ]
  },
  {
   "cell_type": "code",
   "execution_count": 88,
   "metadata": {},
   "outputs": [],
   "source": [
    "#opening\n",
    "with open(\"C1f_sortedTargetsNNP_TR99.txt\", \"rb\") as fp:\n",
    "    sortedTargetsNNP_TR99 = pickle.load(fp)\n",
    "    \n",
    "#sortedTargetsNNP_TR99"
   ]
  },
  {
   "cell_type": "code",
   "execution_count": 89,
   "metadata": {},
   "outputs": [
    {
     "data": {
      "text/html": [
       "<div>\n",
       "<style scoped>\n",
       "    .dataframe tbody tr th:only-of-type {\n",
       "        vertical-align: middle;\n",
       "    }\n",
       "\n",
       "    .dataframe tbody tr th {\n",
       "        vertical-align: top;\n",
       "    }\n",
       "\n",
       "    .dataframe thead th {\n",
       "        text-align: right;\n",
       "    }\n",
       "</style>\n",
       "<table border=\"1\" class=\"dataframe\">\n",
       "  <thead>\n",
       "    <tr style=\"text-align: right;\">\n",
       "      <th></th>\n",
       "      <th>word</th>\n",
       "      <th>count</th>\n",
       "    </tr>\n",
       "  </thead>\n",
       "  <tbody>\n",
       "    <tr>\n",
       "      <th>0</th>\n",
       "      <td>품질</td>\n",
       "      <td>34</td>\n",
       "    </tr>\n",
       "    <tr>\n",
       "      <th>1</th>\n",
       "      <td>평가</td>\n",
       "      <td>34</td>\n",
       "    </tr>\n",
       "    <tr>\n",
       "      <th>2</th>\n",
       "      <td>소요시간</td>\n",
       "      <td>34</td>\n",
       "    </tr>\n",
       "    <tr>\n",
       "      <th>3</th>\n",
       "      <td>매우쉬움</td>\n",
       "      <td>34</td>\n",
       "    </tr>\n",
       "    <tr>\n",
       "      <th>4</th>\n",
       "      <td>Social</td>\n",
       "      <td>18</td>\n",
       "    </tr>\n",
       "    <tr>\n",
       "      <th>5</th>\n",
       "      <td>Upload</td>\n",
       "      <td>13</td>\n",
       "    </tr>\n",
       "    <tr>\n",
       "      <th>6</th>\n",
       "      <td>Chrome</td>\n",
       "      <td>13</td>\n",
       "    </tr>\n",
       "    <tr>\n",
       "      <th>7</th>\n",
       "      <td>Qual</td>\n",
       "      <td>10</td>\n",
       "    </tr>\n",
       "    <tr>\n",
       "      <th>8</th>\n",
       "      <td>Qualification</td>\n",
       "      <td>10</td>\n",
       "    </tr>\n",
       "    <tr>\n",
       "      <th>9</th>\n",
       "      <td>Norms</td>\n",
       "      <td>10</td>\n",
       "    </tr>\n",
       "    <tr>\n",
       "      <th>10</th>\n",
       "      <td>Gambling</td>\n",
       "      <td>8</td>\n",
       "    </tr>\n",
       "    <tr>\n",
       "      <th>11</th>\n",
       "      <td>Online</td>\n",
       "      <td>8</td>\n",
       "    </tr>\n",
       "    <tr>\n",
       "      <th>12</th>\n",
       "      <td>Gaming</td>\n",
       "      <td>8</td>\n",
       "    </tr>\n",
       "    <tr>\n",
       "      <th>13</th>\n",
       "      <td>iPad</td>\n",
       "      <td>3</td>\n",
       "    </tr>\n",
       "    <tr>\n",
       "      <th>14</th>\n",
       "      <td>Apple</td>\n",
       "      <td>3</td>\n",
       "    </tr>\n",
       "    <tr>\n",
       "      <th>15</th>\n",
       "      <td>Pencil</td>\n",
       "      <td>3</td>\n",
       "    </tr>\n",
       "    <tr>\n",
       "      <th>16</th>\n",
       "      <td>Game</td>\n",
       "      <td>2</td>\n",
       "    </tr>\n",
       "    <tr>\n",
       "      <th>17</th>\n",
       "      <td>Design</td>\n",
       "      <td>2</td>\n",
       "    </tr>\n",
       "  </tbody>\n",
       "</table>\n",
       "</div>"
      ],
      "text/plain": [
       "             word  count\n",
       "0              품질     34\n",
       "1              평가     34\n",
       "2            소요시간     34\n",
       "3            매우쉬움     34\n",
       "4          Social     18\n",
       "5          Upload     13\n",
       "6          Chrome     13\n",
       "7            Qual     10\n",
       "8   Qualification     10\n",
       "9           Norms     10\n",
       "10       Gambling      8\n",
       "11         Online      8\n",
       "12         Gaming      8\n",
       "13           iPad      3\n",
       "14          Apple      3\n",
       "15         Pencil      3\n",
       "16           Game      2\n",
       "17         Design      2"
      ]
     },
     "execution_count": 89,
     "metadata": {},
     "output_type": "execute_result"
    }
   ],
   "source": [
    "NNPdf = pd.DataFrame(sortedTargetsNNP_TR99)\n",
    "NNPdf.columns=['word','count']\n",
    "\n",
    "NNPdf"
   ]
  },
  {
   "cell_type": "code",
   "execution_count": 90,
   "metadata": {},
   "outputs": [
    {
     "name": "stdout",
     "output_type": "stream",
     "text": [
      "NN set()\n",
      "NNS set()\n",
      "NNP set()\n",
      "NNPS set()\n",
      "JJ set()\n",
      "JJR set()\n",
      "JJS set()\n",
      "VB set()\n",
      "VBD set()\n",
      "VBG set()\n",
      "VBN set()\n",
      "VBP set()\n",
      "VBZ set()\n"
     ]
    }
   ],
   "source": [
    "Word = \"품질\"\n",
    "mod_test(Word)"
   ]
  },
  {
   "cell_type": "code",
   "execution_count": 92,
   "metadata": {},
   "outputs": [
    {
     "name": "stdout",
     "output_type": "stream",
     "text": [
      "NN set()\n",
      "NNS set()\n",
      "NNP set()\n",
      "NNPS set()\n",
      "JJ set()\n",
      "JJR set()\n",
      "JJS set()\n",
      "VB set()\n",
      "VBD set()\n",
      "VBG set()\n",
      "VBN set()\n",
      "VBP set()\n",
      "VBZ set()\n"
     ]
    }
   ],
   "source": [
    "Word = \"평가\"\n",
    "mod_test(Word)"
   ]
  },
  {
   "cell_type": "code",
   "execution_count": 93,
   "metadata": {},
   "outputs": [
    {
     "name": "stdout",
     "output_type": "stream",
     "text": [
      "NN set()\n",
      "NNS set()\n",
      "NNP set()\n",
      "NNPS set()\n",
      "JJ set()\n",
      "JJR set()\n",
      "JJS set()\n",
      "VB set()\n",
      "VBD set()\n",
      "VBG set()\n",
      "VBN set()\n",
      "VBP set()\n",
      "VBZ set()\n"
     ]
    }
   ],
   "source": [
    "Word = \"소요시간\"\n",
    "mod_test(Word)"
   ]
  },
  {
   "cell_type": "code",
   "execution_count": 94,
   "metadata": {},
   "outputs": [
    {
     "name": "stdout",
     "output_type": "stream",
     "text": [
      "NN set()\n",
      "NNS set()\n",
      "NNP set()\n",
      "NNPS set()\n",
      "JJ set()\n",
      "JJR set()\n",
      "JJS set()\n",
      "VB set()\n",
      "VBD set()\n",
      "VBG set()\n",
      "VBN set()\n",
      "VBP set()\n",
      "VBZ set()\n"
     ]
    }
   ],
   "source": [
    "Word = \"매우쉬움\"\n",
    "mod_test(Word)"
   ]
  },
  {
   "cell_type": "code",
   "execution_count": 95,
   "metadata": {},
   "outputs": [
    {
     "name": "stdout",
     "output_type": "stream",
     "text": [
      "NN set()\n",
      "NNS set()\n",
      "NNP set()\n",
      "NNPS set()\n",
      "JJ set()\n",
      "JJR set()\n",
      "JJS set()\n",
      "VB set()\n",
      "VBD set()\n",
      "VBG set()\n",
      "VBN set()\n",
      "VBP set()\n",
      "VBZ set()\n"
     ]
    }
   ],
   "source": [
    "Word = \"Social\"\n",
    "mod_test(Word)"
   ]
  },
  {
   "cell_type": "code",
   "execution_count": 96,
   "metadata": {},
   "outputs": [
    {
     "name": "stdout",
     "output_type": "stream",
     "text": [
      "NN set()\n",
      "NNS set()\n",
      "NNP set()\n",
      "NNPS set()\n",
      "JJ set()\n",
      "JJR set()\n",
      "JJS set()\n",
      "VB set()\n",
      "VBD set()\n",
      "VBG set()\n",
      "VBN set()\n",
      "VBP set()\n",
      "VBZ set()\n"
     ]
    }
   ],
   "source": [
    "Word = \"Upload\"\n",
    "mod_test(Word)"
   ]
  },
  {
   "cell_type": "code",
   "execution_count": 97,
   "metadata": {},
   "outputs": [
    {
     "name": "stdout",
     "output_type": "stream",
     "text": [
      "NN set()\n",
      "NNS set()\n",
      "NNP set()\n",
      "NNPS set()\n",
      "JJ set()\n",
      "JJR set()\n",
      "JJS set()\n",
      "VB set()\n",
      "VBD set()\n",
      "VBG set()\n",
      "VBN set()\n",
      "VBP set()\n",
      "VBZ set()\n"
     ]
    }
   ],
   "source": [
    "Word = \"Chrome\"\n",
    "mod_test(Word)"
   ]
  },
  {
   "cell_type": "code",
   "execution_count": 98,
   "metadata": {},
   "outputs": [
    {
     "name": "stdout",
     "output_type": "stream",
     "text": [
      "NN set()\n",
      "NNS set()\n",
      "NNP set()\n",
      "NNPS set()\n",
      "JJ set()\n",
      "JJR set()\n",
      "JJS set()\n",
      "VB set()\n",
      "VBD set()\n",
      "VBG set()\n",
      "VBN set()\n",
      "VBP set()\n",
      "VBZ set()\n"
     ]
    }
   ],
   "source": [
    "Word = \"Qual\"\n",
    "mod_test(Word)"
   ]
  },
  {
   "cell_type": "code",
   "execution_count": 100,
   "metadata": {},
   "outputs": [
    {
     "name": "stdout",
     "output_type": "stream",
     "text": [
      "NN set()\n",
      "NNS set()\n",
      "NNP set()\n",
      "NNPS set()\n",
      "JJ set()\n",
      "JJR set()\n",
      "JJS set()\n",
      "VB set()\n",
      "VBD set()\n",
      "VBG set()\n",
      "VBN set()\n",
      "VBP set()\n",
      "VBZ set()\n"
     ]
    }
   ],
   "source": [
    "Word = \"Qualification\"\n",
    "mod_test(Word)"
   ]
  },
  {
   "cell_type": "code",
   "execution_count": 101,
   "metadata": {},
   "outputs": [
    {
     "name": "stdout",
     "output_type": "stream",
     "text": [
      "NN set()\n",
      "NNS set()\n",
      "NNP set()\n",
      "NNPS set()\n",
      "JJ set()\n",
      "JJR set()\n",
      "JJS set()\n",
      "VB set()\n",
      "VBD set()\n",
      "VBG set()\n",
      "VBN set()\n",
      "VBP set()\n",
      "VBZ set()\n"
     ]
    }
   ],
   "source": [
    "Word = \"Norms\"\n",
    "mod_test(Word)"
   ]
  },
  {
   "cell_type": "code",
   "execution_count": 102,
   "metadata": {},
   "outputs": [
    {
     "name": "stdout",
     "output_type": "stream",
     "text": [
      "NN set()\n",
      "NNS set()\n",
      "NNP set()\n",
      "NNPS set()\n",
      "JJ set()\n",
      "JJR set()\n",
      "JJS set()\n",
      "VB set()\n",
      "VBD set()\n",
      "VBG set()\n",
      "VBN set()\n",
      "VBP set()\n",
      "VBZ set()\n"
     ]
    }
   ],
   "source": [
    "Word = \"Gambling\"\n",
    "mod_test(Word)"
   ]
  },
  {
   "cell_type": "code",
   "execution_count": 103,
   "metadata": {},
   "outputs": [
    {
     "name": "stdout",
     "output_type": "stream",
     "text": [
      "NN set()\n",
      "NNS set()\n",
      "NNP set()\n",
      "NNPS set()\n",
      "JJ set()\n",
      "JJR set()\n",
      "JJS set()\n",
      "VB set()\n",
      "VBD set()\n",
      "VBG set()\n",
      "VBN set()\n",
      "VBP set()\n",
      "VBZ set()\n"
     ]
    }
   ],
   "source": [
    "Word = \"Online\"\n",
    "mod_test(Word)"
   ]
  },
  {
   "cell_type": "code",
   "execution_count": 104,
   "metadata": {},
   "outputs": [
    {
     "name": "stdout",
     "output_type": "stream",
     "text": [
      "NN set()\n",
      "NNS set()\n",
      "NNP set()\n",
      "NNPS set()\n",
      "JJ set()\n",
      "JJR set()\n",
      "JJS set()\n",
      "VB set()\n",
      "VBD set()\n",
      "VBG set()\n",
      "VBN set()\n",
      "VBP set()\n",
      "VBZ set()\n"
     ]
    }
   ],
   "source": [
    "Word = \"Gaming\"\n",
    "mod_test(Word)"
   ]
  },
  {
   "cell_type": "code",
   "execution_count": 110,
   "metadata": {},
   "outputs": [
    {
     "name": "stdout",
     "output_type": "stream",
     "text": [
      "NN set()\n",
      "NNS set()\n",
      "NNP set()\n",
      "NNPS set()\n",
      "JJ set()\n",
      "JJR set()\n",
      "JJS set()\n",
      "VB set()\n",
      "VBD set()\n",
      "VBG set()\n",
      "VBN set()\n",
      "VBP set()\n",
      "VBZ set()\n"
     ]
    }
   ],
   "source": [
    "Word = \"iPad\"\n",
    "mod_test(Word)"
   ]
  },
  {
   "cell_type": "code",
   "execution_count": 111,
   "metadata": {},
   "outputs": [
    {
     "name": "stdout",
     "output_type": "stream",
     "text": [
      "NN set()\n",
      "NNS set()\n",
      "NNP set()\n",
      "NNPS set()\n",
      "JJ set()\n",
      "JJR set()\n",
      "JJS set()\n",
      "VB set()\n",
      "VBD set()\n",
      "VBG set()\n",
      "VBN set()\n",
      "VBP set()\n",
      "VBZ set()\n"
     ]
    }
   ],
   "source": [
    "Word = \"Apple\"\n",
    "mod_test(Word)"
   ]
  },
  {
   "cell_type": "code",
   "execution_count": 112,
   "metadata": {},
   "outputs": [
    {
     "name": "stdout",
     "output_type": "stream",
     "text": [
      "NN set()\n",
      "NNS set()\n",
      "NNP set()\n",
      "NNPS set()\n",
      "JJ set()\n",
      "JJR set()\n",
      "JJS set()\n",
      "VB set()\n",
      "VBD set()\n",
      "VBG set()\n",
      "VBN set()\n",
      "VBP set()\n",
      "VBZ set()\n"
     ]
    }
   ],
   "source": [
    "Word = \"Pencil\"\n",
    "mod_test(Word)"
   ]
  },
  {
   "cell_type": "code",
   "execution_count": 113,
   "metadata": {},
   "outputs": [
    {
     "name": "stdout",
     "output_type": "stream",
     "text": [
      "NN set()\n",
      "NNS set()\n",
      "NNP set()\n",
      "NNPS set()\n",
      "JJ set()\n",
      "JJR set()\n",
      "JJS set()\n",
      "VB set()\n",
      "VBD set()\n",
      "VBG set()\n",
      "VBN set()\n",
      "VBP set()\n",
      "VBZ set()\n"
     ]
    }
   ],
   "source": [
    "Word = \"Game\"\n",
    "mod_test(Word)"
   ]
  },
  {
   "cell_type": "code",
   "execution_count": 114,
   "metadata": {},
   "outputs": [
    {
     "name": "stdout",
     "output_type": "stream",
     "text": [
      "NN set()\n",
      "NNS set()\n",
      "NNP set()\n",
      "NNPS set()\n",
      "JJ set()\n",
      "JJR set()\n",
      "JJS set()\n",
      "VB set()\n",
      "VBD set()\n",
      "VBG set()\n",
      "VBN set()\n",
      "VBP set()\n",
      "VBZ set()\n"
     ]
    }
   ],
   "source": [
    "Word = \"Design\"\n",
    "mod_test(Word)"
   ]
  },
  {
   "cell_type": "markdown",
   "metadata": {},
   "source": [
    "# NNPS (proper plural)"
   ]
  },
  {
   "cell_type": "code",
   "execution_count": 115,
   "metadata": {},
   "outputs": [
    {
     "data": {
      "text/plain": [
       "[('Effects', 2)]"
      ]
     },
     "execution_count": 115,
     "metadata": {},
     "output_type": "execute_result"
    }
   ],
   "source": [
    "#counting the number of NNPS (proper plural)\n",
    "countTarget = 'NNPS'\n",
    "targetCounts = {}\n",
    "for entry in comDFc['POS_sents']:\n",
    "    for sentence in entry:\n",
    "        for ent, kind in sentence:\n",
    "            if kind != countTarget:\n",
    "                continue\n",
    "            elif ent in targetCounts:\n",
    "                targetCounts[ent] += 1\n",
    "            else:\n",
    "                targetCounts[ent] = 1\n",
    "sortedTargetsNNPS = sorted(targetCounts.items(), key = lambda x: x[1], reverse = True)\n",
    "sortedTargetsNNPS#[:100]"
   ]
  },
  {
   "cell_type": "code",
   "execution_count": 116,
   "metadata": {},
   "outputs": [],
   "source": [
    "#saving the list as a .txt\n",
    "import pickle\n",
    "with open (\"C1f_sortedTargetsNNPS_TR99.txt\", \"wb\") as fp:\n",
    "    pickle.dump(sortedTargetsNNPS, fp)"
   ]
  },
  {
   "cell_type": "code",
   "execution_count": 117,
   "metadata": {},
   "outputs": [
    {
     "data": {
      "text/plain": [
       "['Effects']"
      ]
     },
     "execution_count": 117,
     "metadata": {},
     "output_type": "execute_result"
    }
   ],
   "source": [
    "reduced_sortedTargetsNNPS = sortedTargetsNNPS#[:20]\n",
    "NNPS_keywordsList = [(a) for a,b in reduced_sortedTargetsNNPS]\n",
    "NNPS_keywordsList\n"
   ]
  },
  {
   "cell_type": "code",
   "execution_count": 118,
   "metadata": {},
   "outputs": [],
   "source": [
    "#saving the list as a .txt\n",
    "import pickle\n",
    "with open (\"C1f_NNPS_keywordsList_TR99.txt\", \"wb\") as fp:\n",
    "    pickle.dump(NNPS_keywordsList, fp)"
   ]
  },
  {
   "cell_type": "code",
   "execution_count": 119,
   "metadata": {
    "scrolled": true
   },
   "outputs": [
    {
     "data": {
      "text/plain": [
       "<BarContainer object of 1 artists>"
      ]
     },
     "execution_count": 119,
     "metadata": {},
     "output_type": "execute_result"
    },
    {
     "data": {
      "image/png": "[encoded data removed]",
      "text/plain": [
       "<Figure size 1008x720 with 1 Axes>"
      ]
     },
     "metadata": {
      "needs_background": "light"
     },
     "output_type": "display_data"
    }
   ],
   "source": [
    "NNPS = sortedTargetsNNPS\n",
    "\n",
    "ax = fig.add_subplot(111)\n",
    "fig, ax = plt.subplots(figsize=(14, 10))\n",
    "\n",
    "ax.invert_yaxis() \n",
    "ax.set_xlabel('Counts')\n",
    "ax.set_title('Nouns (proper plural)')\n",
    "\n",
    "\n",
    "plt.barh(*zip(*NNPS))"
   ]
  },
  {
   "cell_type": "markdown",
   "metadata": {},
   "source": [
    "## NNPS modifiers"
   ]
  },
  {
   "cell_type": "code",
   "execution_count": 122,
   "metadata": {},
   "outputs": [],
   "source": [
    "#opening\n",
    "with open(\"C1f_sortedTargetsNNPS_TR99.txt\", \"rb\") as fp:\n",
    "    sortedTargetsNNPS_TR99 = pickle.load(fp)\n",
    "    \n",
    "#sortedTargetsNNPS_TR99"
   ]
  },
  {
   "cell_type": "code",
   "execution_count": 123,
   "metadata": {},
   "outputs": [
    {
     "data": {
      "text/html": [
       "<div>\n",
       "<style scoped>\n",
       "    .dataframe tbody tr th:only-of-type {\n",
       "        vertical-align: middle;\n",
       "    }\n",
       "\n",
       "    .dataframe tbody tr th {\n",
       "        vertical-align: top;\n",
       "    }\n",
       "\n",
       "    .dataframe thead th {\n",
       "        text-align: right;\n",
       "    }\n",
       "</style>\n",
       "<table border=\"1\" class=\"dataframe\">\n",
       "  <thead>\n",
       "    <tr style=\"text-align: right;\">\n",
       "      <th></th>\n",
       "      <th>word</th>\n",
       "      <th>count</th>\n",
       "    </tr>\n",
       "  </thead>\n",
       "  <tbody>\n",
       "    <tr>\n",
       "      <th>0</th>\n",
       "      <td>Effects</td>\n",
       "      <td>2</td>\n",
       "    </tr>\n",
       "  </tbody>\n",
       "</table>\n",
       "</div>"
      ],
      "text/plain": [
       "      word  count\n",
       "0  Effects      2"
      ]
     },
     "execution_count": 123,
     "metadata": {},
     "output_type": "execute_result"
    }
   ],
   "source": [
    "NNPSdf = pd.DataFrame(sortedTargetsNNPS_TR99)\n",
    "NNPSdf.columns=['word','count']\n",
    "\n",
    "NNPSdf"
   ]
  },
  {
   "cell_type": "code",
   "execution_count": 124,
   "metadata": {},
   "outputs": [
    {
     "name": "stdout",
     "output_type": "stream",
     "text": [
      "NN set()\n",
      "NNS set()\n",
      "NNP set()\n",
      "NNPS set()\n",
      "JJ set()\n",
      "JJR set()\n",
      "JJS set()\n",
      "VB set()\n",
      "VBD set()\n",
      "VBG set()\n",
      "VBN set()\n",
      "VBP set()\n",
      "VBZ set()\n"
     ]
    }
   ],
   "source": [
    "Word = \"Effects\t\"\n",
    "mod_test(Word)"
   ]
  },
  {
   "cell_type": "markdown",
   "metadata": {},
   "source": [
    "# Verbs (base form)"
   ]
  },
  {
   "cell_type": "code",
   "execution_count": 125,
   "metadata": {
    "scrolled": true
   },
   "outputs": [
    {
     "data": {
      "text/plain": [
       "[('Make', 304), ('Break', 10), ('Write', 8), ('say', 8), ('Collect', 3)]"
      ]
     },
     "execution_count": 125,
     "metadata": {},
     "output_type": "execute_result"
    }
   ],
   "source": [
    "#counting the number of verbs (base form)\n",
    "countTarget = 'VB'\n",
    "targetCounts = {}\n",
    "for entry in comDFc['POS_sents']:\n",
    "    for sentence in entry:\n",
    "        for ent, kind in sentence:\n",
    "            if kind != countTarget:\n",
    "                continue\n",
    "            elif ent in targetCounts:\n",
    "                targetCounts[ent] += 1\n",
    "            else:\n",
    "                targetCounts[ent] = 1\n",
    "sortedTargetsVB = sorted(targetCounts.items(), key = lambda x: x[1], reverse = True)\n",
    "sortedTargetsVB#[:20]"
   ]
  },
  {
   "cell_type": "code",
   "execution_count": 126,
   "metadata": {},
   "outputs": [],
   "source": [
    "#saving the list as a .txt\n",
    "import pickle\n",
    "with open (\"C1f_sortedTargetsVB_TR99.txt\", \"wb\") as fp:\n",
    "    pickle.dump(sortedTargetsVB, fp)"
   ]
  },
  {
   "cell_type": "code",
   "execution_count": 127,
   "metadata": {},
   "outputs": [
    {
     "data": {
      "text/plain": [
       "['Make', 'Break', 'Write', 'say', 'Collect']"
      ]
     },
     "execution_count": 127,
     "metadata": {},
     "output_type": "execute_result"
    }
   ],
   "source": [
    "reduced_sortedTargetsVB = sortedTargetsVB#[:20]\n",
    "VB_keywordsList = [(a) for a,b in reduced_sortedTargetsVB]\n",
    "VB_keywordsList"
   ]
  },
  {
   "cell_type": "code",
   "execution_count": 128,
   "metadata": {},
   "outputs": [],
   "source": [
    "#saving the list as a .txt\n",
    "import pickle\n",
    "with open (\"C1f_VB_keywordsList_TR99.txt\", \"wb\") as fp:\n",
    "    pickle.dump(VB_keywordsList, fp)"
   ]
  },
  {
   "cell_type": "code",
   "execution_count": 129,
   "metadata": {
    "scrolled": false
   },
   "outputs": [
    {
     "data": {
      "text/plain": [
       "<BarContainer object of 5 artists>"
      ]
     },
     "execution_count": 129,
     "metadata": {},
     "output_type": "execute_result"
    },
    {
     "data": {
      "text/plain": [
       "<Figure size 432x288 with 0 Axes>"
      ]
     },
     "metadata": {},
     "output_type": "display_data"
    },
    {
     "data": {
      "image/png": "[encoded data removed]",
      "text/plain": [
       "<Figure size 1008x720 with 1 Axes>"
      ]
     },
     "metadata": {
      "needs_background": "light"
     },
     "output_type": "display_data"
    }
   ],
   "source": [
    "VB = sortedTargetsVB#[:20]\n",
    "\n",
    "fig = plt.figure()\n",
    "fig, ax = plt.subplots(figsize=(14, 10))\n",
    "\n",
    "ax.invert_yaxis() \n",
    "ax.set_xlabel('Counts')\n",
    "ax.set_title('Verbs (Basic)')\n",
    "\n",
    "\n",
    "plt.barh(*zip(*VB))"
   ]
  },
  {
   "cell_type": "markdown",
   "metadata": {},
   "source": [
    "### VB Modifiers"
   ]
  },
  {
   "cell_type": "code",
   "execution_count": 130,
   "metadata": {},
   "outputs": [],
   "source": [
    "#opening\n",
    "with open(\"C1f_sortedTargetsVB_TR99.txt\", \"rb\") as fp:\n",
    "    sortedTargetsVB_TR99 = pickle.load(fp)\n",
    "    \n",
    "#sortedTargetsVB_TR99"
   ]
  },
  {
   "cell_type": "code",
   "execution_count": 131,
   "metadata": {},
   "outputs": [
    {
     "data": {
      "text/html": [
       "<div>\n",
       "<style scoped>\n",
       "    .dataframe tbody tr th:only-of-type {\n",
       "        vertical-align: middle;\n",
       "    }\n",
       "\n",
       "    .dataframe tbody tr th {\n",
       "        vertical-align: top;\n",
       "    }\n",
       "\n",
       "    .dataframe thead th {\n",
       "        text-align: right;\n",
       "    }\n",
       "</style>\n",
       "<table border=\"1\" class=\"dataframe\">\n",
       "  <thead>\n",
       "    <tr style=\"text-align: right;\">\n",
       "      <th></th>\n",
       "      <th>word</th>\n",
       "      <th>count</th>\n",
       "    </tr>\n",
       "  </thead>\n",
       "  <tbody>\n",
       "    <tr>\n",
       "      <th>0</th>\n",
       "      <td>Make</td>\n",
       "      <td>304</td>\n",
       "    </tr>\n",
       "    <tr>\n",
       "      <th>1</th>\n",
       "      <td>Break</td>\n",
       "      <td>10</td>\n",
       "    </tr>\n",
       "    <tr>\n",
       "      <th>2</th>\n",
       "      <td>Write</td>\n",
       "      <td>8</td>\n",
       "    </tr>\n",
       "    <tr>\n",
       "      <th>3</th>\n",
       "      <td>say</td>\n",
       "      <td>8</td>\n",
       "    </tr>\n",
       "    <tr>\n",
       "      <th>4</th>\n",
       "      <td>Collect</td>\n",
       "      <td>3</td>\n",
       "    </tr>\n",
       "  </tbody>\n",
       "</table>\n",
       "</div>"
      ],
      "text/plain": [
       "      word  count\n",
       "0     Make    304\n",
       "1    Break     10\n",
       "2    Write      8\n",
       "3      say      8\n",
       "4  Collect      3"
      ]
     },
     "execution_count": 131,
     "metadata": {},
     "output_type": "execute_result"
    }
   ],
   "source": [
    "VBdf = pd.DataFrame(sortedTargetsVB_TR99)\n",
    "VBdf.columns=['word','count']\n",
    "\n",
    "VBdf"
   ]
  },
  {
   "cell_type": "code",
   "execution_count": 132,
   "metadata": {},
   "outputs": [
    {
     "name": "stdout",
     "output_type": "stream",
     "text": [
      "NN set()\n",
      "NNS set()\n",
      "NNP set()\n",
      "NNPS set()\n",
      "JJ set()\n",
      "JJR set()\n",
      "JJS set()\n",
      "VB set()\n",
      "VBD set()\n",
      "VBG set()\n",
      "VBN set()\n",
      "VBP set()\n",
      "VBZ set()\n"
     ]
    }
   ],
   "source": [
    "Word = \"Make\"\n",
    "mod_test(Word)"
   ]
  },
  {
   "cell_type": "code",
   "execution_count": 133,
   "metadata": {},
   "outputs": [
    {
     "name": "stdout",
     "output_type": "stream",
     "text": [
      "NN set()\n",
      "NNS set()\n",
      "NNP set()\n",
      "NNPS set()\n",
      "JJ set()\n",
      "JJR set()\n",
      "JJS set()\n",
      "VB set()\n",
      "VBD set()\n",
      "VBG set()\n",
      "VBN set()\n",
      "VBP set()\n",
      "VBZ set()\n"
     ]
    }
   ],
   "source": [
    "Word = \"Break\"\n",
    "mod_test(Word)"
   ]
  },
  {
   "cell_type": "code",
   "execution_count": 134,
   "metadata": {},
   "outputs": [
    {
     "name": "stdout",
     "output_type": "stream",
     "text": [
      "NN set()\n",
      "NNS set()\n",
      "NNP set()\n",
      "NNPS set()\n",
      "JJ set()\n",
      "JJR set()\n",
      "JJS set()\n",
      "VB set()\n",
      "VBD set()\n",
      "VBG set()\n",
      "VBN set()\n",
      "VBP set()\n",
      "VBZ set()\n"
     ]
    }
   ],
   "source": [
    "Word = \"Write\"\n",
    "mod_test(Word)"
   ]
  },
  {
   "cell_type": "code",
   "execution_count": 135,
   "metadata": {},
   "outputs": [
    {
     "name": "stdout",
     "output_type": "stream",
     "text": [
      "NN set()\n",
      "NNS set()\n",
      "NNP set()\n",
      "NNPS set()\n",
      "JJ set()\n",
      "JJR set()\n",
      "JJS set()\n",
      "VB set()\n",
      "VBD set()\n",
      "VBG set()\n",
      "VBN set()\n",
      "VBP set()\n",
      "VBZ set()\n"
     ]
    }
   ],
   "source": [
    "Word = \"say\"\n",
    "mod_test(Word)"
   ]
  },
  {
   "cell_type": "code",
   "execution_count": 136,
   "metadata": {},
   "outputs": [
    {
     "name": "stdout",
     "output_type": "stream",
     "text": [
      "NN set()\n",
      "NNS set()\n",
      "NNP set()\n",
      "NNPS set()\n",
      "JJ set()\n",
      "JJR set()\n",
      "JJS set()\n",
      "VB set()\n",
      "VBD set()\n",
      "VBG set()\n",
      "VBN set()\n",
      "VBP set()\n",
      "VBZ set()\n"
     ]
    }
   ],
   "source": [
    "Word = \"Collect\"\n",
    "mod_test(Word)"
   ]
  },
  {
   "cell_type": "markdown",
   "metadata": {},
   "source": [
    "# Verbs (gerund or present participle)"
   ]
  },
  {
   "cell_type": "code",
   "execution_count": 138,
   "metadata": {},
   "outputs": [
    {
     "data": {
      "text/plain": [
       "[('using', 3)]"
      ]
     },
     "execution_count": 138,
     "metadata": {},
     "output_type": "execute_result"
    }
   ],
   "source": [
    "#counting the number of verbs (gerund or present participle)\n",
    "countTarget = 'VBG'\n",
    "targetCounts = {}\n",
    "for entry in comDFc['POS_sents']:\n",
    "    for sentence in entry:\n",
    "        for ent, kind in sentence:\n",
    "            if kind != countTarget:\n",
    "                continue\n",
    "            elif ent in targetCounts:\n",
    "                targetCounts[ent] += 1\n",
    "            else:\n",
    "                targetCounts[ent] = 1\n",
    "sortedTargetsVBG = sorted(targetCounts.items(), key = lambda x: x[1], reverse = True)\n",
    "sortedTargetsVBG#[:20]"
   ]
  },
  {
   "cell_type": "code",
   "execution_count": 139,
   "metadata": {},
   "outputs": [],
   "source": [
    "#saving the list as a .txt\n",
    "import pickle\n",
    "with open (\"C1f_sortedTargetsVBG_TR99.txt\", \"wb\") as fp:\n",
    "    pickle.dump(sortedTargetsVBG, fp)"
   ]
  },
  {
   "cell_type": "code",
   "execution_count": 140,
   "metadata": {},
   "outputs": [
    {
     "data": {
      "text/plain": [
       "['using']"
      ]
     },
     "execution_count": 140,
     "metadata": {},
     "output_type": "execute_result"
    }
   ],
   "source": [
    "reduced_sortedTargetsVBG = sortedTargetsVBG#[:20]\n",
    "VBG_keywordsList = [(a) for a,b in reduced_sortedTargetsVBG]\n",
    "VBG_keywordsList"
   ]
  },
  {
   "cell_type": "code",
   "execution_count": 141,
   "metadata": {},
   "outputs": [],
   "source": [
    "#saving the list as a .txt\n",
    "import pickle\n",
    "with open (\"C1f_VBG_keywordsList_TR99.txt\", \"wb\") as fp:\n",
    "    pickle.dump(VBG_keywordsList, fp)"
   ]
  },
  {
   "cell_type": "code",
   "execution_count": 142,
   "metadata": {},
   "outputs": [
    {
     "data": {
      "text/plain": [
       "<BarContainer object of 1 artists>"
      ]
     },
     "execution_count": 142,
     "metadata": {},
     "output_type": "execute_result"
    },
    {
     "data": {
      "text/plain": [
       "<Figure size 432x288 with 0 Axes>"
      ]
     },
     "metadata": {},
     "output_type": "display_data"
    },
    {
     "data": {
      "image/png": "[encoded data removed]",
      "text/plain": [
       "<Figure size 1008x720 with 1 Axes>"
      ]
     },
     "metadata": {
      "needs_background": "light"
     },
     "output_type": "display_data"
    }
   ],
   "source": [
    "VBG = sortedTargetsVBG#[:20]\n",
    "\n",
    "fig = plt.figure()\n",
    "fig, ax = plt.subplots(figsize=(14, 10))\n",
    "\n",
    "ax.invert_yaxis() \n",
    "ax.set_xlabel('Counts')\n",
    "ax.set_title('Verbs (gerund or present participle)')\n",
    "\n",
    "\n",
    "plt.barh(*zip(*VBG))"
   ]
  },
  {
   "cell_type": "markdown",
   "metadata": {},
   "source": [
    "### VBG Modifiers"
   ]
  },
  {
   "cell_type": "code",
   "execution_count": 143,
   "metadata": {},
   "outputs": [
    {
     "data": {
      "text/html": [
       "<div>\n",
       "<style scoped>\n",
       "    .dataframe tbody tr th:only-of-type {\n",
       "        vertical-align: middle;\n",
       "    }\n",
       "\n",
       "    .dataframe tbody tr th {\n",
       "        vertical-align: top;\n",
       "    }\n",
       "\n",
       "    .dataframe thead th {\n",
       "        text-align: right;\n",
       "    }\n",
       "</style>\n",
       "<table border=\"1\" class=\"dataframe\">\n",
       "  <thead>\n",
       "    <tr style=\"text-align: right;\">\n",
       "      <th></th>\n",
       "      <th>word</th>\n",
       "      <th>count</th>\n",
       "    </tr>\n",
       "  </thead>\n",
       "  <tbody>\n",
       "    <tr>\n",
       "      <th>0</th>\n",
       "      <td>Make</td>\n",
       "      <td>304</td>\n",
       "    </tr>\n",
       "    <tr>\n",
       "      <th>1</th>\n",
       "      <td>Break</td>\n",
       "      <td>10</td>\n",
       "    </tr>\n",
       "    <tr>\n",
       "      <th>2</th>\n",
       "      <td>Write</td>\n",
       "      <td>8</td>\n",
       "    </tr>\n",
       "    <tr>\n",
       "      <th>3</th>\n",
       "      <td>say</td>\n",
       "      <td>8</td>\n",
       "    </tr>\n",
       "    <tr>\n",
       "      <th>4</th>\n",
       "      <td>Collect</td>\n",
       "      <td>3</td>\n",
       "    </tr>\n",
       "  </tbody>\n",
       "</table>\n",
       "</div>"
      ],
      "text/plain": [
       "      word  count\n",
       "0     Make    304\n",
       "1    Break     10\n",
       "2    Write      8\n",
       "3      say      8\n",
       "4  Collect      3"
      ]
     },
     "execution_count": 143,
     "metadata": {},
     "output_type": "execute_result"
    }
   ],
   "source": [
    "#opening\n",
    "with open(\"C1f_sortedTargetsVBG_TR99.txt\", \"rb\") as fp:\n",
    "    sortedTargetsVBG_TR99 = pickle.load(fp)\n",
    "    \n",
    "VBdf = pd.DataFrame(sortedTargetsVBG_TR99)\n",
    "VBdf.columns=['word','count']\n",
    "\n",
    "VBdf"
   ]
  },
  {
   "cell_type": "code",
   "execution_count": null,
   "metadata": {},
   "outputs": [],
   "source": []
  },
  {
   "cell_type": "markdown",
   "metadata": {},
   "source": [
    "### JJ (adjective)"
   ]
  },
  {
   "cell_type": "code",
   "execution_count": 147,
   "metadata": {},
   "outputs": [
    {
     "data": {
      "text/plain": [
       "[('complete', 451),\n",
       " ('mental', 260),\n",
       " ('human', 176),\n",
       " ('related', 175),\n",
       " ('final', 171),\n",
       " ('compensated', 90),\n",
       " ('previous', 90),\n",
       " ('ethnic', 63),\n",
       " ('racial', 63),\n",
       " ('participate', 21),\n",
       " ('new', 21),\n",
       " ('academic', 21),\n",
       " ('online', 15),\n",
       " ('eligible', 14),\n",
       " ('short', 13),\n",
       " ('cognitive', 10),\n",
       " ('perceptual', 6),\n",
       " ('romantic', 6),\n",
       " ('assign', 5),\n",
       " ('simple', 5)]"
      ]
     },
     "execution_count": 147,
     "metadata": {},
     "output_type": "execute_result"
    }
   ],
   "source": [
    "#counting the number of JJ (adjective)\n",
    "countTarget = 'JJ'\n",
    "targetCounts = {}\n",
    "for entry in comDFc['POS_sents']:\n",
    "    for sentence in entry:\n",
    "        for ent, kind in sentence:\n",
    "            if kind != countTarget:\n",
    "                continue\n",
    "            elif ent in targetCounts:\n",
    "                targetCounts[ent] += 1\n",
    "            else:\n",
    "                targetCounts[ent] = 1\n",
    "sortedTargetsJJ = sorted(targetCounts.items(), key = lambda x: x[1], reverse = True)\n",
    "sortedTargetsJJ[:20]"
   ]
  },
  {
   "cell_type": "code",
   "execution_count": 118,
   "metadata": {},
   "outputs": [],
   "source": [
    "#saving the list as a .txt\n",
    "import pickle\n",
    "with open (\"sortedTargetsJJ.txt\", \"wb\") as fp:\n",
    "    pickle.dump(sortedTargetsJJ, fp)"
   ]
  },
  {
   "cell_type": "code",
   "execution_count": 119,
   "metadata": {},
   "outputs": [
    {
     "data": {
      "text/plain": [
       "['complete',\n",
       " 'mental',\n",
       " 'human',\n",
       " 'related',\n",
       " 'final',\n",
       " 'compensated',\n",
       " 'previous',\n",
       " 'ethnic',\n",
       " 'racial',\n",
       " 'participate',\n",
       " 'new',\n",
       " 'academic',\n",
       " 'online',\n",
       " 'eligible',\n",
       " 'short',\n",
       " 'cognitive',\n",
       " 'perceptual',\n",
       " 'romantic',\n",
       " 'assign',\n",
       " 'simple']"
      ]
     },
     "execution_count": 119,
     "metadata": {},
     "output_type": "execute_result"
    }
   ],
   "source": [
    "reduced_sortedTargetsJJ = sortedTargetsJJ[:20]\n",
    "JJ_keywordsList = [(a) for a,b in reduced_sortedTargetsJJ]\n",
    "JJ_keywordsList"
   ]
  },
  {
   "cell_type": "code",
   "execution_count": 120,
   "metadata": {},
   "outputs": [],
   "source": [
    "#saving the list as a .txt\n",
    "import pickle\n",
    "with open (\"JJ_keywordsList.txt\", \"wb\") as fp:\n",
    "    pickle.dump(JJ_keywordsList, fp)"
   ]
  },
  {
   "cell_type": "code",
   "execution_count": 121,
   "metadata": {},
   "outputs": [
    {
     "data": {
      "text/plain": [
       "<BarContainer object of 20 artists>"
      ]
     },
     "execution_count": 121,
     "metadata": {},
     "output_type": "execute_result"
    },
    {
     "data": {
      "image/png": "[encoded data removed]",
      "text/plain": [
       "<Figure size 1008x720 with 1 Axes>"
      ]
     },
     "metadata": {
      "needs_background": "light"
     },
     "output_type": "display_data"
    }
   ],
   "source": [
    "JJ = sortedTargetsJJ[:20]\n",
    "\n",
    "ax = fig.add_subplot(111)\n",
    "fig, ax = plt.subplots(figsize=(14, 10))\n",
    "\n",
    "ax.invert_yaxis() \n",
    "ax.set_xlabel('Counts')\n",
    "ax.set_title('Adjectives')\n",
    "\n",
    "\n",
    "plt.barh(*zip(*JJ))"
   ]
  },
  {
   "cell_type": "markdown",
   "metadata": {},
   "source": [
    "# Adjectives (JJR comparative)"
   ]
  },
  {
   "cell_type": "code",
   "execution_count": 122,
   "metadata": {},
   "outputs": [
    {
     "data": {
      "text/plain": [
       "[('older', 175), ('deeper', 2)]"
      ]
     },
     "execution_count": 122,
     "metadata": {},
     "output_type": "execute_result"
    }
   ],
   "source": [
    "#counting the number of \n",
    "countTarget = 'JJR'\n",
    "targetCounts = {}\n",
    "for entry in comDFc['POS_sents']:\n",
    "    for sentence in entry:\n",
    "        for ent, kind in sentence:\n",
    "            if kind != countTarget:\n",
    "                continue\n",
    "            elif ent in targetCounts:\n",
    "                targetCounts[ent] += 1\n",
    "            else:\n",
    "                targetCounts[ent] = 1\n",
    "sortedTargetsJJR = sorted(targetCounts.items(), key = lambda x: x[1], reverse = True)\n",
    "sortedTargetsJJR[:20]"
   ]
  },
  {
   "cell_type": "code",
   "execution_count": 123,
   "metadata": {},
   "outputs": [],
   "source": [
    "#saving the list as a .txt\n",
    "import pickle\n",
    "with open (\"sortedTargetsJJR.txt\", \"wb\") as fp:\n",
    "    pickle.dump(sortedTargetsJJR, fp)"
   ]
  },
  {
   "cell_type": "code",
   "execution_count": 124,
   "metadata": {},
   "outputs": [
    {
     "data": {
      "text/plain": [
       "['older', 'deeper']"
      ]
     },
     "execution_count": 124,
     "metadata": {},
     "output_type": "execute_result"
    }
   ],
   "source": [
    "reduced_sortedTargetsJJR = sortedTargetsJJR[:20]\n",
    "JJR_keywordsList = [(a) for a,b in reduced_sortedTargetsJJR]\n",
    "JJR_keywordsList"
   ]
  },
  {
   "cell_type": "code",
   "execution_count": 125,
   "metadata": {},
   "outputs": [],
   "source": [
    "#saving the list as a .txt\n",
    "import pickle\n",
    "with open (\"JJR_keywordsList.txt\", \"wb\") as fp:\n",
    "    pickle.dump(JJR_keywordsList, fp)"
   ]
  },
  {
   "cell_type": "code",
   "execution_count": 126,
   "metadata": {},
   "outputs": [
    {
     "data": {
      "text/plain": [
       "<BarContainer object of 2 artists>"
      ]
     },
     "execution_count": 126,
     "metadata": {},
     "output_type": "execute_result"
    },
    {
     "data": {
      "image/png": "[encoded data removed]",
      "text/plain": [
       "<Figure size 1008x720 with 1 Axes>"
      ]
     },
     "metadata": {
      "needs_background": "light"
     },
     "output_type": "display_data"
    }
   ],
   "source": [
    "JJR = sortedTargetsJJR[:20]\n",
    "\n",
    "ax = fig.add_subplot(111)\n",
    "fig, ax = plt.subplots(figsize=(14, 10))\n",
    "\n",
    "ax.invert_yaxis() \n",
    "ax.set_xlabel('Counts')\n",
    "ax.set_title('Adjectives')\n",
    "\n",
    "\n",
    "plt.barh(*zip(*JJR))"
   ]
  },
  {
   "cell_type": "markdown",
   "metadata": {},
   "source": [
    "# Adjective (JJS superlative)"
   ]
  },
  {
   "cell_type": "code",
   "execution_count": 127,
   "metadata": {},
   "outputs": [
    {
     "data": {
      "text/plain": [
       "[]"
      ]
     },
     "execution_count": 127,
     "metadata": {},
     "output_type": "execute_result"
    }
   ],
   "source": [
    "#counting the number of \n",
    "countTarget = 'JJS'\n",
    "targetCounts = {}\n",
    "for entry in comDFc['POS_sents']:\n",
    "    for sentence in entry:\n",
    "        for ent, kind in sentence:\n",
    "            if kind != countTarget:\n",
    "                continue\n",
    "            elif ent in targetCounts:\n",
    "                targetCounts[ent] += 1\n",
    "            else:\n",
    "                targetCounts[ent] = 1\n",
    "sortedTargetsJJS = sorted(targetCounts.items(), key = lambda x: x[1], reverse = True)\n",
    "sortedTargetsJJS[:20]"
   ]
  },
  {
   "cell_type": "code",
   "execution_count": 128,
   "metadata": {},
   "outputs": [],
   "source": [
    "#saving the list as a .txt\n",
    "import pickle\n",
    "with open (\"sortedTargetsJJS.txt\", \"wb\") as fp:\n",
    "    pickle.dump(sortedTargetsJJS, fp)"
   ]
  },
  {
   "cell_type": "code",
   "execution_count": 129,
   "metadata": {},
   "outputs": [
    {
     "data": {
      "text/plain": [
       "[]"
      ]
     },
     "execution_count": 129,
     "metadata": {},
     "output_type": "execute_result"
    }
   ],
   "source": [
    "reduced_sortedTargetsJJS = sortedTargetsJJS[:20]\n",
    "JJS_keywordsList = [(a) for a,b in reduced_sortedTargetsJJS]\n",
    "JJS_keywordsList"
   ]
  },
  {
   "cell_type": "code",
   "execution_count": 130,
   "metadata": {},
   "outputs": [],
   "source": [
    "#saving the list as a .txt\n",
    "import pickle\n",
    "with open (\"JJS_keywordsList.txt\", \"wb\") as fp:\n",
    "    pickle.dump(JJS_keywordsList, fp)"
   ]
  },
  {
   "cell_type": "code",
   "execution_count": 148,
   "metadata": {
    "scrolled": true
   },
   "outputs": [
    {
     "ename": "TypeError",
     "evalue": "barh() missing 2 required positional arguments: 'y' and 'width'",
     "output_type": "error",
     "traceback": [
      "\u001b[1;31m---------------------------------------------------------------------------\u001b[0m",
      "\u001b[1;31mTypeError\u001b[0m                                 Traceback (most recent call last)",
      "\u001b[1;32m<ipython-input-148-73b652c5631c>\u001b[0m in \u001b[0;36m<module>\u001b[1;34m\u001b[0m\n\u001b[0;32m      9\u001b[0m \u001b[1;33m\u001b[0m\u001b[0m\n\u001b[0;32m     10\u001b[0m \u001b[1;33m\u001b[0m\u001b[0m\n\u001b[1;32m---> 11\u001b[1;33m \u001b[0mplt\u001b[0m\u001b[1;33m.\u001b[0m\u001b[0mbarh\u001b[0m\u001b[1;33m(\u001b[0m\u001b[1;33m*\u001b[0m\u001b[0mzip\u001b[0m\u001b[1;33m(\u001b[0m\u001b[1;33m*\u001b[0m\u001b[0mJJS\u001b[0m\u001b[1;33m)\u001b[0m\u001b[1;33m)\u001b[0m\u001b[1;33m\u001b[0m\u001b[1;33m\u001b[0m\u001b[0m\n\u001b[0m",
      "\u001b[1;31mTypeError\u001b[0m: barh() missing 2 required positional arguments: 'y' and 'width'"
     ]
    },
    {
     "data": {
      "image/png": "[encoded data removed]",
      "text/plain": [
       "<Figure size 1008x720 with 1 Axes>"
      ]
     },
     "metadata": {
      "needs_background": "light"
     },
     "output_type": "display_data"
    }
   ],
   "source": [
    "JJS = sortedTargetsJJS[:20]\n",
    "\n",
    "ax = fig.add_subplot(111)\n",
    "fig, ax = plt.subplots(figsize=(14, 10))\n",
    "\n",
    "ax.invert_yaxis() \n",
    "ax.set_xlabel('Counts')\n",
    "ax.set_title('Adjectives')\n",
    "\n",
    "\n",
    "plt.barh(*zip(*JJS))"
   ]
  },
  {
   "cell_type": "markdown",
   "metadata": {},
   "source": [
    "# Adverb (RB basic)"
   ]
  },
  {
   "cell_type": "code",
   "execution_count": 149,
   "metadata": {},
   "outputs": [
    {
     "data": {
      "text/plain": [
       "[('approximately', 177),\n",
       " ('ago', 6),\n",
       " ('quickly', 3),\n",
       " ('successfully', 2),\n",
       " ('carefully', 1),\n",
       " ('closely', 1),\n",
       " ('perfectly', 1),\n",
       " ('previously', 1),\n",
       " ('additionally', 1)]"
      ]
     },
     "execution_count": 149,
     "metadata": {},
     "output_type": "execute_result"
    }
   ],
   "source": [
    "#counting the number of \n",
    "countTarget = 'RB'\n",
    "targetCounts = {}\n",
    "for entry in comDFc['POS_sents']:\n",
    "    for sentence in entry:\n",
    "        for ent, kind in sentence:\n",
    "            if kind != countTarget:\n",
    "                continue\n",
    "            elif ent in targetCounts:\n",
    "                targetCounts[ent] += 1\n",
    "            else:\n",
    "                targetCounts[ent] = 1\n",
    "sortedTargetsRB = sorted(targetCounts.items(), key = lambda x: x[1], reverse = True)\n",
    "sortedTargetsRB[:21]"
   ]
  },
  {
   "cell_type": "code",
   "execution_count": 150,
   "metadata": {},
   "outputs": [],
   "source": [
    "#saving the list as a .txt\n",
    "import pickle\n",
    "with open (\"sortedTargetsRB.txt\", \"wb\") as fp:\n",
    "    pickle.dump(sortedTargetsRB, fp)"
   ]
  },
  {
   "cell_type": "code",
   "execution_count": 151,
   "metadata": {},
   "outputs": [
    {
     "data": {
      "text/plain": [
       "['approximately',\n",
       " 'ago',\n",
       " 'quickly',\n",
       " 'successfully',\n",
       " 'carefully',\n",
       " 'closely',\n",
       " 'perfectly',\n",
       " 'previously',\n",
       " 'additionally']"
      ]
     },
     "execution_count": 151,
     "metadata": {},
     "output_type": "execute_result"
    }
   ],
   "source": [
    "reduced_sortedTargetsRB = sortedTargetsRB[:21]\n",
    "RB_keywordsList = [(a) for a,b in reduced_sortedTargetsRB]\n",
    "RB_keywordsList"
   ]
  },
  {
   "cell_type": "code",
   "execution_count": 152,
   "metadata": {},
   "outputs": [],
   "source": [
    "#saving the list as a .txt\n",
    "import pickle\n",
    "with open (\"RB_keywordsList.txt\", \"wb\") as fp:\n",
    "    pickle.dump(RB_keywordsList, fp)"
   ]
  },
  {
   "cell_type": "code",
   "execution_count": 153,
   "metadata": {
    "scrolled": true
   },
   "outputs": [
    {
     "data": {
      "text/plain": [
       "<BarContainer object of 9 artists>"
      ]
     },
     "execution_count": 153,
     "metadata": {},
     "output_type": "execute_result"
    },
    {
     "data": {
      "image/png": "[encoded data removed]",
      "text/plain": [
       "<Figure size 1008x720 with 1 Axes>"
      ]
     },
     "metadata": {
      "needs_background": "light"
     },
     "output_type": "display_data"
    }
   ],
   "source": [
    "RB = sortedTargetsRB[:20]\n",
    "\n",
    "ax = fig.add_subplot(111)\n",
    "fig, ax = plt.subplots(figsize=(14, 10))\n",
    "\n",
    "ax.invert_yaxis() \n",
    "ax.set_xlabel('Counts')\n",
    "ax.set_title('Adjectives')\n",
    "\n",
    "\n",
    "plt.barh(*zip(*RB))"
   ]
  },
  {
   "cell_type": "markdown",
   "metadata": {},
   "source": [
    "# Adverb (RBR comparative)"
   ]
  },
  {
   "cell_type": "code",
   "execution_count": 154,
   "metadata": {},
   "outputs": [
    {
     "data": {
      "text/plain": [
       "[('better', 21)]"
      ]
     },
     "execution_count": 154,
     "metadata": {},
     "output_type": "execute_result"
    }
   ],
   "source": [
    "#counting the number of \n",
    "countTarget = 'RBR'\n",
    "targetCounts = {}\n",
    "for entry in comDFc['POS_sents']:\n",
    "    for sentence in entry:\n",
    "        for ent, kind in sentence:\n",
    "            if kind != countTarget:\n",
    "                continue\n",
    "            elif ent in targetCounts:\n",
    "                targetCounts[ent] += 1\n",
    "            else:\n",
    "                targetCounts[ent] = 1\n",
    "sortedTargetsRBR = sorted(targetCounts.items(), key = lambda x: x[1], reverse = True)\n",
    "sortedTargetsRBR[:20]"
   ]
  },
  {
   "cell_type": "code",
   "execution_count": 155,
   "metadata": {},
   "outputs": [],
   "source": [
    "#saving the list as a .txt\n",
    "import pickle\n",
    "with open (\"sortedTargetsRBR.txt\", \"wb\") as fp:\n",
    "    pickle.dump(sortedTargetsRBR, fp)"
   ]
  },
  {
   "cell_type": "code",
   "execution_count": 156,
   "metadata": {},
   "outputs": [
    {
     "data": {
      "text/plain": [
       "['better']"
      ]
     },
     "execution_count": 156,
     "metadata": {},
     "output_type": "execute_result"
    }
   ],
   "source": [
    "reduced_sortedTargetsRBR = sortedTargetsRBR[:20]\n",
    "RBR_keywordsList = [(a) for a,b in reduced_sortedTargetsRBR]\n",
    "RBR_keywordsList"
   ]
  },
  {
   "cell_type": "code",
   "execution_count": 157,
   "metadata": {},
   "outputs": [],
   "source": [
    "#saving the list as a .txt\n",
    "import pickle\n",
    "with open (\"RBR_keywordsList.txt\", \"wb\") as fp:\n",
    "    pickle.dump(RBR_keywordsList, fp)"
   ]
  },
  {
   "cell_type": "code",
   "execution_count": 158,
   "metadata": {
    "scrolled": true
   },
   "outputs": [
    {
     "data": {
      "text/plain": [
       "<BarContainer object of 1 artists>"
      ]
     },
     "execution_count": 158,
     "metadata": {},
     "output_type": "execute_result"
    },
    {
     "data": {
      "image/png": "[encoded data removed]",
      "text/plain": [
       "<Figure size 1008x720 with 1 Axes>"
      ]
     },
     "metadata": {
      "needs_background": "light"
     },
     "output_type": "display_data"
    }
   ],
   "source": [
    "RBR = sortedTargetsRBR[:20]\n",
    "\n",
    "ax = fig.add_subplot(111)\n",
    "fig, ax = plt.subplots(figsize=(14, 10))\n",
    "\n",
    "ax.invert_yaxis() \n",
    "ax.set_xlabel('Counts')\n",
    "ax.set_title('Adjectives')\n",
    "\n",
    "\n",
    "plt.barh(*zip(*RBR))"
   ]
  },
  {
   "cell_type": "markdown",
   "metadata": {},
   "source": [
    "# Verbs (VBD past tense)"
   ]
  },
  {
   "cell_type": "code",
   "execution_count": 159,
   "metadata": {},
   "outputs": [
    {
     "data": {
      "text/plain": [
       "[('assessed', 176),\n",
       " ('entered', 175),\n",
       " ('reviewed', 175),\n",
       " ('completed', 96),\n",
       " ('compensated', 85),\n",
       " ('hit', 52),\n",
       " ('paid', 23),\n",
       " ('invited', 21),\n",
       " ('required', 8),\n",
       " ('asked', 7),\n",
       " ('changed', 6),\n",
       " ('read', 4),\n",
       " ('ptsd', 2),\n",
       " ('crashed', 2),\n",
       " ('hosted', 1),\n",
       " ('mounted', 1),\n",
       " ('qualified', 1),\n",
       " ('rejected', 1),\n",
       " ('tempted', 1)]"
      ]
     },
     "execution_count": 159,
     "metadata": {},
     "output_type": "execute_result"
    }
   ],
   "source": [
    "#counting the number of \n",
    "countTarget = 'VBD'\n",
    "targetCounts = {}\n",
    "for entry in comDFc['POS_sents']:\n",
    "    for sentence in entry:\n",
    "        for ent, kind in sentence:\n",
    "            if kind != countTarget:\n",
    "                continue\n",
    "            elif ent in targetCounts:\n",
    "                targetCounts[ent] += 1\n",
    "            else:\n",
    "                targetCounts[ent] = 1\n",
    "sortedTargetsVBD = sorted(targetCounts.items(), key = lambda x: x[1], reverse = True)\n",
    "sortedTargetsVBD[:20]"
   ]
  },
  {
   "cell_type": "code",
   "execution_count": 160,
   "metadata": {},
   "outputs": [],
   "source": [
    "#saving the list as a .txt\n",
    "import pickle\n",
    "with open (\"sortedTargetsVBD.txt\", \"wb\") as fp:\n",
    "    pickle.dump(sortedTargetsVBD, fp)"
   ]
  },
  {
   "cell_type": "code",
   "execution_count": 161,
   "metadata": {},
   "outputs": [
    {
     "data": {
      "text/plain": [
       "['assessed',\n",
       " 'entered',\n",
       " 'reviewed',\n",
       " 'completed',\n",
       " 'compensated',\n",
       " 'hit',\n",
       " 'paid',\n",
       " 'invited',\n",
       " 'required',\n",
       " 'asked',\n",
       " 'changed',\n",
       " 'read',\n",
       " 'ptsd',\n",
       " 'crashed',\n",
       " 'hosted',\n",
       " 'mounted',\n",
       " 'qualified',\n",
       " 'rejected',\n",
       " 'tempted']"
      ]
     },
     "execution_count": 161,
     "metadata": {},
     "output_type": "execute_result"
    }
   ],
   "source": [
    "reduced_sortedTargetsVBD = sortedTargetsVBD[:20]\n",
    "VBD_keywordsList = [(a) for a,b in reduced_sortedTargetsVBD]\n",
    "VBD_keywordsList"
   ]
  },
  {
   "cell_type": "code",
   "execution_count": 162,
   "metadata": {},
   "outputs": [],
   "source": [
    "#saving the list as a .txt\n",
    "import pickle\n",
    "with open (\"VBD_keywordsList.txt\", \"wb\") as fp:\n",
    "    pickle.dump(VBD_keywordsList, fp)"
   ]
  },
  {
   "cell_type": "code",
   "execution_count": 163,
   "metadata": {
    "scrolled": true
   },
   "outputs": [
    {
     "data": {
      "text/plain": [
       "<BarContainer object of 19 artists>"
      ]
     },
     "execution_count": 163,
     "metadata": {},
     "output_type": "execute_result"
    },
    {
     "data": {
      "image/png": "[encoded data removed]",
      "text/plain": [
       "<Figure size 1008x720 with 1 Axes>"
      ]
     },
     "metadata": {
      "needs_background": "light"
     },
     "output_type": "display_data"
    }
   ],
   "source": [
    "VBD = sortedTargetsVBD[:20]\n",
    "\n",
    "ax = fig.add_subplot(111)\n",
    "fig, ax = plt.subplots(figsize=(14, 10))\n",
    "\n",
    "ax.invert_yaxis() \n",
    "ax.set_xlabel('Counts')\n",
    "ax.set_title('Adjectives')\n",
    "\n",
    "\n",
    "plt.barh(*zip(*VBD))"
   ]
  },
  {
   "cell_type": "markdown",
   "metadata": {},
   "source": [
    "# Verbs (VBN past participle)"
   ]
  },
  {
   "cell_type": "code",
   "execution_count": 164,
   "metadata": {},
   "outputs": [
    {
     "data": {
      "text/plain": [
       "[('hit', 4),\n",
       " ('augmented', 2),\n",
       " ('completed', 2),\n",
       " ('given', 1),\n",
       " ('attended', 1),\n",
       " ('required', 1),\n",
       " ('read', 1),\n",
       " ('asked', 1),\n",
       " ('based', 1),\n",
       " ('taken', 1),\n",
       " ('collected', 1),\n",
       " ('stored', 1),\n",
       " ('accompanied', 1)]"
      ]
     },
     "execution_count": 164,
     "metadata": {},
     "output_type": "execute_result"
    }
   ],
   "source": [
    "#counting the number of \n",
    "countTarget = 'VBN'\n",
    "targetCounts = {}\n",
    "for entry in comDFc['POS_sents']:\n",
    "    for sentence in entry:\n",
    "        for ent, kind in sentence:\n",
    "            if kind != countTarget:\n",
    "                continue\n",
    "            elif ent in targetCounts:\n",
    "                targetCounts[ent] += 1\n",
    "            else:\n",
    "                targetCounts[ent] = 1\n",
    "sortedTargetsVBN = sorted(targetCounts.items(), key = lambda x: x[1], reverse = True)\n",
    "sortedTargetsVBN[:20]"
   ]
  },
  {
   "cell_type": "code",
   "execution_count": 165,
   "metadata": {},
   "outputs": [],
   "source": [
    "#saving the list as a .txt\n",
    "import pickle\n",
    "with open (\"sortedTargetsVBN.txt\", \"wb\") as fp:\n",
    "    pickle.dump(sortedTargetsVBN, fp)"
   ]
  },
  {
   "cell_type": "code",
   "execution_count": 166,
   "metadata": {},
   "outputs": [
    {
     "data": {
      "text/plain": [
       "['hit',\n",
       " 'augmented',\n",
       " 'completed',\n",
       " 'given',\n",
       " 'attended',\n",
       " 'required',\n",
       " 'read',\n",
       " 'asked',\n",
       " 'based',\n",
       " 'taken',\n",
       " 'collected',\n",
       " 'stored',\n",
       " 'accompanied']"
      ]
     },
     "execution_count": 166,
     "metadata": {},
     "output_type": "execute_result"
    }
   ],
   "source": [
    "reduced_sortedTargetsVBN = sortedTargetsVBN[:20]\n",
    "VBN_keywordsList = [(a) for a,b in reduced_sortedTargetsVBN]\n",
    "VBN_keywordsList"
   ]
  },
  {
   "cell_type": "code",
   "execution_count": 167,
   "metadata": {},
   "outputs": [],
   "source": [
    "#saving the list as a .txt\n",
    "import pickle\n",
    "with open (\"VBN_keywordsList.txt\", \"wb\") as fp:\n",
    "    pickle.dump(VBN_keywordsList, fp)"
   ]
  },
  {
   "cell_type": "code",
   "execution_count": 168,
   "metadata": {
    "scrolled": true
   },
   "outputs": [
    {
     "data": {
      "text/plain": [
       "<BarContainer object of 13 artists>"
      ]
     },
     "execution_count": 168,
     "metadata": {},
     "output_type": "execute_result"
    },
    {
     "data": {
      "image/png": "[encoded data removed]",
      "text/plain": [
       "<Figure size 1008x720 with 1 Axes>"
      ]
     },
     "metadata": {
      "needs_background": "light"
     },
     "output_type": "display_data"
    }
   ],
   "source": [
    "VBN = sortedTargetsVBN[:20]\n",
    "\n",
    "ax = fig.add_subplot(111)\n",
    "fig, ax = plt.subplots(figsize=(14, 10))\n",
    "\n",
    "ax.invert_yaxis() \n",
    "ax.set_xlabel('Counts')\n",
    "ax.set_title('Adjectives')\n",
    "\n",
    "\n",
    "plt.barh(*zip(*VBN))"
   ]
  },
  {
   "cell_type": "markdown",
   "metadata": {},
   "source": [
    "# Verbs (VBP non-3rd person singular present)"
   ]
  },
  {
   "cell_type": "code",
   "execution_count": 169,
   "metadata": {},
   "outputs": [
    {
     "data": {
      "text/plain": [
       "[('study', 199),\n",
       " ('hour', 175),\n",
       " ('follow', 89),\n",
       " ('collect', 86),\n",
       " ('continue', 23),\n",
       " ('understand', 21),\n",
       " ('subtle', 21),\n",
       " ('answer', 13),\n",
       " ('survey', 12),\n",
       " ('spreadsheet', 5),\n",
       " ('read', 5),\n",
       " ('need', 4),\n",
       " ('tell', 4),\n",
       " ('require', 4),\n",
       " ('earn', 3),\n",
       " ('dive', 2),\n",
       " ('choose', 2),\n",
       " ('start', 2),\n",
       " ('qualify', 2),\n",
       " ('pose', 2)]"
      ]
     },
     "execution_count": 169,
     "metadata": {},
     "output_type": "execute_result"
    }
   ],
   "source": [
    "#counting the number of \n",
    "countTarget = 'VBP'\n",
    "targetCounts = {}\n",
    "for entry in comDFc['POS_sents']:\n",
    "    for sentence in entry:\n",
    "        for ent, kind in sentence:\n",
    "            if kind != countTarget:\n",
    "                continue\n",
    "            elif ent in targetCounts:\n",
    "                targetCounts[ent] += 1\n",
    "            else:\n",
    "                targetCounts[ent] = 1\n",
    "sortedTargetsVBP = sorted(targetCounts.items(), key = lambda x: x[1], reverse = True)\n",
    "sortedTargetsVBP[:20]"
   ]
  },
  {
   "cell_type": "code",
   "execution_count": 170,
   "metadata": {},
   "outputs": [],
   "source": [
    "#saving the list as a .txt\n",
    "import pickle\n",
    "with open (\"sortedTargetsVBP.txt\", \"wb\") as fp:\n",
    "    pickle.dump(sortedTargetsVBP, fp)"
   ]
  },
  {
   "cell_type": "code",
   "execution_count": 171,
   "metadata": {},
   "outputs": [
    {
     "data": {
      "text/plain": [
       "['study',\n",
       " 'hour',\n",
       " 'follow',\n",
       " 'collect',\n",
       " 'continue',\n",
       " 'understand',\n",
       " 'subtle',\n",
       " 'answer',\n",
       " 'survey',\n",
       " 'spreadsheet',\n",
       " 'read',\n",
       " 'need',\n",
       " 'tell',\n",
       " 'require',\n",
       " 'earn',\n",
       " 'dive',\n",
       " 'choose',\n",
       " 'start',\n",
       " 'qualify',\n",
       " 'pose']"
      ]
     },
     "execution_count": 171,
     "metadata": {},
     "output_type": "execute_result"
    }
   ],
   "source": [
    "reduced_sortedTargetsVBP = sortedTargetsVBP[:20]\n",
    "VBP_keywordsList = [(a) for a,b in reduced_sortedTargetsVBP]\n",
    "VBP_keywordsList"
   ]
  },
  {
   "cell_type": "code",
   "execution_count": 172,
   "metadata": {},
   "outputs": [],
   "source": [
    "#saving the list as a .txt\n",
    "import pickle\n",
    "with open (\"VBP_keywordsList.txt\", \"wb\") as fp:\n",
    "    pickle.dump(VBP_keywordsList, fp)"
   ]
  },
  {
   "cell_type": "code",
   "execution_count": 173,
   "metadata": {
    "scrolled": true
   },
   "outputs": [
    {
     "data": {
      "text/plain": [
       "<BarContainer object of 20 artists>"
      ]
     },
     "execution_count": 173,
     "metadata": {},
     "output_type": "execute_result"
    },
    {
     "data": {
      "image/png": "[encoded data removed]",
      "text/plain": [
       "<Figure size 1008x720 with 1 Axes>"
      ]
     },
     "metadata": {
      "needs_background": "light"
     },
     "output_type": "display_data"
    }
   ],
   "source": [
    "VBP = sortedTargetsVBP[:20]\n",
    "\n",
    "ax = fig.add_subplot(111)\n",
    "fig, ax = plt.subplots(figsize=(14, 10))\n",
    "\n",
    "ax.invert_yaxis() \n",
    "ax.set_xlabel('Counts')\n",
    "ax.set_title('Adjectives')\n",
    "\n",
    "\n",
    "plt.barh(*zip(*VBP))"
   ]
  },
  {
   "cell_type": "markdown",
   "metadata": {},
   "source": [
    "# Verbs (VBZ 3rd person singular present)"
   ]
  },
  {
   "cell_type": "code",
   "execution_count": 174,
   "metadata": {},
   "outputs": [
    {
     "data": {
      "text/plain": [
       "[('aims', 21),\n",
       " ('thoughts', 9),\n",
       " ('queries', 5),\n",
       " ('experiences', 4),\n",
       " ('cwbym', 4),\n",
       " ('emotions', 2),\n",
       " ('takes', 2),\n",
       " ('identities', 2),\n",
       " ('requires', 1),\n",
       " ('minutes', 1),\n",
       " ('tests', 1),\n",
       " ('relates', 1),\n",
       " ('involves', 1),\n",
       " ('explains', 1),\n",
       " ('toddlers', 1),\n",
       " ('includes', 1)]"
      ]
     },
     "execution_count": 174,
     "metadata": {},
     "output_type": "execute_result"
    }
   ],
   "source": [
    "#counting the number of \n",
    "countTarget = 'VBZ'\n",
    "targetCounts = {}\n",
    "for entry in comDFc['POS_sents']:\n",
    "    for sentence in entry:\n",
    "        for ent, kind in sentence:\n",
    "            if kind != countTarget:\n",
    "                continue\n",
    "            elif ent in targetCounts:\n",
    "                targetCounts[ent] += 1\n",
    "            else:\n",
    "                targetCounts[ent] = 1\n",
    "sortedTargetsVBZ = sorted(targetCounts.items(), key = lambda x: x[1], reverse = True)\n",
    "sortedTargetsVBZ[:20]"
   ]
  },
  {
   "cell_type": "code",
   "execution_count": 175,
   "metadata": {},
   "outputs": [],
   "source": [
    "#saving the list as a .txt\n",
    "import pickle\n",
    "with open (\"sortedTargetsVBZ.txt\", \"wb\") as fp:\n",
    "    pickle.dump(sortedTargetsVBZ, fp)"
   ]
  },
  {
   "cell_type": "code",
   "execution_count": 176,
   "metadata": {},
   "outputs": [
    {
     "data": {
      "text/plain": [
       "['aims',\n",
       " 'thoughts',\n",
       " 'queries',\n",
       " 'experiences',\n",
       " 'cwbym',\n",
       " 'emotions',\n",
       " 'takes',\n",
       " 'identities',\n",
       " 'requires',\n",
       " 'minutes',\n",
       " 'tests',\n",
       " 'relates',\n",
       " 'involves',\n",
       " 'explains',\n",
       " 'toddlers',\n",
       " 'includes']"
      ]
     },
     "execution_count": 176,
     "metadata": {},
     "output_type": "execute_result"
    }
   ],
   "source": [
    "reduced_sortedTargetsVBZ = sortedTargetsVBZ[:20]\n",
    "VBZ_keywordsList = [(a) for a,b in reduced_sortedTargetsVBZ]\n",
    "VBZ_keywordsList"
   ]
  },
  {
   "cell_type": "code",
   "execution_count": 177,
   "metadata": {},
   "outputs": [],
   "source": [
    "#saving the list as a .txt\n",
    "import pickle\n",
    "with open (\"VBZ_keywordsList.txt\", \"wb\") as fp:\n",
    "    pickle.dump(VBZ_keywordsList, fp)"
   ]
  },
  {
   "cell_type": "code",
   "execution_count": 178,
   "metadata": {
    "scrolled": false
   },
   "outputs": [
    {
     "data": {
      "text/plain": [
       "<BarContainer object of 16 artists>"
      ]
     },
     "execution_count": 178,
     "metadata": {},
     "output_type": "execute_result"
    },
    {
     "data": {
      "image/png": "[encoded data removed]",
      "text/plain": [
       "<Figure size 1008x720 with 1 Axes>"
      ]
     },
     "metadata": {
      "needs_background": "light"
     },
     "output_type": "display_data"
    }
   ],
   "source": [
    "VBZ = sortedTargetsVBZ[:20]\n",
    "\n",
    "ax = fig.add_subplot(111)\n",
    "fig, ax = plt.subplots(figsize=(14, 10))\n",
    "\n",
    "ax.invert_yaxis() \n",
    "ax.set_xlabel('Counts')\n",
    "ax.set_title('Adjectives')\n",
    "\n",
    "\n",
    "plt.barh(*zip(*VBZ))"
   ]
  },
  {
   "cell_type": "code",
   "execution_count": null,
   "metadata": {},
   "outputs": [],
   "source": []
  }
 ],
 "metadata": {
  "kernelspec": {
   "display_name": "Python 3",
   "language": "python",
   "name": "python3"
  },
  "language_info": {
   "codemirror_mode": {
    "name": "ipython",
    "version": 3
   },
   "file_extension": ".py",
   "mimetype": "text/x-python",
   "name": "python",
   "nbconvert_exporter": "python",
   "pygments_lexer": "ipython3",
   "version": "3.7.3"
  }
 },
 "nbformat": 4,
 "nbformat_minor": 2
}
